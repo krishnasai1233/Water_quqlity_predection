{
 "cells": [
  {
   "cell_type": "code",
   "execution_count": 7,
   "metadata": {
    "id": "NRc-5RShQ1Q2"
   },
   "outputs": [],
   "source": [
    "import re # regex\n",
    "import pandas as pd # tables\n",
    "import matplotlib.pyplot as plt # plots\n",
    "import seaborn as sns # plots\n",
    "import numpy as np # operations with arrays and matrices "
   ]
  },
  {
   "cell_type": "code",
   "execution_count": 6,
   "metadata": {},
   "outputs": [
    {
     "name": "stdout",
     "output_type": "stream",
     "text": [
      "Collecting seabornNote: you may need to restart the kernel to use updated packages.\n",
      "\n",
      "  Using cached seaborn-0.13.2-py3-none-any.whl.metadata (5.4 kB)\n",
      "Requirement already satisfied: numpy!=1.24.0,>=1.20 in c:\\users\\krishna sai\\appdata\\local\\programs\\python\\python311\\lib\\site-packages (from seaborn) (1.24.4)\n",
      "Requirement already satisfied: pandas>=1.2 in c:\\users\\krishna sai\\appdata\\local\\programs\\python\\python311\\lib\\site-packages (from seaborn) (2.1.4)\n",
      "Requirement already satisfied: matplotlib!=3.6.1,>=3.4 in c:\\users\\krishna sai\\appdata\\local\\programs\\python\\python311\\lib\\site-packages (from seaborn) (3.8.2)\n",
      "Requirement already satisfied: contourpy>=1.0.1 in c:\\users\\krishna sai\\appdata\\local\\programs\\python\\python311\\lib\\site-packages (from matplotlib!=3.6.1,>=3.4->seaborn) (1.2.0)\n",
      "Requirement already satisfied: cycler>=0.10 in c:\\users\\krishna sai\\appdata\\local\\programs\\python\\python311\\lib\\site-packages (from matplotlib!=3.6.1,>=3.4->seaborn) (0.12.1)\n",
      "Requirement already satisfied: fonttools>=4.22.0 in c:\\users\\krishna sai\\appdata\\local\\programs\\python\\python311\\lib\\site-packages (from matplotlib!=3.6.1,>=3.4->seaborn) (4.46.0)\n",
      "Requirement already satisfied: kiwisolver>=1.3.1 in c:\\users\\krishna sai\\appdata\\local\\programs\\python\\python311\\lib\\site-packages (from matplotlib!=3.6.1,>=3.4->seaborn) (1.4.5)\n",
      "Requirement already satisfied: packaging>=20.0 in c:\\users\\krishna sai\\appdata\\local\\programs\\python\\python311\\lib\\site-packages (from matplotlib!=3.6.1,>=3.4->seaborn) (23.2)\n",
      "Requirement already satisfied: pillow>=8 in c:\\users\\krishna sai\\appdata\\local\\programs\\python\\python311\\lib\\site-packages (from matplotlib!=3.6.1,>=3.4->seaborn) (10.1.0)\n",
      "Requirement already satisfied: pyparsing>=2.3.1 in c:\\users\\krishna sai\\appdata\\local\\programs\\python\\python311\\lib\\site-packages (from matplotlib!=3.6.1,>=3.4->seaborn) (3.1.1)\n",
      "Requirement already satisfied: python-dateutil>=2.7 in c:\\users\\krishna sai\\appdata\\local\\programs\\python\\python311\\lib\\site-packages (from matplotlib!=3.6.1,>=3.4->seaborn) (2.8.2)\n",
      "Requirement already satisfied: pytz>=2020.1 in c:\\users\\krishna sai\\appdata\\local\\programs\\python\\python311\\lib\\site-packages (from pandas>=1.2->seaborn) (2023.3.post1)\n",
      "Requirement already satisfied: tzdata>=2022.1 in c:\\users\\krishna sai\\appdata\\local\\programs\\python\\python311\\lib\\site-packages (from pandas>=1.2->seaborn) (2023.3)\n",
      "Requirement already satisfied: six>=1.5 in c:\\users\\krishna sai\\appdata\\local\\programs\\python\\python311\\lib\\site-packages (from python-dateutil>=2.7->matplotlib!=3.6.1,>=3.4->seaborn) (1.16.0)\n",
      "Using cached seaborn-0.13.2-py3-none-any.whl (294 kB)\n",
      "Installing collected packages: seaborn\n",
      "Successfully installed seaborn-0.13.2\n"
     ]
    }
   ],
   "source": [
    "! pip install seaborn"
   ]
  },
  {
   "cell_type": "markdown",
   "metadata": {
    "id": "6DSuE1EfTfYJ"
   },
   "source": [
    "Load & explore data"
   ]
  },
  {
   "cell_type": "code",
   "execution_count": 8,
   "metadata": {
    "colab": {
     "base_uri": "https://localhost:8080/",
     "height": 143,
     "resources": {
      "http://localhost:8080/nbextensions/google.colab/files.js": {
       "data": "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",
       "headers": [
        [
         "content-type",
         "application/javascript"
        ]
       ],
       "ok": true,
       "status": 200,
       "status_text": ""
      }
     }
    },
    "id": "-szBUufmU-0t",
    "outputId": "76da8689-6614-4f39-c664-ea916ce0b336"
   },
   "outputs": [
    {
     "ename": "ModuleNotFoundError",
     "evalue": "No module named 'google.colab'",
     "output_type": "error",
     "traceback": [
      "\u001b[1;31m---------------------------------------------------------------------------\u001b[0m",
      "\u001b[1;31mModuleNotFoundError\u001b[0m                       Traceback (most recent call last)",
      "Cell \u001b[1;32mIn[6], line 1\u001b[0m\n\u001b[1;32m----> 1\u001b[0m \u001b[38;5;28;01mfrom\u001b[39;00m \u001b[38;5;21;01mgoogle\u001b[39;00m\u001b[38;5;21;01m.\u001b[39;00m\u001b[38;5;21;01mcolab\u001b[39;00m \u001b[38;5;28;01mimport\u001b[39;00m files\n\u001b[0;32m      2\u001b[0m uploaded \u001b[38;5;241m=\u001b[39m files\u001b[38;5;241m.\u001b[39mupload()\n",
      "\u001b[1;31mModuleNotFoundError\u001b[0m: No module named 'google.colab'"
     ]
    }
   ],
   "source": [
    "import fileupload\n",
    "import io\n",
    "\n",
    "def upload_files():\n",
    "    uploader = fileupload.FileUploadWidget()\n",
    "    display(uploader)\n",
    "\n",
    "    uploaded_files = []\n",
    "    for upload in uploader.value:\n",
    "        with io.BytesIO(upload['content']) as f:\n",
    "            uploaded_files.append(f.read().decode('utf-8'))\n",
    "    return uploaded_files\n",
    "\n",
    "uploaded = upload_files()\n"
   ]
  },
  {
   "cell_type": "code",
   "execution_count": 8,
   "metadata": {
    "id": "ZsLY1MwoTw-G"
   },
   "outputs": [],
   "source": [
    "train = pd.read_csv('train.txt', header=None, sep=';', names=['Lines','Emotions'], encoding='utf-8')\n",
    "test = pd.read_csv('test.txt', header=None, sep =';', names=['Lines','Emotions'], encoding='utf-8')\n",
    "validation = pd.read_csv('val.txt', header=None, sep=';', names=['Lines','Emotions'], encoding='utf-8')"
   ]
  },
  {
   "cell_type": "code",
   "execution_count": 16,
   "metadata": {
    "id": "gIZhxofuVjAv"
   },
   "outputs": [],
   "source": [
    "# adding a column with encoded emotions\n",
    "emotions_to_labels = {'anger': 0, 'love': 1, 'fear': 2, 'joy': 3, 'sadness': 4,'surprise': 5}\n",
    "labels_to_emotions = {j:i for i,j in emotions_to_labels.items()}\n",
    "\n",
    "train['Labels'] = train['Emotions'].replace(emotions_to_labels)\n",
    "test['Labels'] = test['Emotions'].replace(emotions_to_labels)\n",
    "validation['Labels'] = validation['Emotions'].replace(emotions_to_labels)"
   ]
  },
  {
   "cell_type": "code",
   "execution_count": 17,
   "metadata": {
    "colab": {
     "base_uri": "https://localhost:8080/",
     "height": 206
    },
    "id": "MDzZ4vDvVmSM",
    "outputId": "8d6ff76e-51af-4fd3-9212-eccca0a54ef6"
   },
   "outputs": [
    {
     "data": {
      "text/html": [
       "<div>\n",
       "<style scoped>\n",
       "    .dataframe tbody tr th:only-of-type {\n",
       "        vertical-align: middle;\n",
       "    }\n",
       "\n",
       "    .dataframe tbody tr th {\n",
       "        vertical-align: top;\n",
       "    }\n",
       "\n",
       "    .dataframe thead th {\n",
       "        text-align: right;\n",
       "    }\n",
       "</style>\n",
       "<table border=\"1\" class=\"dataframe\">\n",
       "  <thead>\n",
       "    <tr style=\"text-align: right;\">\n",
       "      <th></th>\n",
       "      <th>Lines</th>\n",
       "      <th>Emotions</th>\n",
       "      <th>Labels</th>\n",
       "    </tr>\n",
       "  </thead>\n",
       "  <tbody>\n",
       "    <tr>\n",
       "      <th>0</th>\n",
       "      <td>i didnt feel humiliated</td>\n",
       "      <td>sadness</td>\n",
       "      <td>4</td>\n",
       "    </tr>\n",
       "    <tr>\n",
       "      <th>1</th>\n",
       "      <td>i can go from feeling so hopeless to so damned...</td>\n",
       "      <td>sadness</td>\n",
       "      <td>4</td>\n",
       "    </tr>\n",
       "    <tr>\n",
       "      <th>2</th>\n",
       "      <td>im grabbing a minute to post i feel greedy wrong</td>\n",
       "      <td>anger</td>\n",
       "      <td>0</td>\n",
       "    </tr>\n",
       "    <tr>\n",
       "      <th>3</th>\n",
       "      <td>i am ever feeling nostalgic about the fireplac...</td>\n",
       "      <td>love</td>\n",
       "      <td>1</td>\n",
       "    </tr>\n",
       "    <tr>\n",
       "      <th>4</th>\n",
       "      <td>i am feeling grouchy</td>\n",
       "      <td>anger</td>\n",
       "      <td>0</td>\n",
       "    </tr>\n",
       "  </tbody>\n",
       "</table>\n",
       "</div>"
      ],
      "text/plain": [
       "                                               Lines Emotions  Labels\n",
       "0                            i didnt feel humiliated  sadness       4\n",
       "1  i can go from feeling so hopeless to so damned...  sadness       4\n",
       "2   im grabbing a minute to post i feel greedy wrong    anger       0\n",
       "3  i am ever feeling nostalgic about the fireplac...     love       1\n",
       "4                               i am feeling grouchy    anger       0"
      ]
     },
     "execution_count": 17,
     "metadata": {},
     "output_type": "execute_result"
    }
   ],
   "source": [
    "train.head()"
   ]
  },
  {
   "cell_type": "markdown",
   "metadata": {
    "id": "4AfHcrn3VtBk"
   },
   "source": [
    "Exploratory Data Analysis"
   ]
  },
  {
   "cell_type": "code",
   "execution_count": 19,
   "metadata": {
    "id": "Mra4KAUNVvg_"
   },
   "outputs": [],
   "source": [
    "def visualize_labels_distribution(df, title='the'):\n",
    "  '''\n",
    "  Accepts a dataframe with 'Emotions' column and dataset title (e.g. 'train')\n",
    "  Creates bar chart with num of elements of each category\n",
    "  Returns nothing\n",
    "\n",
    "  '''\n",
    "  # create a pandas series with labels and their counts\n",
    "  num_labels = df['Emotions'].value_counts()\n",
    "\n",
    "  # num of unique categories\n",
    "  x_barchart = range(df['Emotions'].nunique())\n",
    "  # list of labels\n",
    "  x_barchart_labels = [str(emotions_to_labels[emotion]) +\\\n",
    "                       ' - ' + emotion for emotion in list(num_labels.index)]\n",
    "\n",
    "  # list of counts\n",
    "  y_barchart = list(num_labels.values)\n",
    "\n",
    "  # creating bar chart\n",
    "  plt.figure(figsize = (6, 5))\n",
    "  plt.bar(x_barchart, y_barchart, color='#707bfb')\n",
    "\n",
    "  # adding num of elements for each category on plot as text\n",
    "  for index, data in enumerate(y_barchart):\n",
    "    plt.text(x = index, \n",
    "            y = data+max(y_barchart)/100, \n",
    "            s = '{}'.format(data), \n",
    "            fontdict = dict(fontsize=10), \n",
    "            ha = 'center',)\n",
    "  \n",
    "  plt.xticks(x_barchart, x_barchart_labels, rotation=40)\n",
    "  plt.title('Num of elements of each category for {} dataset'.format(title))\n",
    "  plt.tight_layout()\n",
    "\n",
    "  print('There are {} records in the dataset.\\n'.format(len(df.index)))\n",
    "\n",
    "  plt.show()"
   ]
  },
  {
   "cell_type": "code",
   "execution_count": 20,
   "metadata": {
    "colab": {
     "base_uri": "https://localhost:8080/",
     "height": 1000
    },
    "id": "zteKpi7YV2WF",
    "outputId": "fc31628a-205c-440f-fb1e-7949b7118004"
   },
   "outputs": [
    {
     "name": "stdout",
     "output_type": "stream",
     "text": [
      "There are 16000 records in the dataset.\n",
      "\n"
     ]
    },
    {
     "data": {
      "image/png": "[encoded data removed]",
      "text/plain": [
       "<Figure size 600x500 with 1 Axes>"
      ]
     },
     "metadata": {},
     "output_type": "display_data"
    },
    {
     "name": "stdout",
     "output_type": "stream",
     "text": [
      "There are 2000 records in the dataset.\n",
      "\n"
     ]
    },
    {
     "data": {
      "image/png": "[encoded data removed]",
      "text/plain": [
       "<Figure size 600x500 with 1 Axes>"
      ]
     },
     "metadata": {},
     "output_type": "display_data"
    },
    {
     "name": "stdout",
     "output_type": "stream",
     "text": [
      "There are 2000 records in the dataset.\n",
      "\n"
     ]
    },
    {
     "data": {
      "image/png": "[encoded data removed]",
      "text/plain": [
       "<Figure size 600x500 with 1 Axes>"
      ]
     },
     "metadata": {},
     "output_type": "display_data"
    }
   ],
   "source": [
    "visualize_labels_distribution(train, 'train')\n",
    "visualize_labels_distribution(test, 'test')\n",
    "visualize_labels_distribution(validation, 'val')"
   ]
  },
  {
   "cell_type": "code",
   "execution_count": 22,
   "metadata": {},
   "outputs": [
    {
     "name": "stdout",
     "output_type": "stream",
     "text": [
      "Collecting nltk\n",
      "  Downloading nltk-3.8.1-py3-none-any.whl.metadata (2.8 kB)\n",
      "Requirement already satisfied: click in c:\\users\\krishna sai\\appdata\\local\\programs\\python\\python311\\lib\\site-packages (from nltk) (8.1.7)\n",
      "Requirement already satisfied: joblib in c:\\users\\krishna sai\\appdata\\local\\programs\\python\\python311\\lib\\site-packages (from nltk) (1.3.2)\n",
      "Collecting regex>=2021.8.3 (from nltk)\n",
      "  Downloading regex-2024.4.16-cp311-cp311-win_amd64.whl.metadata (41 kB)\n",
      "     ---------------------------------------- 0.0/42.0 kB ? eta -:--:--\n",
      "     ---------------------------------------- 0.0/42.0 kB ? eta -:--:--\n",
      "     --------- ------------------------------ 10.2/42.0 kB ? eta -:--:--\n",
      "     ------------------ ------------------- 20.5/42.0 kB 217.9 kB/s eta 0:00:01\n",
      "     --------------------------- ---------- 30.7/42.0 kB 186.2 kB/s eta 0:00:01\n",
      "     -------------------------------------- 42.0/42.0 kB 184.5 kB/s eta 0:00:00\n",
      "Requirement already satisfied: tqdm in c:\\users\\krishna sai\\appdata\\local\\programs\\python\\python311\\lib\\site-packages (from nltk) (4.66.1)\n",
      "Requirement already satisfied: colorama in c:\\users\\krishna sai\\appdata\\local\\programs\\python\\python311\\lib\\site-packages (from click->nltk) (0.4.6)\n",
      "Downloading nltk-3.8.1-py3-none-any.whl (1.5 MB)\n",
      "   ---------------------------------------- 0.0/1.5 MB ? eta -:--:--\n",
      "   ---------------------------------------- 0.0/1.5 MB ? eta -:--:--\n",
      "   ---------------------------------------- 0.0/1.5 MB ? eta -:--:--\n",
      "   ---------------------------------------- 0.0/1.5 MB ? eta -:--:--\n",
      "    --------------------------------------- 0.0/1.5 MB 217.9 kB/s eta 0:00:07\n",
      "   - -------------------------------------- 0.0/1.5 MB 178.6 kB/s eta 0:00:09\n",
      "   - -------------------------------------- 0.0/1.5 MB 178.6 kB/s eta 0:00:09\n",
      "   - -------------------------------------- 0.1/1.5 MB 217.9 kB/s eta 0:00:07\n",
      "   - -------------------------------------- 0.1/1.5 MB 217.9 kB/s eta 0:00:07\n",
      "   - -------------------------------------- 0.1/1.5 MB 186.7 kB/s eta 0:00:08\n",
      "   - -------------------------------------- 0.1/1.5 MB 186.7 kB/s eta 0:00:08\n",
      "   -- ------------------------------------- 0.1/1.5 MB 201.3 kB/s eta 0:00:08\n",
      "   -- ------------------------------------- 0.1/1.5 MB 201.3 kB/s eta 0:00:08\n",
      "   -- ------------------------------------- 0.1/1.5 MB 204.8 kB/s eta 0:00:07\n",
      "   --- ------------------------------------ 0.1/1.5 MB 200.1 kB/s eta 0:00:07\n",
      "   --- ------------------------------------ 0.1/1.5 MB 200.1 kB/s eta 0:00:07\n",
      "   --- ------------------------------------ 0.1/1.5 MB 200.1 kB/s eta 0:00:07\n",
      "   --- ------------------------------------ 0.1/1.5 MB 198.1 kB/s eta 0:00:07\n",
      "   ---- ----------------------------------- 0.2/1.5 MB 195.0 kB/s eta 0:00:07\n",
      "   ---- ----------------------------------- 0.2/1.5 MB 195.0 kB/s eta 0:00:07\n",
      "   ---- ----------------------------------- 0.2/1.5 MB 201.5 kB/s eta 0:00:07\n",
      "   ---- ----------------------------------- 0.2/1.5 MB 201.5 kB/s eta 0:00:07\n",
      "   ----- ---------------------------------- 0.2/1.5 MB 203.2 kB/s eta 0:00:07\n",
      "   ----- ---------------------------------- 0.2/1.5 MB 203.2 kB/s eta 0:00:07\n",
      "   ----- ---------------------------------- 0.2/1.5 MB 197.5 kB/s eta 0:00:07\n",
      "   ----- ---------------------------------- 0.2/1.5 MB 199.3 kB/s eta 0:00:07\n",
      "   ----- ---------------------------------- 0.2/1.5 MB 199.3 kB/s eta 0:00:07\n",
      "   ------ --------------------------------- 0.2/1.5 MB 197.4 kB/s eta 0:00:07\n",
      "   ------ --------------------------------- 0.2/1.5 MB 197.4 kB/s eta 0:00:07\n",
      "   ------ --------------------------------- 0.3/1.5 MB 199.0 kB/s eta 0:00:07\n",
      "   ------ --------------------------------- 0.3/1.5 MB 199.0 kB/s eta 0:00:07\n",
      "   ------- -------------------------------- 0.3/1.5 MB 202.8 kB/s eta 0:00:07\n",
      "   ------- -------------------------------- 0.3/1.5 MB 202.8 kB/s eta 0:00:07\n",
      "   ------- -------------------------------- 0.3/1.5 MB 196.5 kB/s eta 0:00:07\n",
      "   -------- ------------------------------- 0.3/1.5 MB 202.2 kB/s eta 0:00:06\n",
      "   -------- ------------------------------- 0.3/1.5 MB 202.2 kB/s eta 0:00:06\n",
      "   -------- ------------------------------- 0.3/1.5 MB 196.5 kB/s eta 0:00:07\n",
      "   -------- ------------------------------- 0.3/1.5 MB 196.5 kB/s eta 0:00:07\n",
      "   -------- ------------------------------- 0.3/1.5 MB 197.8 kB/s eta 0:00:06\n",
      "   -------- ------------------------------- 0.3/1.5 MB 197.8 kB/s eta 0:00:06\n",
      "   --------- ------------------------------ 0.4/1.5 MB 200.7 kB/s eta 0:00:06\n",
      "   --------- ------------------------------ 0.4/1.5 MB 200.7 kB/s eta 0:00:06\n",
      "   --------- ------------------------------ 0.4/1.5 MB 197.7 kB/s eta 0:00:06\n",
      "   --------- ------------------------------ 0.4/1.5 MB 197.7 kB/s eta 0:00:06\n",
      "   ---------- ----------------------------- 0.4/1.5 MB 198.7 kB/s eta 0:00:06\n",
      "   ---------- ----------------------------- 0.4/1.5 MB 197.6 kB/s eta 0:00:06\n",
      "   ---------- ----------------------------- 0.4/1.5 MB 197.6 kB/s eta 0:00:06\n",
      "   ----------- ---------------------------- 0.4/1.5 MB 198.5 kB/s eta 0:00:06\n",
      "   ----------- ---------------------------- 0.4/1.5 MB 198.5 kB/s eta 0:00:06\n",
      "   ----------- ---------------------------- 0.4/1.5 MB 200.9 kB/s eta 0:00:06\n",
      "   ----------- ---------------------------- 0.4/1.5 MB 200.9 kB/s eta 0:00:06\n",
      "   ----------- ---------------------------- 0.5/1.5 MB 198.4 kB/s eta 0:00:06\n",
      "   ----------- ---------------------------- 0.5/1.5 MB 198.4 kB/s eta 0:00:06\n",
      "   ------------ --------------------------- 0.5/1.5 MB 197.9 kB/s eta 0:00:06\n",
      "   ------------ --------------------------- 0.5/1.5 MB 198.3 kB/s eta 0:00:06\n",
      "   ------------ --------------------------- 0.5/1.5 MB 198.3 kB/s eta 0:00:06\n",
      "   ------------- -------------------------- 0.5/1.5 MB 199.1 kB/s eta 0:00:06\n",
      "   ------------- -------------------------- 0.5/1.5 MB 199.1 kB/s eta 0:00:06\n",
      "   ------------- -------------------------- 0.5/1.5 MB 201.0 kB/s eta 0:00:05\n",
      "   ------------- -------------------------- 0.5/1.5 MB 201.0 kB/s eta 0:00:05\n",
      "   -------------- ------------------------- 0.5/1.5 MB 197.7 kB/s eta 0:00:05\n",
      "   -------------- ------------------------- 0.5/1.5 MB 197.7 kB/s eta 0:00:05\n",
      "   -------------- ------------------------- 0.6/1.5 MB 200.7 kB/s eta 0:00:05\n",
      "   -------------- ------------------------- 0.6/1.5 MB 200.7 kB/s eta 0:00:05\n",
      "   -------------- ------------------------- 0.6/1.5 MB 197.7 kB/s eta 0:00:05\n",
      "   --------------- ------------------------ 0.6/1.5 MB 198.4 kB/s eta 0:00:05\n",
      "   --------------- ------------------------ 0.6/1.5 MB 198.4 kB/s eta 0:00:05\n",
      "   --------------- ------------------------ 0.6/1.5 MB 200.0 kB/s eta 0:00:05\n",
      "   --------------- ------------------------ 0.6/1.5 MB 200.0 kB/s eta 0:00:05\n",
      "   ---------------- ----------------------- 0.6/1.5 MB 198.3 kB/s eta 0:00:05\n",
      "   ---------------- ----------------------- 0.6/1.5 MB 198.3 kB/s eta 0:00:05\n",
      "   ---------------- ----------------------- 0.6/1.5 MB 199.9 kB/s eta 0:00:05\n",
      "   ---------------- ----------------------- 0.6/1.5 MB 199.9 kB/s eta 0:00:05\n",
      "   ----------------- ---------------------- 0.6/1.5 MB 197.2 kB/s eta 0:00:05\n",
      "   ----------------- ---------------------- 0.7/1.5 MB 198.8 kB/s eta 0:00:05\n",
      "   ----------------- ---------------------- 0.7/1.5 MB 198.8 kB/s eta 0:00:05\n",
      "   ------------------ --------------------- 0.7/1.5 MB 201.1 kB/s eta 0:00:05\n",
      "   ------------------ --------------------- 0.7/1.5 MB 201.1 kB/s eta 0:00:05\n",
      "   ------------------ --------------------- 0.7/1.5 MB 197.8 kB/s eta 0:00:05\n",
      "   ------------------ --------------------- 0.7/1.5 MB 197.8 kB/s eta 0:00:05\n",
      "   ------------------ --------------------- 0.7/1.5 MB 199.2 kB/s eta 0:00:04\n",
      "   ------------------ --------------------- 0.7/1.5 MB 199.2 kB/s eta 0:00:04\n",
      "   ------------------- -------------------- 0.7/1.5 MB 197.7 kB/s eta 0:00:04\n",
      "   ------------------- -------------------- 0.7/1.5 MB 197.7 kB/s eta 0:00:04\n",
      "   ------------------- -------------------- 0.7/1.5 MB 198.2 kB/s eta 0:00:04\n",
      "   -------------------- ------------------- 0.8/1.5 MB 199.6 kB/s eta 0:00:04\n",
      "   -------------------- ------------------- 0.8/1.5 MB 199.6 kB/s eta 0:00:04\n",
      "   -------------------- ------------------- 0.8/1.5 MB 198.2 kB/s eta 0:00:04\n",
      "   -------------------- ------------------- 0.8/1.5 MB 198.2 kB/s eta 0:00:04\n",
      "   --------------------- ------------------ 0.8/1.5 MB 198.7 kB/s eta 0:00:04\n",
      "   --------------------- ------------------ 0.8/1.5 MB 198.7 kB/s eta 0:00:04\n",
      "   --------------------- ------------------ 0.8/1.5 MB 198.1 kB/s eta 0:00:04\n",
      "   --------------------- ------------------ 0.8/1.5 MB 198.1 kB/s eta 0:00:04\n",
      "   --------------------- ------------------ 0.8/1.5 MB 198.6 kB/s eta 0:00:04\n",
      "   ---------------------- ----------------- 0.8/1.5 MB 200.5 kB/s eta 0:00:04\n",
      "   ---------------------- ----------------- 0.8/1.5 MB 200.5 kB/s eta 0:00:04\n",
      "   ---------------------- ----------------- 0.9/1.5 MB 198.5 kB/s eta 0:00:04\n",
      "   ---------------------- ----------------- 0.9/1.5 MB 198.5 kB/s eta 0:00:04\n",
      "   ----------------------- ---------------- 0.9/1.5 MB 198.9 kB/s eta 0:00:04\n",
      "   ----------------------- ---------------- 0.9/1.5 MB 198.9 kB/s eta 0:00:04\n",
      "   ----------------------- ---------------- 0.9/1.5 MB 197.1 kB/s eta 0:00:04\n",
      "   ----------------------- ---------------- 0.9/1.5 MB 197.1 kB/s eta 0:00:04\n",
      "   ------------------------ --------------- 0.9/1.5 MB 198.8 kB/s eta 0:00:04\n",
      "   ------------------------ --------------- 0.9/1.5 MB 199.9 kB/s eta 0:00:03\n",
      "   ------------------------ --------------- 0.9/1.5 MB 199.9 kB/s eta 0:00:03\n",
      "   ------------------------ --------------- 0.9/1.5 MB 198.1 kB/s eta 0:00:03\n",
      "   ------------------------ --------------- 0.9/1.5 MB 198.1 kB/s eta 0:00:03\n",
      "   ------------------------- -------------- 1.0/1.5 MB 199.1 kB/s eta 0:00:03\n",
      "   ------------------------- -------------- 1.0/1.5 MB 199.1 kB/s eta 0:00:03\n",
      "   ------------------------- -------------- 1.0/1.5 MB 198.1 kB/s eta 0:00:03\n",
      "   ------------------------- -------------- 1.0/1.5 MB 198.1 kB/s eta 0:00:03\n",
      "   -------------------------- ------------- 1.0/1.5 MB 198.4 kB/s eta 0:00:03\n",
      "   -------------------------- ------------- 1.0/1.5 MB 198.4 kB/s eta 0:00:03\n",
      "   -------------------------- ------------- 1.0/1.5 MB 199.4 kB/s eta 0:00:03\n",
      "   --------------------------- ------------ 1.0/1.5 MB 198.4 kB/s eta 0:00:03\n",
      "   --------------------------- ------------ 1.0/1.5 MB 198.4 kB/s eta 0:00:03\n",
      "   --------------------------- ------------ 1.0/1.5 MB 199.4 kB/s eta 0:00:03\n",
      "   --------------------------- ------------ 1.0/1.5 MB 199.4 kB/s eta 0:00:03\n",
      "   --------------------------- ------------ 1.1/1.5 MB 197.7 kB/s eta 0:00:03\n",
      "   --------------------------- ------------ 1.1/1.5 MB 197.7 kB/s eta 0:00:03\n",
      "   ---------------------------- ----------- 1.1/1.5 MB 198.7 kB/s eta 0:00:03\n",
      "   ---------------------------- ----------- 1.1/1.5 MB 198.7 kB/s eta 0:00:03\n",
      "   ----------------------------- ---------- 1.1/1.5 MB 199.6 kB/s eta 0:00:03\n",
      "   ----------------------------- ---------- 1.1/1.5 MB 198.6 kB/s eta 0:00:03\n",
      "   ----------------------------- ---------- 1.1/1.5 MB 198.6 kB/s eta 0:00:03\n",
      "   ----------------------------- ---------- 1.1/1.5 MB 199.0 kB/s eta 0:00:02\n",
      "   ----------------------------- ---------- 1.1/1.5 MB 199.0 kB/s eta 0:00:02\n",
      "   ------------------------------ --------- 1.1/1.5 MB 198.0 kB/s eta 0:00:02\n",
      "   ------------------------------ --------- 1.1/1.5 MB 198.0 kB/s eta 0:00:02\n",
      "   ------------------------------ --------- 1.2/1.5 MB 198.9 kB/s eta 0:00:02\n",
      "   ------------------------------ --------- 1.2/1.5 MB 198.9 kB/s eta 0:00:02\n",
      "   ------------------------------- -------- 1.2/1.5 MB 199.8 kB/s eta 0:00:02\n",
      "   ------------------------------- -------- 1.2/1.5 MB 198.9 kB/s eta 0:00:02\n",
      "   ------------------------------- -------- 1.2/1.5 MB 198.9 kB/s eta 0:00:02\n",
      "   ------------------------------- -------- 1.2/1.5 MB 198.9 kB/s eta 0:00:02\n",
      "   ------------------------------- -------- 1.2/1.5 MB 198.6 kB/s eta 0:00:02\n",
      "   -------------------------------- ------- 1.2/1.5 MB 197.8 kB/s eta 0:00:02\n",
      "   -------------------------------- ------- 1.2/1.5 MB 197.8 kB/s eta 0:00:02\n",
      "   -------------------------------- ------- 1.2/1.5 MB 198.6 kB/s eta 0:00:02\n",
      "   -------------------------------- ------- 1.2/1.5 MB 198.6 kB/s eta 0:00:02\n",
      "   --------------------------------- ------ 1.3/1.5 MB 199.9 kB/s eta 0:00:02\n",
      "   --------------------------------- ------ 1.3/1.5 MB 198.5 kB/s eta 0:00:02\n",
      "   --------------------------------- ------ 1.3/1.5 MB 198.5 kB/s eta 0:00:02\n",
      "   ---------------------------------- ----- 1.3/1.5 MB 199.3 kB/s eta 0:00:02\n",
      "   ---------------------------------- ----- 1.3/1.5 MB 199.3 kB/s eta 0:00:02\n",
      "   ---------------------------------- ----- 1.3/1.5 MB 198.0 kB/s eta 0:00:02\n",
      "   ---------------------------------- ----- 1.3/1.5 MB 198.0 kB/s eta 0:00:02\n",
      "   ---------------------------------- ----- 1.3/1.5 MB 198.8 kB/s eta 0:00:01\n",
      "   ---------------------------------- ----- 1.3/1.5 MB 198.8 kB/s eta 0:00:01\n",
      "   ----------------------------------- ---- 1.3/1.5 MB 199.5 kB/s eta 0:00:01\n",
      "   ----------------------------------- ---- 1.4/1.5 MB 198.7 kB/s eta 0:00:01\n",
      "   ----------------------------------- ---- 1.4/1.5 MB 198.7 kB/s eta 0:00:01\n",
      "   ------------------------------------ --- 1.4/1.5 MB 199.0 kB/s eta 0:00:01\n",
      "   ------------------------------------ --- 1.4/1.5 MB 199.0 kB/s eta 0:00:01\n",
      "   ------------------------------------ --- 1.4/1.5 MB 198.2 kB/s eta 0:00:01\n",
      "   ------------------------------------ --- 1.4/1.5 MB 198.2 kB/s eta 0:00:01\n",
      "   ------------------------------------- -- 1.4/1.5 MB 198.5 kB/s eta 0:00:01\n",
      "   ------------------------------------- -- 1.4/1.5 MB 199.2 kB/s eta 0:00:01\n",
      "   ------------------------------------- -- 1.4/1.5 MB 199.2 kB/s eta 0:00:01\n",
      "   ------------------------------------- -- 1.4/1.5 MB 198.5 kB/s eta 0:00:01\n",
      "   ------------------------------------- -- 1.4/1.5 MB 198.5 kB/s eta 0:00:01\n",
      "   -------------------------------------- - 1.4/1.5 MB 198.1 kB/s eta 0:00:01\n",
      "   -------------------------------------- - 1.5/1.5 MB 199.3 kB/s eta 0:00:01\n",
      "   -------------------------------------- - 1.5/1.5 MB 199.3 kB/s eta 0:00:01\n",
      "   ---------------------------------------  1.5/1.5 MB 198.1 kB/s eta 0:00:01\n",
      "   ---------------------------------------  1.5/1.5 MB 198.1 kB/s eta 0:00:01\n",
      "   ---------------------------------------  1.5/1.5 MB 199.2 kB/s eta 0:00:01\n",
      "   ---------------------------------------- 1.5/1.5 MB 199.2 kB/s eta 0:00:00\n",
      "Downloading regex-2024.4.16-cp311-cp311-win_amd64.whl (268 kB)\n",
      "   ---------------------------------------- 0.0/268.9 kB ? eta -:--:--\n",
      "   ---------------------------------------- 0.0/268.9 kB ? eta -:--:--\n",
      "   ---------------------------------------- 0.0/268.9 kB ? eta -:--:--\n",
      "   - -------------------------------------- 10.2/268.9 kB ? eta -:--:--\n",
      "   ---- ---------------------------------- 30.7/268.9 kB 217.9 kB/s eta 0:00:02\n",
      "   ---- ---------------------------------- 30.7/268.9 kB 217.9 kB/s eta 0:00:02\n",
      "   ----- --------------------------------- 41.0/268.9 kB 195.7 kB/s eta 0:00:02\n",
      "   -------- ------------------------------ 61.4/268.9 kB 233.8 kB/s eta 0:00:01\n",
      "   -------- ------------------------------ 61.4/268.9 kB 233.8 kB/s eta 0:00:01\n",
      "   ---------- ---------------------------- 71.7/268.9 kB 196.3 kB/s eta 0:00:02\n",
      "   ---------- ---------------------------- 71.7/268.9 kB 196.3 kB/s eta 0:00:02\n",
      "   ------------- ------------------------- 92.2/268.9 kB 209.5 kB/s eta 0:00:01\n",
      "   ------------- ------------------------- 92.2/268.9 kB 209.5 kB/s eta 0:00:01\n",
      "   -------------- ----------------------- 102.4/268.9 kB 196.5 kB/s eta 0:00:01\n",
      "   -------------- ----------------------- 102.4/268.9 kB 196.5 kB/s eta 0:00:01\n",
      "   ----------------- -------------------- 122.9/268.9 kB 205.9 kB/s eta 0:00:01\n",
      "   ------------------ ------------------- 133.1/268.9 kB 196.6 kB/s eta 0:00:01\n",
      "   ------------------ ------------------- 133.1/268.9 kB 196.6 kB/s eta 0:00:01\n",
      "   --------------------- ---------------- 153.6/268.9 kB 203.9 kB/s eta 0:00:01\n",
      "   --------------------- ---------------- 153.6/268.9 kB 203.9 kB/s eta 0:00:01\n",
      "   ------------------------ ------------- 174.1/268.9 kB 209.5 kB/s eta 0:00:01\n",
      "   -------------------------- ----------- 184.3/268.9 kB 202.4 kB/s eta 0:00:01\n",
      "   -------------------------- ----------- 184.3/268.9 kB 202.4 kB/s eta 0:00:01\n",
      "   --------------------------- ---------- 194.6/268.9 kB 196.5 kB/s eta 0:00:01\n",
      "   --------------------------- ---------- 194.6/268.9 kB 196.5 kB/s eta 0:00:01\n",
      "   ------------------------------ ------- 215.0/268.9 kB 201.6 kB/s eta 0:00:01\n",
      "   ------------------------------ ------- 215.0/268.9 kB 201.6 kB/s eta 0:00:01\n",
      "   --------------------------------- ---- 235.5/268.9 kB 203.0 kB/s eta 0:00:01\n",
      "   ---------------------------------- --- 245.8/268.9 kB 201.0 kB/s eta 0:00:01\n",
      "   ---------------------------------- --- 245.8/268.9 kB 201.0 kB/s eta 0:00:01\n",
      "   -------------------------------------- 268.9/268.9 kB 204.3 kB/s eta 0:00:00\n",
      "Installing collected packages: regex, nltk\n",
      "Successfully installed nltk-3.8.1 regex-2024.4.16\n",
      "Note: you may need to restart the kernel to use updated packages.\n"
     ]
    }
   ],
   "source": [
    "! pip install nltk"
   ]
  },
  {
   "cell_type": "markdown",
   "metadata": {
    "id": "jXYmTsabWCBZ"
   },
   "source": [
    "Text Preprocessing"
   ]
  },
  {
   "cell_type": "code",
   "execution_count": 23,
   "metadata": {
    "colab": {
     "base_uri": "https://localhost:8080/"
    },
    "id": "7LyDVJAmWE4u",
    "outputId": "a8f10790-34d1-47d7-d621-e8b5b9867173"
   },
   "outputs": [
    {
     "name": "stderr",
     "output_type": "stream",
     "text": [
      "[nltk_data] Downloading package punkt to C:\\Users\\Krishna\n",
      "[nltk_data]     Sai\\AppData\\Roaming\\nltk_data...\n",
      "[nltk_data]   Package punkt is already up-to-date!\n",
      "[nltk_data] Downloading package stopwords to C:\\Users\\Krishna\n",
      "[nltk_data]     Sai\\AppData\\Roaming\\nltk_data...\n",
      "[nltk_data]   Package stopwords is already up-to-date!\n"
     ]
    }
   ],
   "source": [
    "import nltk \n",
    "nltk.download('punkt')\n",
    "nltk.download('stopwords')\n",
    "from nltk.corpus import stopwords\n",
    "\n",
    "# downloading a set of stop-words\n",
    "STOPWORDS = set(stopwords.words('english'))\n",
    "\n",
    "# tokenizer\n",
    "from nltk.tokenize import word_tokenize"
   ]
  },
  {
   "cell_type": "code",
   "execution_count": 24,
   "metadata": {
    "id": "PIE5VNhDWHp3"
   },
   "outputs": [],
   "source": [
    "def text_preprocess(text, stop_words=False):\n",
    "  '''\n",
    "  Accepts text (a single string) and\n",
    "  a parameters of preprocessing\n",
    "  Returns preprocessed text\n",
    "\n",
    "  '''\n",
    "  # clean text from non-words\n",
    "  text = re.sub(r'\\W+', ' ', text).lower()\n",
    "\n",
    "  # tokenize the text\n",
    "  tokens = word_tokenize(text)\n",
    "\n",
    "  if stop_words:\n",
    "    # delete stop_words\n",
    "    tokens = [token for token in tokens if token not in STOPWORDS]\n",
    "\n",
    "  return tokens"
   ]
  },
  {
   "cell_type": "code",
   "execution_count": 19,
   "metadata": {
    "colab": {
     "base_uri": "https://localhost:8080/"
    },
    "id": "SJpv9LJsWLaF",
    "outputId": "2e791abb-4204-4831-f68a-c7a871b391b3"
   },
   "outputs": [
    {
     "name": "stdout",
     "output_type": "stream",
     "text": [
      "Before: \n",
      "                                               Lines Emotions  Labels\n",
      "0                            i didnt feel humiliated  sadness       4\n",
      "1  i can go from feeling so hopeless to so damned...  sadness       4\n",
      "2   im grabbing a minute to post i feel greedy wrong    anger       0\n",
      "3  i am ever feeling nostalgic about the fireplac...     love       1\n",
      "4                               i am feeling grouchy    anger       0\n",
      "\n",
      "After:\n",
      "(['didnt', 'feel', 'humiliated'], 4)\n",
      "(['go', 'feeling', 'hopeless', 'damned', 'hopeful', 'around', 'someone', 'cares', 'awake'], 4)\n",
      "(['im', 'grabbing', 'minute', 'post', 'feel', 'greedy', 'wrong'], 0)\n",
      "(['ever', 'feeling', 'nostalgic', 'fireplace', 'know', 'still', 'property'], 1)\n",
      "(['feeling', 'grouchy'], 0)\n"
     ]
    }
   ],
   "source": [
    "print('Before: ')\n",
    "print(train.head())\n",
    "\n",
    "x_train = [text_preprocess(t, stop_words=True) for t in train['Lines']]\n",
    "y_train = train['Labels'].values\n",
    "\n",
    "print('\\nAfter:')\n",
    "for line_and_label in list(zip(x_train[:5], y_train[:5])):\n",
    "  print(line_and_label)"
   ]
  },
  {
   "cell_type": "code",
   "execution_count": 25,
   "metadata": {
    "id": "iLa41wlrWN11"
   },
   "outputs": [],
   "source": [
    "#test data\n",
    "x_test = [text_preprocess(t, stop_words=True) for t in test['Lines']]\n",
    "y_test = test['Labels'].values\n",
    "\n",
    "#validation data\n",
    "x_validation = [text_preprocess(t, stop_words=True) for t in validation['Lines']]\n",
    "y_validation = validation['Labels'].values"
   ]
  },
  {
   "cell_type": "code",
   "execution_count": 27,
   "metadata": {},
   "outputs": [
    {
     "name": "stdout",
     "output_type": "stream",
     "text": [
      "Collecting gensimNote: you may need to restart the kernel to use updated packages.\n",
      "\n",
      "  Downloading gensim-4.3.2-cp311-cp311-win_amd64.whl.metadata (8.5 kB)\n",
      "Requirement already satisfied: numpy>=1.18.5 in c:\\users\\krishna sai\\appdata\\local\\programs\\python\\python311\\lib\\site-packages (from gensim) (1.24.4)\n",
      "Requirement already satisfied: scipy>=1.7.0 in c:\\users\\krishna sai\\appdata\\local\\programs\\python\\python311\\lib\\site-packages (from gensim) (1.10.1)\n",
      "Collecting smart-open>=1.8.1 (from gensim)\n",
      "  Downloading smart_open-7.0.4-py3-none-any.whl.metadata (23 kB)\n",
      "Collecting wrapt (from smart-open>=1.8.1->gensim)\n",
      "  Downloading wrapt-1.16.0-cp311-cp311-win_amd64.whl.metadata (6.8 kB)\n",
      "Downloading gensim-4.3.2-cp311-cp311-win_amd64.whl (24.0 MB)\n",
      "   ---------------------------------------- 0.0/24.0 MB ? eta -:--:--\n",
      "   ---------------------------------------- 0.0/24.0 MB ? eta -:--:--\n",
      "   ---------------------------------------- 0.0/24.0 MB 330.3 kB/s eta 0:01:13\n",
      "   ---------------------------------------- 0.0/24.0 MB 281.8 kB/s eta 0:01:26\n",
      "   ---------------------------------------- 0.1/24.0 MB 365.7 kB/s eta 0:01:06\n",
      "   ---------------------------------------- 0.1/24.0 MB 383.3 kB/s eta 0:01:03\n",
      "   ---------------------------------------- 0.1/24.0 MB 350.1 kB/s eta 0:01:09\n",
      "   ---------------------------------------- 0.1/24.0 MB 364.4 kB/s eta 0:01:06\n",
      "   ---------------------------------------- 0.1/24.0 MB 343.4 kB/s eta 0:01:10\n",
      "   ---------------------------------------- 0.1/24.0 MB 370.8 kB/s eta 0:01:05\n",
      "   ---------------------------------------- 0.2/24.0 MB 393.8 kB/s eta 0:01:01\n",
      "   ---------------------------------------- 0.2/24.0 MB 393.8 kB/s eta 0:01:01\n",
      "   ---------------------------------------- 0.2/24.0 MB 377.8 kB/s eta 0:01:04\n",
      "   ---------------------------------------- 0.2/24.0 MB 382.6 kB/s eta 0:01:03\n",
      "   ---------------------------------------- 0.2/24.0 MB 397.2 kB/s eta 0:01:00\n",
      "   ---------------------------------------- 0.3/24.0 MB 384.0 kB/s eta 0:01:02\n",
      "   ---------------------------------------- 0.3/24.0 MB 387.5 kB/s eta 0:01:02\n",
      "   ---------------------------------------- 0.3/24.0 MB 385.1 kB/s eta 0:01:02\n",
      "    --------------------------------------- 0.3/24.0 MB 388.2 kB/s eta 0:01:02\n",
      "    --------------------------------------- 0.3/24.0 MB 390.9 kB/s eta 0:01:01\n",
      "    --------------------------------------- 0.3/24.0 MB 388.7 kB/s eta 0:01:01\n",
      "    --------------------------------------- 0.4/24.0 MB 391.2 kB/s eta 0:01:01\n",
      "    --------------------------------------- 0.4/24.0 MB 389.1 kB/s eta 0:01:01\n",
      "    --------------------------------------- 0.4/24.0 MB 391.4 kB/s eta 0:01:01\n",
      "    --------------------------------------- 0.4/24.0 MB 393.5 kB/s eta 0:01:00\n",
      "    --------------------------------------- 0.4/24.0 MB 391.6 kB/s eta 0:01:01\n",
      "    --------------------------------------- 0.4/24.0 MB 393.5 kB/s eta 0:01:00\n",
      "    --------------------------------------- 0.5/24.0 MB 393.5 kB/s eta 0:01:00\n",
      "    --------------------------------------- 0.5/24.0 MB 395.1 kB/s eta 0:01:00\n",
      "    --------------------------------------- 0.5/24.0 MB 388.6 kB/s eta 0:01:01\n",
      "    --------------------------------------- 0.5/24.0 MB 390.2 kB/s eta 0:01:01\n",
      "    --------------------------------------- 0.5/24.0 MB 384.3 kB/s eta 0:01:02\n",
      "    --------------------------------------- 0.6/24.0 MB 390.4 kB/s eta 0:01:01\n",
      "    --------------------------------------- 0.6/24.0 MB 396.3 kB/s eta 0:01:00\n",
      "    --------------------------------------- 0.6/24.0 MB 390.6 kB/s eta 0:01:00\n",
      "   - -------------------------------------- 0.6/24.0 MB 392.0 kB/s eta 0:01:00\n",
      "   - -------------------------------------- 0.6/24.0 MB 386.8 kB/s eta 0:01:01\n",
      "   - -------------------------------------- 0.6/24.0 MB 392.1 kB/s eta 0:01:00\n",
      "   - -------------------------------------- 0.7/24.0 MB 393.4 kB/s eta 0:01:00\n",
      "   - -------------------------------------- 0.7/24.0 MB 392.2 kB/s eta 0:01:00\n",
      "   - -------------------------------------- 0.7/24.0 MB 393.4 kB/s eta 0:01:00\n",
      "   - -------------------------------------- 0.7/24.0 MB 396.7 kB/s eta 0:00:59\n",
      "   - -------------------------------------- 0.7/24.0 MB 397.7 kB/s eta 0:00:59\n",
      "   - -------------------------------------- 0.7/24.0 MB 397.7 kB/s eta 0:00:59\n",
      "   - -------------------------------------- 0.8/24.0 MB 394.5 kB/s eta 0:00:59\n",
      "   - -------------------------------------- 0.8/24.0 MB 390.2 kB/s eta 0:01:00\n",
      "   - -------------------------------------- 0.8/24.0 MB 394.2 kB/s eta 0:00:59\n",
      "   - -------------------------------------- 0.8/24.0 MB 398.3 kB/s eta 0:00:59\n",
      "   - -------------------------------------- 0.8/24.0 MB 391.4 kB/s eta 0:01:00\n",
      "   - -------------------------------------- 0.8/24.0 MB 395.1 kB/s eta 0:00:59\n",
      "   - -------------------------------------- 0.9/24.0 MB 395.1 kB/s eta 0:00:59\n",
      "   - -------------------------------------- 0.9/24.0 MB 398.8 kB/s eta 0:00:58\n",
      "   - -------------------------------------- 0.9/24.0 MB 395.1 kB/s eta 0:00:59\n",
      "   - -------------------------------------- 0.9/24.0 MB 395.9 kB/s eta 0:00:59\n",
      "   - -------------------------------------- 0.9/24.0 MB 392.4 kB/s eta 0:00:59\n",
      "   - -------------------------------------- 1.0/24.0 MB 395.8 kB/s eta 0:00:59\n",
      "   - -------------------------------------- 1.0/24.0 MB 396.6 kB/s eta 0:00:59\n",
      "   - -------------------------------------- 1.0/24.0 MB 393.2 kB/s eta 0:00:59\n",
      "   - -------------------------------------- 1.0/24.0 MB 394.2 kB/s eta 0:00:59\n",
      "   - -------------------------------------- 1.0/24.0 MB 393.2 kB/s eta 0:00:59\n",
      "   - -------------------------------------- 1.0/24.0 MB 394.0 kB/s eta 0:00:59\n",
      "   - -------------------------------------- 1.1/24.0 MB 394.9 kB/s eta 0:00:59\n",
      "   - -------------------------------------- 1.1/24.0 MB 394.0 kB/s eta 0:00:59\n",
      "   - -------------------------------------- 1.1/24.0 MB 397.0 kB/s eta 0:00:58\n",
      "   - -------------------------------------- 1.1/24.0 MB 394.0 kB/s eta 0:00:59\n",
      "   - -------------------------------------- 1.1/24.0 MB 394.7 kB/s eta 0:00:58\n",
      "   - -------------------------------------- 1.2/24.0 MB 394.7 kB/s eta 0:00:58\n",
      "   - -------------------------------------- 1.2/24.0 MB 394.7 kB/s eta 0:00:58\n",
      "   - -------------------------------------- 1.2/24.0 MB 394.6 kB/s eta 0:00:58\n",
      "   -- ------------------------------------- 1.2/24.0 MB 395.3 kB/s eta 0:00:58\n",
      "   -- ------------------------------------- 1.2/24.0 MB 398.0 kB/s eta 0:00:58\n",
      "   -- ------------------------------------- 1.2/24.0 MB 395.2 kB/s eta 0:00:58\n",
      "   -- ------------------------------------- 1.3/24.0 MB 395.8 kB/s eta 0:00:58\n",
      "   -- ------------------------------------- 1.3/24.0 MB 393.2 kB/s eta 0:00:58\n",
      "   -- ------------------------------------- 1.3/24.0 MB 395.8 kB/s eta 0:00:58\n",
      "   -- ------------------------------------- 1.3/24.0 MB 396.4 kB/s eta 0:00:58\n",
      "   -- ------------------------------------- 1.3/24.0 MB 395.7 kB/s eta 0:00:58\n",
      "   -- ------------------------------------- 1.3/24.0 MB 396.3 kB/s eta 0:00:58\n",
      "   -- ------------------------------------- 1.4/24.0 MB 396.3 kB/s eta 0:00:58\n",
      "   -- ------------------------------------- 1.4/24.0 MB 398.6 kB/s eta 0:00:57\n",
      "   -- ------------------------------------- 1.4/24.0 MB 396.2 kB/s eta 0:00:58\n",
      "   -- ------------------------------------- 1.4/24.0 MB 396.7 kB/s eta 0:00:57\n",
      "   -- ------------------------------------- 1.4/24.0 MB 394.4 kB/s eta 0:00:58\n",
      "   -- ------------------------------------- 1.5/24.0 MB 394.9 kB/s eta 0:00:58\n",
      "   -- ------------------------------------- 1.5/24.0 MB 397.2 kB/s eta 0:00:57\n",
      "   -- ------------------------------------- 1.5/24.0 MB 397.1 kB/s eta 0:00:57\n",
      "   -- ------------------------------------- 1.5/24.0 MB 394.9 kB/s eta 0:00:57\n",
      "   -- ------------------------------------- 1.5/24.0 MB 395.4 kB/s eta 0:00:57\n",
      "   -- ------------------------------------- 1.6/24.0 MB 397.5 kB/s eta 0:00:57\n",
      "   -- ------------------------------------- 1.6/24.0 MB 395.3 kB/s eta 0:00:57\n",
      "   -- ------------------------------------- 1.6/24.0 MB 395.8 kB/s eta 0:00:57\n",
      "   -- ------------------------------------- 1.6/24.0 MB 395.3 kB/s eta 0:00:57\n",
      "   -- ------------------------------------- 1.6/24.0 MB 395.8 kB/s eta 0:00:57\n",
      "   -- ------------------------------------- 1.6/24.0 MB 397.8 kB/s eta 0:00:57\n",
      "   -- ------------------------------------- 1.6/24.0 MB 395.7 kB/s eta 0:00:57\n",
      "   -- ------------------------------------- 1.7/24.0 MB 394.7 kB/s eta 0:00:57\n",
      "   -- ------------------------------------- 1.7/24.0 MB 397.6 kB/s eta 0:00:57\n",
      "   -- ------------------------------------- 1.7/24.0 MB 396.6 kB/s eta 0:00:57\n",
      "   -- ------------------------------------- 1.7/24.0 MB 396.1 kB/s eta 0:00:57\n",
      "   -- ------------------------------------- 1.8/24.0 MB 397.9 kB/s eta 0:00:56\n",
      "   -- ------------------------------------- 1.8/24.0 MB 394.6 kB/s eta 0:00:57\n",
      "   -- ------------------------------------- 1.8/24.0 MB 396.5 kB/s eta 0:00:57\n",
      "   --- ------------------------------------ 1.8/24.0 MB 398.2 kB/s eta 0:00:56\n",
      "   --- ------------------------------------ 1.8/24.0 MB 396.4 kB/s eta 0:00:56\n",
      "   --- ------------------------------------ 1.8/24.0 MB 396.8 kB/s eta 0:00:56\n",
      "   --- ------------------------------------ 1.9/24.0 MB 396.8 kB/s eta 0:00:56\n",
      "   --- ------------------------------------ 1.9/24.0 MB 397.2 kB/s eta 0:00:56\n",
      "   --- ------------------------------------ 1.9/24.0 MB 395.4 kB/s eta 0:00:56\n",
      "   --- ------------------------------------ 1.9/24.0 MB 397.1 kB/s eta 0:00:56\n",
      "   --- ------------------------------------ 1.9/24.0 MB 396.6 kB/s eta 0:00:56\n",
      "   --- ------------------------------------ 1.9/24.0 MB 395.8 kB/s eta 0:00:56\n",
      "   --- ------------------------------------ 2.0/24.0 MB 397.4 kB/s eta 0:00:56\n",
      "   --- ------------------------------------ 2.0/24.0 MB 396.9 kB/s eta 0:00:56\n",
      "   --- ------------------------------------ 2.0/24.0 MB 397.3 kB/s eta 0:00:56\n",
      "   --- ------------------------------------ 2.0/24.0 MB 395.7 kB/s eta 0:00:56\n",
      "   --- ------------------------------------ 2.0/24.0 MB 397.3 kB/s eta 0:00:56\n",
      "   --- ------------------------------------ 2.0/24.0 MB 397.6 kB/s eta 0:00:56\n",
      "   --- ------------------------------------ 2.1/24.0 MB 397.2 kB/s eta 0:00:56\n",
      "   --- ------------------------------------ 2.1/24.0 MB 397.6 kB/s eta 0:00:56\n",
      "   --- ------------------------------------ 2.1/24.0 MB 397.5 kB/s eta 0:00:56\n",
      "   --- ------------------------------------ 2.1/24.0 MB 397.5 kB/s eta 0:00:56\n",
      "   --- ------------------------------------ 2.1/24.0 MB 396.3 kB/s eta 0:00:56\n",
      "   --- ------------------------------------ 2.2/24.0 MB 396.7 kB/s eta 0:00:56\n",
      "   --- ------------------------------------ 2.2/24.0 MB 396.2 kB/s eta 0:00:56\n",
      "   --- ------------------------------------ 2.2/24.0 MB 396.6 kB/s eta 0:00:56\n",
      "   --- ------------------------------------ 2.2/24.0 MB 398.0 kB/s eta 0:00:55\n",
      "   --- ------------------------------------ 2.2/24.0 MB 396.5 kB/s eta 0:00:55\n",
      "   --- ------------------------------------ 2.2/24.0 MB 396.9 kB/s eta 0:00:55\n",
      "   --- ------------------------------------ 2.3/24.0 MB 395.4 kB/s eta 0:00:56\n",
      "   --- ------------------------------------ 2.3/24.0 MB 396.8 kB/s eta 0:00:55\n",
      "   --- ------------------------------------ 2.3/24.0 MB 398.2 kB/s eta 0:00:55\n",
      "   --- ------------------------------------ 2.3/24.0 MB 396.8 kB/s eta 0:00:55\n",
      "   --- ------------------------------------ 2.3/24.0 MB 397.1 kB/s eta 0:00:55\n",
      "   --- ------------------------------------ 2.4/24.0 MB 397.0 kB/s eta 0:00:55\n",
      "   --- ------------------------------------ 2.4/24.0 MB 397.4 kB/s eta 0:00:55\n",
      "   --- ------------------------------------ 2.4/24.0 MB 397.0 kB/s eta 0:00:55\n",
      "   ---- ----------------------------------- 2.4/24.0 MB 397.3 kB/s eta 0:00:55\n",
      "   ---- ----------------------------------- 2.4/24.0 MB 397.0 kB/s eta 0:00:55\n",
      "   ---- ----------------------------------- 2.4/24.0 MB 397.3 kB/s eta 0:00:55\n",
      "   ---- ----------------------------------- 2.5/24.0 MB 397.6 kB/s eta 0:00:55\n",
      "   ---- ----------------------------------- 2.5/24.0 MB 397.5 kB/s eta 0:00:55\n",
      "   ---- ----------------------------------- 2.5/24.0 MB 397.5 kB/s eta 0:00:55\n",
      "   ---- ----------------------------------- 2.5/24.0 MB 397.5 kB/s eta 0:00:55\n",
      "   ---- ----------------------------------- 2.5/24.0 MB 397.5 kB/s eta 0:00:55\n",
      "   ---- ----------------------------------- 2.5/24.0 MB 396.4 kB/s eta 0:00:55\n",
      "   ---- ----------------------------------- 2.6/24.0 MB 396.7 kB/s eta 0:00:55\n",
      "   ---- ----------------------------------- 2.6/24.0 MB 396.4 kB/s eta 0:00:55\n",
      "   ---- ----------------------------------- 2.6/24.0 MB 397.7 kB/s eta 0:00:54\n",
      "   ---- ----------------------------------- 2.6/24.0 MB 397.0 kB/s eta 0:00:54\n",
      "   ---- ----------------------------------- 2.6/24.0 MB 396.6 kB/s eta 0:00:54\n",
      "   ---- ----------------------------------- 2.7/24.0 MB 397.9 kB/s eta 0:00:54\n",
      "   ---- ----------------------------------- 2.7/24.0 MB 396.6 kB/s eta 0:00:54\n",
      "   ---- ----------------------------------- 2.7/24.0 MB 396.9 kB/s eta 0:00:54\n",
      "   ---- ----------------------------------- 2.7/24.0 MB 397.2 kB/s eta 0:00:54\n",
      "   ---- ----------------------------------- 2.7/24.0 MB 396.9 kB/s eta 0:00:54\n",
      "   ---- ----------------------------------- 2.7/24.0 MB 398.0 kB/s eta 0:00:54\n",
      "   ---- ----------------------------------- 2.8/24.0 MB 397.1 kB/s eta 0:00:54\n",
      "   ---- ----------------------------------- 2.8/24.0 MB 397.3 kB/s eta 0:00:54\n",
      "   ---- ----------------------------------- 2.8/24.0 MB 397.0 kB/s eta 0:00:54\n",
      "   ---- ----------------------------------- 2.8/24.0 MB 397.3 kB/s eta 0:00:54\n",
      "   ---- ----------------------------------- 2.8/24.0 MB 396.1 kB/s eta 0:00:54\n",
      "   ---- ----------------------------------- 2.8/24.0 MB 397.3 kB/s eta 0:00:54\n",
      "   ---- ----------------------------------- 2.9/24.0 MB 396.6 kB/s eta 0:00:54\n",
      "   ---- ----------------------------------- 2.9/24.0 MB 396.4 kB/s eta 0:00:54\n",
      "   ---- ----------------------------------- 2.9/24.0 MB 397.2 kB/s eta 0:00:54\n",
      "   ---- ----------------------------------- 2.9/24.0 MB 397.4 kB/s eta 0:00:54\n",
      "   ---- ----------------------------------- 2.9/24.0 MB 398.5 kB/s eta 0:00:53\n",
      "   ---- ----------------------------------- 3.0/24.0 MB 396.5 kB/s eta 0:00:54\n",
      "   ---- ----------------------------------- 3.0/24.0 MB 397.6 kB/s eta 0:00:53\n",
      "   ---- ----------------------------------- 3.0/24.0 MB 396.5 kB/s eta 0:00:54\n",
      "   ----- ---------------------------------- 3.0/24.0 MB 397.6 kB/s eta 0:00:53\n",
      "   ----- ---------------------------------- 3.0/24.0 MB 397.8 kB/s eta 0:00:53\n",
      "   ----- ---------------------------------- 3.0/24.0 MB 397.5 kB/s eta 0:00:53\n",
      "   ----- ---------------------------------- 3.1/24.0 MB 397.0 kB/s eta 0:00:53\n",
      "   ----- ---------------------------------- 3.1/24.0 MB 397.7 kB/s eta 0:00:53\n",
      "   ----- ---------------------------------- 3.1/24.0 MB 397.7 kB/s eta 0:00:53\n",
      "   ----- ---------------------------------- 3.1/24.0 MB 396.9 kB/s eta 0:00:53\n",
      "   ----- ---------------------------------- 3.1/24.0 MB 396.9 kB/s eta 0:00:53\n",
      "   ----- ---------------------------------- 3.1/24.0 MB 397.1 kB/s eta 0:00:53\n",
      "   ----- ---------------------------------- 3.2/24.0 MB 397.1 kB/s eta 0:00:53\n",
      "   ----- ---------------------------------- 3.2/24.0 MB 397.1 kB/s eta 0:00:53\n",
      "   ----- ---------------------------------- 3.2/24.0 MB 397.1 kB/s eta 0:00:53\n",
      "   ----- ---------------------------------- 3.2/24.0 MB 398.0 kB/s eta 0:00:53\n",
      "   ----- ---------------------------------- 3.2/24.0 MB 397.0 kB/s eta 0:00:53\n",
      "   ----- ---------------------------------- 3.3/24.0 MB 397.3 kB/s eta 0:00:53\n",
      "   ----- ---------------------------------- 3.3/24.0 MB 397.5 kB/s eta 0:00:53\n",
      "   ----- ---------------------------------- 3.3/24.0 MB 397.2 kB/s eta 0:00:53\n",
      "   ----- ---------------------------------- 3.3/24.0 MB 397.5 kB/s eta 0:00:53\n",
      "   ----- ---------------------------------- 3.3/24.0 MB 397.2 kB/s eta 0:00:53\n",
      "   ----- ---------------------------------- 3.3/24.0 MB 397.4 kB/s eta 0:00:53\n",
      "   ----- ---------------------------------- 3.4/24.0 MB 396.9 kB/s eta 0:00:53\n",
      "   ----- ---------------------------------- 3.4/24.0 MB 397.6 kB/s eta 0:00:52\n",
      "   ----- ---------------------------------- 3.4/24.0 MB 397.3 kB/s eta 0:00:52\n",
      "   ----- ---------------------------------- 3.4/24.0 MB 397.5 kB/s eta 0:00:52\n",
      "   ----- ---------------------------------- 3.4/24.0 MB 397.7 kB/s eta 0:00:52\n",
      "   ----- ---------------------------------- 3.5/24.0 MB 396.8 kB/s eta 0:00:52\n",
      "   ----- ---------------------------------- 3.5/24.0 MB 397.7 kB/s eta 0:00:52\n",
      "   ----- ---------------------------------- 3.5/24.0 MB 396.7 kB/s eta 0:00:52\n",
      "   ----- ---------------------------------- 3.5/24.0 MB 397.7 kB/s eta 0:00:52\n",
      "   ----- ---------------------------------- 3.5/24.0 MB 397.9 kB/s eta 0:00:52\n",
      "   ----- ---------------------------------- 3.5/24.0 MB 397.9 kB/s eta 0:00:52\n",
      "   ----- ---------------------------------- 3.5/24.0 MB 397.9 kB/s eta 0:00:52\n",
      "   ----- ---------------------------------- 3.5/24.0 MB 397.9 kB/s eta 0:00:52\n",
      "   ----- ---------------------------------- 3.5/24.0 MB 397.9 kB/s eta 0:00:52\n",
      "   ----- ---------------------------------- 3.5/24.0 MB 397.9 kB/s eta 0:00:52\n",
      "   ----- ---------------------------------- 3.5/24.0 MB 397.9 kB/s eta 0:00:52\n",
      "   ----- ---------------------------------- 3.5/24.0 MB 397.9 kB/s eta 0:00:52\n",
      "   ------ --------------------------------- 3.6/24.0 MB 395.7 kB/s eta 0:00:52\n",
      "   ------ --------------------------------- 3.7/24.0 MB 395.2 kB/s eta 0:00:52\n",
      "   ------ --------------------------------- 3.7/24.0 MB 395.5 kB/s eta 0:00:52\n",
      "   ------ --------------------------------- 3.7/24.0 MB 394.6 kB/s eta 0:00:52\n",
      "   ------ --------------------------------- 3.7/24.0 MB 395.4 kB/s eta 0:00:52\n",
      "   ------ --------------------------------- 3.7/24.0 MB 394.6 kB/s eta 0:00:52\n",
      "   ------ --------------------------------- 3.7/24.0 MB 394.8 kB/s eta 0:00:52\n",
      "   ------ --------------------------------- 3.8/24.0 MB 395.6 kB/s eta 0:00:52\n",
      "   ------ --------------------------------- 3.8/24.0 MB 395.6 kB/s eta 0:00:52\n",
      "   ------ --------------------------------- 3.8/24.0 MB 395.4 kB/s eta 0:00:52\n",
      "   ------ --------------------------------- 3.8/24.0 MB 395.6 kB/s eta 0:00:52\n",
      "   ------ --------------------------------- 3.9/24.0 MB 395.8 kB/s eta 0:00:51\n",
      "   ------ --------------------------------- 3.9/24.0 MB 394.9 kB/s eta 0:00:52\n",
      "   ------ --------------------------------- 3.9/24.0 MB 395.1 kB/s eta 0:00:51\n",
      "   ------ --------------------------------- 3.9/24.0 MB 394.9 kB/s eta 0:00:51\n",
      "   ------ --------------------------------- 3.9/24.0 MB 395.7 kB/s eta 0:00:51\n",
      "   ------ --------------------------------- 3.9/24.0 MB 395.9 kB/s eta 0:00:51\n",
      "   ------ --------------------------------- 3.9/24.0 MB 395.9 kB/s eta 0:00:51\n",
      "   ------ --------------------------------- 4.0/24.0 MB 395.3 kB/s eta 0:00:51\n",
      "   ------ --------------------------------- 4.0/24.0 MB 395.1 kB/s eta 0:00:51\n",
      "   ------ --------------------------------- 4.0/24.0 MB 395.3 kB/s eta 0:00:51\n",
      "   ------ --------------------------------- 4.0/24.0 MB 395.4 kB/s eta 0:00:51\n",
      "   ------ --------------------------------- 4.0/24.0 MB 395.2 kB/s eta 0:00:51\n",
      "   ------ --------------------------------- 4.0/24.0 MB 395.4 kB/s eta 0:00:51\n",
      "   ------ --------------------------------- 4.1/24.0 MB 394.6 kB/s eta 0:00:51\n",
      "   ------ --------------------------------- 4.1/24.0 MB 394.8 kB/s eta 0:00:51\n",
      "   ------ --------------------------------- 4.1/24.0 MB 394.8 kB/s eta 0:00:51\n",
      "   ------ --------------------------------- 4.1/24.0 MB 394.8 kB/s eta 0:00:51\n",
      "   ------ --------------------------------- 4.1/24.0 MB 394.8 kB/s eta 0:00:51\n",
      "   ------ --------------------------------- 4.1/24.0 MB 394.8 kB/s eta 0:00:51\n",
      "   ------ --------------------------------- 4.1/24.0 MB 394.8 kB/s eta 0:00:51\n",
      "   ------ --------------------------------- 4.1/24.0 MB 394.8 kB/s eta 0:00:51\n",
      "   ------- -------------------------------- 4.2/24.0 MB 395.1 kB/s eta 0:00:51\n",
      "   ------- -------------------------------- 4.2/24.0 MB 395.1 kB/s eta 0:00:51\n",
      "   ------- -------------------------------- 4.2/24.0 MB 394.4 kB/s eta 0:00:51\n",
      "   ------- -------------------------------- 4.2/24.0 MB 395.1 kB/s eta 0:00:51\n",
      "   ------- -------------------------------- 4.3/24.0 MB 394.0 kB/s eta 0:00:51\n",
      "   ------- -------------------------------- 4.3/24.0 MB 395.3 kB/s eta 0:00:50\n",
      "   ------- -------------------------------- 4.3/24.0 MB 395.1 kB/s eta 0:00:50\n",
      "   ------- -------------------------------- 4.3/24.0 MB 395.5 kB/s eta 0:00:50\n",
      "   ------- -------------------------------- 4.3/24.0 MB 395.5 kB/s eta 0:00:50\n",
      "   ------- -------------------------------- 4.4/24.0 MB 395.5 kB/s eta 0:00:50\n",
      "   ------- -------------------------------- 4.4/24.0 MB 394.7 kB/s eta 0:00:50\n",
      "   ------- -------------------------------- 4.4/24.0 MB 395.4 kB/s eta 0:00:50\n",
      "   ------- -------------------------------- 4.4/24.0 MB 395.6 kB/s eta 0:00:50\n",
      "   ------- -------------------------------- 4.4/24.0 MB 395.4 kB/s eta 0:00:50\n",
      "   ------- -------------------------------- 4.5/24.0 MB 395.6 kB/s eta 0:00:50\n",
      "   ------- -------------------------------- 4.5/24.0 MB 394.9 kB/s eta 0:00:50\n",
      "   ------- -------------------------------- 4.5/24.0 MB 395.6 kB/s eta 0:00:50\n",
      "   ------- -------------------------------- 4.5/24.0 MB 395.8 kB/s eta 0:00:50\n",
      "   ------- -------------------------------- 4.5/24.0 MB 395.6 kB/s eta 0:00:50\n",
      "   ------- -------------------------------- 4.5/24.0 MB 395.0 kB/s eta 0:00:50\n",
      "   ------- -------------------------------- 4.6/24.0 MB 395.7 kB/s eta 0:00:50\n",
      "   ------- -------------------------------- 4.6/24.0 MB 395.9 kB/s eta 0:00:50\n",
      "   ------- -------------------------------- 4.6/24.0 MB 395.9 kB/s eta 0:00:50\n",
      "   ------- -------------------------------- 4.6/24.0 MB 395.9 kB/s eta 0:00:49\n",
      "   ------- -------------------------------- 4.6/24.0 MB 395.2 kB/s eta 0:00:50\n",
      "   ------- -------------------------------- 4.6/24.0 MB 395.3 kB/s eta 0:00:49\n",
      "   ------- -------------------------------- 4.7/24.0 MB 396.0 kB/s eta 0:00:49\n",
      "   ------- -------------------------------- 4.7/24.0 MB 395.3 kB/s eta 0:00:49\n",
      "   ------- -------------------------------- 4.7/24.0 MB 396.0 kB/s eta 0:00:49\n",
      "   ------- -------------------------------- 4.7/24.0 MB 395.3 kB/s eta 0:00:49\n",
      "   ------- -------------------------------- 4.7/24.0 MB 395.5 kB/s eta 0:00:49\n",
      "   ------- -------------------------------- 4.8/24.0 MB 396.1 kB/s eta 0:00:49\n",
      "   ------- -------------------------------- 4.8/24.0 MB 395.5 kB/s eta 0:00:49\n",
      "   ------- -------------------------------- 4.8/24.0 MB 395.4 kB/s eta 0:00:49\n",
      "   -------- ------------------------------- 4.8/24.0 MB 395.6 kB/s eta 0:00:49\n",
      "   -------- ------------------------------- 4.8/24.0 MB 395.8 kB/s eta 0:00:49\n",
      "   -------- ------------------------------- 4.8/24.0 MB 395.6 kB/s eta 0:00:49\n",
      "   -------- ------------------------------- 4.9/24.0 MB 396.2 kB/s eta 0:00:49\n",
      "   -------- ------------------------------- 4.9/24.0 MB 395.6 kB/s eta 0:00:49\n",
      "   -------- ------------------------------- 4.9/24.0 MB 395.7 kB/s eta 0:00:49\n",
      "   -------- ------------------------------- 4.9/24.0 MB 396.4 kB/s eta 0:00:49\n",
      "   -------- ------------------------------- 4.9/24.0 MB 395.7 kB/s eta 0:00:49\n",
      "   -------- ------------------------------- 4.9/24.0 MB 395.9 kB/s eta 0:00:49\n",
      "   -------- ------------------------------- 5.0/24.0 MB 395.5 kB/s eta 0:00:49\n",
      "   -------- ------------------------------- 5.0/24.0 MB 395.7 kB/s eta 0:00:49\n",
      "   -------- ------------------------------- 5.0/24.0 MB 395.8 kB/s eta 0:00:49\n",
      "   -------- ------------------------------- 5.0/24.0 MB 395.7 kB/s eta 0:00:49\n",
      "   -------- ------------------------------- 5.0/24.0 MB 395.8 kB/s eta 0:00:48\n",
      "   -------- ------------------------------- 5.0/24.0 MB 395.6 kB/s eta 0:00:48\n",
      "   -------- ------------------------------- 5.1/24.0 MB 395.8 kB/s eta 0:00:48\n",
      "   -------- ------------------------------- 5.1/24.0 MB 395.9 kB/s eta 0:00:48\n",
      "   -------- ------------------------------- 5.1/24.0 MB 395.8 kB/s eta 0:00:48\n",
      "   -------- ------------------------------- 5.1/24.0 MB 395.9 kB/s eta 0:00:48\n",
      "   -------- ------------------------------- 5.2/24.0 MB 395.9 kB/s eta 0:00:48\n",
      "   -------- ------------------------------- 5.2/24.0 MB 395.9 kB/s eta 0:00:48\n",
      "   -------- ------------------------------- 5.2/24.0 MB 396.1 kB/s eta 0:00:48\n",
      "   -------- ------------------------------- 5.2/24.0 MB 395.4 kB/s eta 0:00:48\n",
      "   -------- ------------------------------- 5.2/24.0 MB 395.9 kB/s eta 0:00:48\n",
      "   -------- ------------------------------- 5.2/24.0 MB 396.0 kB/s eta 0:00:48\n",
      "   -------- ------------------------------- 5.2/24.0 MB 396.3 kB/s eta 0:00:48\n",
      "   -------- ------------------------------- 5.3/24.0 MB 395.2 kB/s eta 0:00:48\n",
      "   -------- ------------------------------- 5.3/24.0 MB 395.9 kB/s eta 0:00:48\n",
      "   -------- ------------------------------- 5.3/24.0 MB 396.3 kB/s eta 0:00:48\n",
      "   -------- ------------------------------- 5.3/24.0 MB 396.3 kB/s eta 0:00:48\n",
      "   -------- ------------------------------- 5.3/24.0 MB 395.8 kB/s eta 0:00:48\n",
      "   -------- ------------------------------- 5.4/24.0 MB 395.9 kB/s eta 0:00:48\n",
      "   -------- ------------------------------- 5.4/24.0 MB 395.4 kB/s eta 0:00:48\n",
      "   -------- ------------------------------- 5.4/24.0 MB 395.9 kB/s eta 0:00:48\n",
      "   --------- ------------------------------ 5.4/24.0 MB 396.1 kB/s eta 0:00:47\n",
      "   --------- ------------------------------ 5.4/24.0 MB 396.5 kB/s eta 0:00:47\n",
      "   --------- ------------------------------ 5.4/24.0 MB 395.4 kB/s eta 0:00:47\n",
      "   --------- ------------------------------ 5.4/24.0 MB 395.4 kB/s eta 0:00:47\n",
      "   --------- ------------------------------ 5.5/24.0 MB 396.2 kB/s eta 0:00:47\n",
      "   --------- ------------------------------ 5.5/24.0 MB 395.6 kB/s eta 0:00:47\n",
      "   --------- ------------------------------ 5.5/24.0 MB 396.2 kB/s eta 0:00:47\n",
      "   --------- ------------------------------ 5.5/24.0 MB 395.6 kB/s eta 0:00:47\n",
      "   --------- ------------------------------ 5.6/24.0 MB 395.7 kB/s eta 0:00:47\n",
      "   --------- ------------------------------ 5.6/24.0 MB 396.1 kB/s eta 0:00:47\n",
      "   --------- ------------------------------ 5.6/24.0 MB 396.3 kB/s eta 0:00:47\n",
      "   --------- ------------------------------ 5.6/24.0 MB 395.7 kB/s eta 0:00:47\n",
      "   --------- ------------------------------ 5.6/24.0 MB 395.8 kB/s eta 0:00:47\n",
      "   --------- ------------------------------ 5.7/24.0 MB 396.4 kB/s eta 0:00:47\n",
      "   --------- ------------------------------ 5.7/24.0 MB 396.2 kB/s eta 0:00:47\n",
      "   --------- ------------------------------ 5.7/24.0 MB 396.4 kB/s eta 0:00:47\n",
      "   --------- ------------------------------ 5.7/24.0 MB 395.8 kB/s eta 0:00:47\n",
      "   --------- ------------------------------ 5.7/24.0 MB 396.4 kB/s eta 0:00:47\n",
      "   --------- ------------------------------ 5.7/24.0 MB 396.5 kB/s eta 0:00:47\n",
      "   --------- ------------------------------ 5.7/24.0 MB 395.9 kB/s eta 0:00:47\n",
      "   --------- ------------------------------ 5.8/24.0 MB 396.5 kB/s eta 0:00:47\n",
      "   --------- ------------------------------ 5.8/24.0 MB 395.9 kB/s eta 0:00:47\n",
      "   --------- ------------------------------ 5.8/24.0 MB 396.6 kB/s eta 0:00:46\n",
      "   --------- ------------------------------ 5.8/24.0 MB 396.0 kB/s eta 0:00:46\n",
      "   --------- ------------------------------ 5.8/24.0 MB 396.1 kB/s eta 0:00:46\n",
      "   --------- ------------------------------ 5.9/24.0 MB 396.0 kB/s eta 0:00:46\n",
      "   --------- ------------------------------ 5.9/24.0 MB 396.7 kB/s eta 0:00:46\n",
      "   --------- ------------------------------ 5.9/24.0 MB 396.1 kB/s eta 0:00:46\n",
      "   --------- ------------------------------ 5.9/24.0 MB 396.7 kB/s eta 0:00:46\n",
      "   --------- ------------------------------ 5.9/24.0 MB 396.1 kB/s eta 0:00:46\n",
      "   --------- ------------------------------ 6.0/24.0 MB 396.6 kB/s eta 0:00:46\n",
      "   --------- ------------------------------ 6.0/24.0 MB 396.4 kB/s eta 0:00:46\n",
      "   --------- ------------------------------ 6.0/24.0 MB 396.2 kB/s eta 0:00:46\n",
      "   ---------- ----------------------------- 6.0/24.0 MB 396.3 kB/s eta 0:00:46\n",
      "   ---------- ----------------------------- 6.0/24.0 MB 396.2 kB/s eta 0:00:46\n",
      "   ---------- ----------------------------- 6.0/24.0 MB 396.3 kB/s eta 0:00:46\n",
      "   ---------- ----------------------------- 6.1/24.0 MB 396.5 kB/s eta 0:00:46\n",
      "   ---------- ----------------------------- 6.1/24.0 MB 396.4 kB/s eta 0:00:46\n",
      "   ---------- ----------------------------- 6.1/24.0 MB 396.4 kB/s eta 0:00:46\n",
      "   ---------- ----------------------------- 6.1/24.0 MB 396.4 kB/s eta 0:00:46\n",
      "   ---------- ----------------------------- 6.1/24.0 MB 396.5 kB/s eta 0:00:46\n",
      "   ---------- ----------------------------- 6.2/24.0 MB 396.4 kB/s eta 0:00:46\n",
      "   ---------- ----------------------------- 6.2/24.0 MB 396.5 kB/s eta 0:00:45\n",
      "   ---------- ----------------------------- 6.2/24.0 MB 396.0 kB/s eta 0:00:46\n",
      "   ---------- ----------------------------- 6.2/24.0 MB 396.5 kB/s eta 0:00:45\n",
      "   ---------- ----------------------------- 6.2/24.0 MB 396.6 kB/s eta 0:00:45\n",
      "   ---------- ----------------------------- 6.2/24.0 MB 396.1 kB/s eta 0:00:45\n",
      "   ---------- ----------------------------- 6.3/24.0 MB 396.2 kB/s eta 0:00:45\n",
      "   ---------- ----------------------------- 6.3/24.0 MB 396.1 kB/s eta 0:00:45\n",
      "   ---------- ----------------------------- 6.3/24.0 MB 396.2 kB/s eta 0:00:45\n",
      "   ---------- ----------------------------- 6.3/24.0 MB 396.2 kB/s eta 0:00:45\n",
      "   ---------- ----------------------------- 6.3/24.0 MB 396.7 kB/s eta 0:00:45\n",
      "   ---------- ----------------------------- 6.3/24.0 MB 396.7 kB/s eta 0:00:45\n",
      "   ---------- ----------------------------- 6.4/24.0 MB 396.3 kB/s eta 0:00:45\n",
      "   ---------- ----------------------------- 6.4/24.0 MB 396.4 kB/s eta 0:00:45\n",
      "   ---------- ----------------------------- 6.4/24.0 MB 396.3 kB/s eta 0:00:45\n",
      "   ---------- ----------------------------- 6.4/24.0 MB 396.4 kB/s eta 0:00:45\n",
      "   ---------- ----------------------------- 6.5/24.0 MB 396.4 kB/s eta 0:00:45\n",
      "   ---------- ----------------------------- 6.5/24.0 MB 396.5 kB/s eta 0:00:45\n",
      "   ---------- ----------------------------- 6.5/24.0 MB 396.4 kB/s eta 0:00:45\n",
      "   ---------- ----------------------------- 6.5/24.0 MB 396.5 kB/s eta 0:00:45\n",
      "   ---------- ----------------------------- 6.5/24.0 MB 396.0 kB/s eta 0:00:45\n",
      "   ---------- ----------------------------- 6.5/24.0 MB 396.5 kB/s eta 0:00:45\n",
      "   ---------- ----------------------------- 6.6/24.0 MB 397.0 kB/s eta 0:00:44\n",
      "   ---------- ----------------------------- 6.6/24.0 MB 396.1 kB/s eta 0:00:45\n",
      "   ---------- ----------------------------- 6.6/24.0 MB 396.6 kB/s eta 0:00:44\n",
      "   ---------- ----------------------------- 6.6/24.0 MB 396.0 kB/s eta 0:00:44\n",
      "   ----------- ---------------------------- 6.6/24.0 MB 397.0 kB/s eta 0:00:44\n",
      "   ----------- ---------------------------- 6.6/24.0 MB 396.5 kB/s eta 0:00:44\n",
      "   ----------- ---------------------------- 6.7/24.0 MB 396.6 kB/s eta 0:00:44\n",
      "   ----------- ---------------------------- 6.7/24.0 MB 396.1 kB/s eta 0:00:44\n",
      "   ----------- ---------------------------- 6.7/24.0 MB 396.6 kB/s eta 0:00:44\n",
      "   ----------- ---------------------------- 6.7/24.0 MB 396.4 kB/s eta 0:00:44\n",
      "   ----------- ---------------------------- 6.7/24.0 MB 396.2 kB/s eta 0:00:44\n",
      "   ----------- ---------------------------- 6.7/24.0 MB 396.7 kB/s eta 0:00:44\n",
      "   ----------- ---------------------------- 6.8/24.0 MB 396.2 kB/s eta 0:00:44\n",
      "   ----------- ---------------------------- 6.8/24.0 MB 396.8 kB/s eta 0:00:44\n",
      "   ----------- ---------------------------- 6.8/24.0 MB 396.3 kB/s eta 0:00:44\n",
      "   ----------- ---------------------------- 6.8/24.0 MB 396.8 kB/s eta 0:00:44\n",
      "   ----------- ---------------------------- 6.8/24.0 MB 396.3 kB/s eta 0:00:44\n",
      "   ----------- ---------------------------- 6.9/24.0 MB 396.9 kB/s eta 0:00:44\n",
      "   ----------- ---------------------------- 6.9/24.0 MB 396.4 kB/s eta 0:00:44\n",
      "   ----------- ---------------------------- 6.9/24.0 MB 396.5 kB/s eta 0:00:44\n",
      "   ----------- ---------------------------- 6.9/24.0 MB 396.5 kB/s eta 0:00:44\n",
      "   ----------- ---------------------------- 6.9/24.0 MB 396.5 kB/s eta 0:00:44\n",
      "   ----------- ---------------------------- 6.9/24.0 MB 396.5 kB/s eta 0:00:44\n",
      "   ----------- ---------------------------- 7.0/24.0 MB 396.1 kB/s eta 0:00:44\n",
      "   ----------- ---------------------------- 7.0/24.0 MB 396.6 kB/s eta 0:00:43\n",
      "   ----------- ---------------------------- 7.0/24.0 MB 396.5 kB/s eta 0:00:43\n",
      "   ----------- ---------------------------- 7.0/24.0 MB 396.6 kB/s eta 0:00:43\n",
      "   ----------- ---------------------------- 7.0/24.0 MB 396.7 kB/s eta 0:00:43\n",
      "   ----------- ---------------------------- 7.1/24.0 MB 396.1 kB/s eta 0:00:43\n",
      "   ----------- ---------------------------- 7.1/24.0 MB 396.2 kB/s eta 0:00:43\n",
      "   ----------- ---------------------------- 7.1/24.0 MB 396.3 kB/s eta 0:00:43\n",
      "   ----------- ---------------------------- 7.1/24.0 MB 397.1 kB/s eta 0:00:43\n",
      "   ----------- ---------------------------- 7.1/24.0 MB 396.7 kB/s eta 0:00:43\n",
      "   ----------- ---------------------------- 7.2/24.0 MB 396.8 kB/s eta 0:00:43\n",
      "   ----------- ---------------------------- 7.2/24.0 MB 396.3 kB/s eta 0:00:43\n",
      "   ----------- ---------------------------- 7.2/24.0 MB 396.4 kB/s eta 0:00:43\n",
      "   ------------ --------------------------- 7.2/24.0 MB 396.8 kB/s eta 0:00:43\n",
      "   ------------ --------------------------- 7.2/24.0 MB 396.4 kB/s eta 0:00:43\n",
      "   ------------ --------------------------- 7.2/24.0 MB 396.4 kB/s eta 0:00:43\n",
      "   ------------ --------------------------- 7.3/24.0 MB 396.8 kB/s eta 0:00:43\n",
      "   ------------ --------------------------- 7.3/24.0 MB 396.8 kB/s eta 0:00:43\n",
      "   ------------ --------------------------- 7.3/24.0 MB 396.5 kB/s eta 0:00:43\n",
      "   ------------ --------------------------- 7.3/24.0 MB 396.6 kB/s eta 0:00:43\n",
      "   ------------ --------------------------- 7.3/24.0 MB 396.4 kB/s eta 0:00:43\n",
      "   ------------ --------------------------- 7.4/24.0 MB 396.9 kB/s eta 0:00:42\n",
      "   ------------ --------------------------- 7.4/24.0 MB 396.6 kB/s eta 0:00:42\n",
      "   ------------ --------------------------- 7.4/24.0 MB 396.5 kB/s eta 0:00:42\n",
      "   ------------ --------------------------- 7.4/24.0 MB 396.6 kB/s eta 0:00:42\n",
      "   ------------ --------------------------- 7.4/24.0 MB 396.5 kB/s eta 0:00:42\n",
      "   ------------ --------------------------- 7.4/24.0 MB 396.6 kB/s eta 0:00:42\n",
      "   ------------ --------------------------- 7.5/24.0 MB 396.6 kB/s eta 0:00:42\n",
      "   ------------ --------------------------- 7.5/24.0 MB 396.7 kB/s eta 0:00:42\n",
      "   ------------ --------------------------- 7.5/24.0 MB 396.3 kB/s eta 0:00:42\n",
      "   ------------ --------------------------- 7.5/24.0 MB 396.7 kB/s eta 0:00:42\n",
      "   ------------ --------------------------- 7.5/24.0 MB 396.8 kB/s eta 0:00:42\n",
      "   ------------ --------------------------- 7.5/24.0 MB 396.7 kB/s eta 0:00:42\n",
      "   ------------ --------------------------- 7.6/24.0 MB 396.8 kB/s eta 0:00:42\n",
      "   ------------ --------------------------- 7.6/24.0 MB 396.3 kB/s eta 0:00:42\n",
      "   ------------ --------------------------- 7.6/24.0 MB 396.4 kB/s eta 0:00:42\n",
      "   ------------ --------------------------- 7.6/24.0 MB 396.9 kB/s eta 0:00:42\n",
      "   ------------ --------------------------- 7.6/24.0 MB 396.4 kB/s eta 0:00:42\n",
      "   ------------ --------------------------- 7.6/24.0 MB 396.8 kB/s eta 0:00:42\n",
      "   ------------ --------------------------- 7.7/24.0 MB 396.8 kB/s eta 0:00:42\n",
      "   ------------ --------------------------- 7.7/24.0 MB 396.6 kB/s eta 0:00:42\n",
      "   ------------ --------------------------- 7.7/24.0 MB 396.5 kB/s eta 0:00:42\n",
      "   ------------ --------------------------- 7.7/24.0 MB 396.9 kB/s eta 0:00:42\n",
      "   ------------ --------------------------- 7.7/24.0 MB 396.5 kB/s eta 0:00:42\n",
      "   ------------ --------------------------- 7.8/24.0 MB 396.6 kB/s eta 0:00:41\n",
      "   ------------ --------------------------- 7.8/24.0 MB 396.6 kB/s eta 0:00:41\n",
      "   ------------- -------------------------- 7.8/24.0 MB 396.7 kB/s eta 0:00:41\n",
      "   ------------- -------------------------- 7.8/24.0 MB 396.5 kB/s eta 0:00:41\n",
      "   ------------- -------------------------- 7.9/24.0 MB 397.1 kB/s eta 0:00:41\n",
      "   ------------- -------------------------- 7.9/24.0 MB 397.1 kB/s eta 0:00:41\n",
      "   ------------- -------------------------- 7.9/24.0 MB 396.7 kB/s eta 0:00:41\n",
      "   ------------- -------------------------- 7.9/24.0 MB 396.3 kB/s eta 0:00:41\n",
      "   ------------- -------------------------- 7.9/24.0 MB 396.7 kB/s eta 0:00:41\n",
      "   ------------- -------------------------- 7.9/24.0 MB 397.1 kB/s eta 0:00:41\n",
      "   ------------- -------------------------- 8.0/24.0 MB 396.7 kB/s eta 0:00:41\n",
      "   ------------- -------------------------- 8.0/24.0 MB 396.8 kB/s eta 0:00:41\n",
      "   ------------- -------------------------- 8.0/24.0 MB 396.8 kB/s eta 0:00:41\n",
      "   ------------- -------------------------- 8.0/24.0 MB 396.9 kB/s eta 0:00:41\n",
      "   ------------- -------------------------- 8.0/24.0 MB 396.9 kB/s eta 0:00:41\n",
      "   ------------- -------------------------- 8.0/24.0 MB 396.9 kB/s eta 0:00:41\n",
      "   ------------- -------------------------- 8.0/24.0 MB 396.9 kB/s eta 0:00:41\n",
      "   ------------- -------------------------- 8.0/24.0 MB 396.9 kB/s eta 0:00:41\n",
      "   ------------- -------------------------- 8.0/24.0 MB 396.9 kB/s eta 0:00:41\n",
      "   ------------- -------------------------- 8.0/24.0 MB 396.9 kB/s eta 0:00:41\n",
      "   ------------- -------------------------- 8.0/24.0 MB 396.9 kB/s eta 0:00:41\n",
      "   ------------- -------------------------- 8.0/24.0 MB 396.9 kB/s eta 0:00:41\n",
      "   ------------- -------------------------- 8.0/24.0 MB 396.9 kB/s eta 0:00:41\n",
      "   ------------- -------------------------- 8.0/24.0 MB 396.9 kB/s eta 0:00:41\n",
      "   ------------- -------------------------- 8.0/24.0 MB 396.9 kB/s eta 0:00:41\n",
      "   ------------- -------------------------- 8.0/24.0 MB 387.2 kB/s eta 0:00:42\n",
      "   ------------- -------------------------- 8.1/24.0 MB 388.5 kB/s eta 0:00:41\n",
      "   ------------- -------------------------- 8.1/24.0 MB 390.1 kB/s eta 0:00:41\n",
      "   ------------- -------------------------- 8.2/24.0 MB 393.9 kB/s eta 0:00:41\n",
      "   ------------- -------------------------- 8.3/24.0 MB 396.5 kB/s eta 0:00:40\n",
      "   ------------- -------------------------- 8.3/24.0 MB 396.1 kB/s eta 0:00:40\n",
      "   ------------- -------------------------- 8.3/24.0 MB 396.2 kB/s eta 0:00:40\n",
      "   ------------- -------------------------- 8.4/24.0 MB 396.5 kB/s eta 0:00:40\n",
      "   ------------- -------------------------- 8.4/24.0 MB 396.1 kB/s eta 0:00:40\n",
      "   ------------- -------------------------- 8.4/24.0 MB 396.1 kB/s eta 0:00:40\n",
      "   -------------- ------------------------- 8.4/24.0 MB 396.2 kB/s eta 0:00:40\n",
      "   -------------- ------------------------- 8.4/24.0 MB 396.6 kB/s eta 0:00:40\n",
      "   -------------- ------------------------- 8.4/24.0 MB 396.2 kB/s eta 0:00:40\n",
      "   -------------- ------------------------- 8.5/24.0 MB 396.6 kB/s eta 0:00:40\n",
      "   -------------- ------------------------- 8.5/24.0 MB 396.2 kB/s eta 0:00:40\n",
      "   -------------- ------------------------- 8.5/24.0 MB 396.3 kB/s eta 0:00:40\n",
      "   -------------- ------------------------- 8.5/24.0 MB 396.7 kB/s eta 0:00:40\n",
      "   -------------- ------------------------- 8.5/24.0 MB 396.3 kB/s eta 0:00:40\n",
      "   -------------- ------------------------- 8.6/24.0 MB 396.3 kB/s eta 0:00:39\n",
      "   -------------- ------------------------- 8.6/24.0 MB 396.1 kB/s eta 0:00:39\n",
      "   -------------- ------------------------- 8.6/24.0 MB 396.4 kB/s eta 0:00:39\n",
      "   -------------- ------------------------- 8.6/24.0 MB 396.3 kB/s eta 0:00:39\n",
      "   -------------- ------------------------- 8.6/24.0 MB 396.4 kB/s eta 0:00:39\n",
      "   -------------- ------------------------- 8.6/24.0 MB 396.1 kB/s eta 0:00:39\n",
      "   -------------- ------------------------- 8.7/24.0 MB 396.5 kB/s eta 0:00:39\n",
      "   -------------- ------------------------- 8.7/24.0 MB 396.5 kB/s eta 0:00:39\n",
      "   -------------- ------------------------- 8.7/24.0 MB 396.5 kB/s eta 0:00:39\n",
      "   -------------- ------------------------- 8.7/24.0 MB 396.4 kB/s eta 0:00:39\n",
      "   -------------- ------------------------- 8.7/24.0 MB 396.5 kB/s eta 0:00:39\n",
      "   -------------- ------------------------- 8.8/24.0 MB 396.6 kB/s eta 0:00:39\n",
      "   -------------- ------------------------- 8.8/24.0 MB 396.2 kB/s eta 0:00:39\n",
      "   -------------- ------------------------- 8.8/24.0 MB 396.5 kB/s eta 0:00:39\n",
      "   -------------- ------------------------- 8.8/24.0 MB 395.9 kB/s eta 0:00:39\n",
      "   -------------- ------------------------- 8.8/24.0 MB 396.3 kB/s eta 0:00:39\n",
      "   -------------- ------------------------- 8.8/24.0 MB 396.6 kB/s eta 0:00:39\n",
      "   -------------- ------------------------- 8.9/24.0 MB 396.2 kB/s eta 0:00:39\n",
      "   -------------- ------------------------- 8.9/24.0 MB 396.6 kB/s eta 0:00:39\n",
      "   -------------- ------------------------- 8.9/24.0 MB 396.0 kB/s eta 0:00:39\n",
      "   -------------- ------------------------- 8.9/24.0 MB 396.1 kB/s eta 0:00:39\n",
      "   -------------- ------------------------- 8.9/24.0 MB 396.4 kB/s eta 0:00:39\n",
      "   -------------- ------------------------- 9.0/24.0 MB 396.4 kB/s eta 0:00:38\n",
      "   -------------- ------------------------- 9.0/24.0 MB 396.3 kB/s eta 0:00:38\n",
      "   -------------- ------------------------- 9.0/24.0 MB 396.4 kB/s eta 0:00:38\n",
      "   --------------- ------------------------ 9.0/24.0 MB 396.5 kB/s eta 0:00:38\n",
      "   --------------- ------------------------ 9.0/24.0 MB 396.4 kB/s eta 0:00:38\n",
      "   --------------- ------------------------ 9.0/24.0 MB 396.5 kB/s eta 0:00:38\n",
      "   --------------- ------------------------ 9.1/24.0 MB 396.4 kB/s eta 0:00:38\n",
      "   --------------- ------------------------ 9.1/24.0 MB 396.4 kB/s eta 0:00:38\n",
      "   --------------- ------------------------ 9.1/24.0 MB 396.5 kB/s eta 0:00:38\n",
      "   --------------- ------------------------ 9.1/24.0 MB 396.5 kB/s eta 0:00:38\n",
      "   --------------- ------------------------ 9.1/24.0 MB 396.2 kB/s eta 0:00:38\n",
      "   --------------- ------------------------ 9.2/24.0 MB 396.2 kB/s eta 0:00:38\n",
      "   --------------- ------------------------ 9.2/24.0 MB 396.2 kB/s eta 0:00:38\n",
      "   --------------- ------------------------ 9.2/24.0 MB 396.1 kB/s eta 0:00:38\n",
      "   --------------- ------------------------ 9.2/24.0 MB 396.1 kB/s eta 0:00:38\n",
      "   --------------- ------------------------ 9.2/24.0 MB 396.1 kB/s eta 0:00:38\n",
      "   --------------- ------------------------ 9.2/24.0 MB 396.1 kB/s eta 0:00:38\n",
      "   --------------- ------------------------ 9.2/24.0 MB 396.1 kB/s eta 0:00:38\n",
      "   --------------- ------------------------ 9.2/24.0 MB 396.1 kB/s eta 0:00:38\n",
      "   --------------- ------------------------ 9.2/24.0 MB 396.1 kB/s eta 0:00:38\n",
      "   --------------- ------------------------ 9.2/24.0 MB 396.1 kB/s eta 0:00:38\n",
      "   --------------- ------------------------ 9.2/24.0 MB 396.1 kB/s eta 0:00:38\n",
      "   --------------- ------------------------ 9.2/24.0 MB 396.1 kB/s eta 0:00:38\n",
      "   --------------- ------------------------ 9.2/24.0 MB 396.1 kB/s eta 0:00:38\n",
      "   --------------- ------------------------ 9.2/24.0 MB 389.2 kB/s eta 0:00:39\n",
      "   --------------- ------------------------ 9.2/24.0 MB 389.0 kB/s eta 0:00:38\n",
      "   --------------- ------------------------ 9.3/24.0 MB 389.1 kB/s eta 0:00:38\n",
      "   --------------- ------------------------ 9.4/24.0 MB 395.6 kB/s eta 0:00:37\n",
      "   --------------- ------------------------ 9.5/24.0 MB 396.0 kB/s eta 0:00:37\n",
      "   --------------- ------------------------ 9.5/24.0 MB 395.6 kB/s eta 0:00:37\n",
      "   --------------- ------------------------ 9.5/24.0 MB 396.0 kB/s eta 0:00:37\n",
      "   --------------- ------------------------ 9.5/24.0 MB 396.0 kB/s eta 0:00:37\n",
      "   --------------- ------------------------ 9.5/24.0 MB 395.9 kB/s eta 0:00:37\n",
      "   --------------- ------------------------ 9.5/24.0 MB 396.0 kB/s eta 0:00:37\n",
      "   --------------- ------------------------ 9.6/24.0 MB 396.0 kB/s eta 0:00:37\n",
      "   --------------- ------------------------ 9.6/24.0 MB 396.1 kB/s eta 0:00:37\n",
      "   --------------- ------------------------ 9.6/24.0 MB 395.8 kB/s eta 0:00:37\n",
      "   ---------------- ----------------------- 9.6/24.0 MB 396.1 kB/s eta 0:00:37\n",
      "   ---------------- ----------------------- 9.6/24.0 MB 395.8 kB/s eta 0:00:37\n",
      "   ---------------- ----------------------- 9.6/24.0 MB 395.8 kB/s eta 0:00:37\n",
      "   ---------------- ----------------------- 9.7/24.0 MB 396.2 kB/s eta 0:00:37\n",
      "   ---------------- ----------------------- 9.7/24.0 MB 395.8 kB/s eta 0:00:37\n",
      "   ---------------- ----------------------- 9.7/24.0 MB 395.9 kB/s eta 0:00:37\n",
      "   ---------------- ----------------------- 9.7/24.0 MB 395.8 kB/s eta 0:00:37\n",
      "   ---------------- ----------------------- 9.7/24.0 MB 396.2 kB/s eta 0:00:36\n",
      "   ---------------- ----------------------- 9.8/24.0 MB 395.9 kB/s eta 0:00:36\n",
      "   ---------------- ----------------------- 9.8/24.0 MB 396.0 kB/s eta 0:00:36\n",
      "   ---------------- ----------------------- 9.8/24.0 MB 395.9 kB/s eta 0:00:36\n",
      "   ---------------- ----------------------- 9.8/24.0 MB 395.9 kB/s eta 0:00:36\n",
      "   ---------------- ----------------------- 9.8/24.0 MB 396.3 kB/s eta 0:00:36\n",
      "   ---------------- ----------------------- 9.8/24.0 MB 395.7 kB/s eta 0:00:36\n",
      "   ---------------- ----------------------- 9.9/24.0 MB 395.9 kB/s eta 0:00:36\n",
      "   ---------------- ----------------------- 9.9/24.0 MB 395.9 kB/s eta 0:00:36\n",
      "   ---------------- ----------------------- 9.9/24.0 MB 396.0 kB/s eta 0:00:36\n",
      "   ---------------- ----------------------- 9.9/24.0 MB 396.1 kB/s eta 0:00:36\n",
      "   ---------------- ----------------------- 9.9/24.0 MB 396.1 kB/s eta 0:00:36\n",
      "   ---------------- ----------------------- 10.0/24.0 MB 396.0 kB/s eta 0:00:36\n",
      "   ---------------- ----------------------- 10.0/24.0 MB 396.1 kB/s eta 0:00:36\n",
      "   ---------------- ----------------------- 10.0/24.0 MB 396.1 kB/s eta 0:00:36\n",
      "   ---------------- ----------------------- 10.0/24.0 MB 396.1 kB/s eta 0:00:36\n",
      "   ---------------- ----------------------- 10.0/24.0 MB 395.8 kB/s eta 0:00:36\n",
      "   ---------------- ----------------------- 10.1/24.0 MB 396.1 kB/s eta 0:00:36\n",
      "   ---------------- ----------------------- 10.1/24.0 MB 396.2 kB/s eta 0:00:36\n",
      "   ---------------- ----------------------- 10.1/24.0 MB 395.9 kB/s eta 0:00:36\n",
      "   ---------------- ----------------------- 10.1/24.0 MB 395.9 kB/s eta 0:00:36\n",
      "   ---------------- ----------------------- 10.1/24.0 MB 396.2 kB/s eta 0:00:36\n",
      "   ---------------- ----------------------- 10.1/24.0 MB 396.2 kB/s eta 0:00:36\n",
      "   ---------------- ----------------------- 10.2/24.0 MB 395.8 kB/s eta 0:00:35\n",
      "   ---------------- ----------------------- 10.2/24.0 MB 395.9 kB/s eta 0:00:35\n",
      "   ---------------- ----------------------- 10.2/24.0 MB 396.0 kB/s eta 0:00:35\n",
      "   ----------------- ---------------------- 10.2/24.0 MB 396.0 kB/s eta 0:00:35\n",
      "   ----------------- ---------------------- 10.2/24.0 MB 396.1 kB/s eta 0:00:35\n",
      "   ----------------- ---------------------- 10.3/24.0 MB 396.5 kB/s eta 0:00:35\n",
      "   ----------------- ---------------------- 10.3/24.0 MB 396.5 kB/s eta 0:00:35\n",
      "   ----------------- ---------------------- 10.3/24.0 MB 396.3 kB/s eta 0:00:35\n",
      "   ----------------- ---------------------- 10.3/24.0 MB 396.8 kB/s eta 0:00:35\n",
      "   ----------------- ---------------------- 10.3/24.0 MB 396.8 kB/s eta 0:00:35\n",
      "   ----------------- ---------------------- 10.3/24.0 MB 396.5 kB/s eta 0:00:35\n",
      "   ----------------- ---------------------- 10.4/24.0 MB 396.8 kB/s eta 0:00:35\n",
      "   ----------------- ---------------------- 10.4/24.0 MB 396.5 kB/s eta 0:00:35\n",
      "   ----------------- ---------------------- 10.4/24.0 MB 396.5 kB/s eta 0:00:35\n",
      "   ----------------- ---------------------- 10.4/24.0 MB 396.3 kB/s eta 0:00:35\n",
      "   ----------------- ---------------------- 10.4/24.0 MB 396.5 kB/s eta 0:00:35\n",
      "   ----------------- ---------------------- 10.4/24.0 MB 396.5 kB/s eta 0:00:35\n",
      "   ----------------- ---------------------- 10.5/24.0 MB 396.5 kB/s eta 0:00:35\n",
      "   ----------------- ---------------------- 10.5/24.0 MB 396.5 kB/s eta 0:00:35\n",
      "   ----------------- ---------------------- 10.5/24.0 MB 396.5 kB/s eta 0:00:35\n",
      "   ----------------- ---------------------- 10.5/24.0 MB 396.5 kB/s eta 0:00:35\n",
      "   ----------------- ---------------------- 10.5/24.0 MB 396.8 kB/s eta 0:00:34\n",
      "   ----------------- ---------------------- 10.6/24.0 MB 396.3 kB/s eta 0:00:34\n",
      "   ----------------- ---------------------- 10.6/24.0 MB 396.3 kB/s eta 0:00:34\n",
      "   ----------------- ---------------------- 10.6/24.0 MB 395.8 kB/s eta 0:00:34\n",
      "   ----------------- ---------------------- 10.6/24.0 MB 395.1 kB/s eta 0:00:34\n",
      "   ----------------- ---------------------- 10.6/24.0 MB 395.1 kB/s eta 0:00:34\n",
      "   ----------------- ---------------------- 10.6/24.0 MB 394.6 kB/s eta 0:00:34\n",
      "   ----------------- ---------------------- 10.6/24.0 MB 394.6 kB/s eta 0:00:34\n",
      "   ----------------- ---------------------- 10.6/24.0 MB 394.2 kB/s eta 0:00:34\n",
      "   ----------------- ---------------------- 10.6/24.0 MB 394.2 kB/s eta 0:00:34\n",
      "   ----------------- ---------------------- 10.7/24.0 MB 393.5 kB/s eta 0:00:34\n",
      "   ----------------- ---------------------- 10.7/24.0 MB 393.7 kB/s eta 0:00:34\n",
      "   ----------------- ---------------------- 10.7/24.0 MB 393.5 kB/s eta 0:00:34\n",
      "   ----------------- ---------------------- 10.7/24.0 MB 393.7 kB/s eta 0:00:34\n",
      "   ----------------- ---------------------- 10.7/24.0 MB 393.7 kB/s eta 0:00:34\n",
      "   ----------------- ---------------------- 10.7/24.0 MB 393.7 kB/s eta 0:00:34\n",
      "   ----------------- ---------------------- 10.7/24.0 MB 393.7 kB/s eta 0:00:34\n",
      "   ----------------- ---------------------- 10.7/24.0 MB 393.7 kB/s eta 0:00:34\n",
      "   ----------------- ---------------------- 10.7/24.0 MB 393.7 kB/s eta 0:00:34\n",
      "   ----------------- ---------------------- 10.7/24.0 MB 393.7 kB/s eta 0:00:34\n",
      "   ----------------- ---------------------- 10.7/24.0 MB 393.7 kB/s eta 0:00:34\n",
      "   ----------------- ---------------------- 10.7/24.0 MB 393.7 kB/s eta 0:00:34\n",
      "   ----------------- ---------------------- 10.7/24.0 MB 393.7 kB/s eta 0:00:34\n",
      "   ----------------- ---------------------- 10.7/24.0 MB 387.9 kB/s eta 0:00:35\n",
      "   ------------------ --------------------- 10.9/24.0 MB 393.5 kB/s eta 0:00:34\n",
      "   ------------------ --------------------- 10.9/24.0 MB 393.2 kB/s eta 0:00:34\n",
      "   ------------------ --------------------- 10.9/24.0 MB 393.2 kB/s eta 0:00:34\n",
      "   ------------------ --------------------- 11.0/24.0 MB 392.7 kB/s eta 0:00:34\n",
      "   ------------------ --------------------- 11.0/24.0 MB 393.0 kB/s eta 0:00:34\n",
      "   ------------------ --------------------- 11.0/24.0 MB 393.2 kB/s eta 0:00:34\n",
      "   ------------------ --------------------- 11.0/24.0 MB 393.0 kB/s eta 0:00:34\n",
      "   ------------------ --------------------- 11.1/24.0 MB 393.2 kB/s eta 0:00:33\n",
      "   ------------------ --------------------- 11.1/24.0 MB 393.2 kB/s eta 0:00:33\n",
      "   ------------------ --------------------- 11.1/24.0 MB 392.8 kB/s eta 0:00:33\n",
      "   ------------------ --------------------- 11.1/24.0 MB 392.8 kB/s eta 0:00:33\n",
      "   ------------------ --------------------- 11.1/24.0 MB 392.8 kB/s eta 0:00:33\n",
      "   ------------------ --------------------- 11.1/24.0 MB 392.8 kB/s eta 0:00:33\n",
      "   ------------------ --------------------- 11.1/24.0 MB 392.8 kB/s eta 0:00:33\n",
      "   ------------------ --------------------- 11.1/24.0 MB 392.8 kB/s eta 0:00:33\n",
      "   ------------------ --------------------- 11.1/24.0 MB 392.8 kB/s eta 0:00:33\n",
      "   ------------------ --------------------- 11.1/24.0 MB 388.5 kB/s eta 0:00:34\n",
      "   ------------------ --------------------- 11.1/24.0 MB 388.5 kB/s eta 0:00:34\n",
      "   ------------------ --------------------- 11.1/24.0 MB 388.5 kB/s eta 0:00:34\n",
      "   ------------------ --------------------- 11.1/24.0 MB 388.5 kB/s eta 0:00:34\n",
      "   ------------------ --------------------- 11.1/24.0 MB 388.5 kB/s eta 0:00:34\n",
      "   ------------------ --------------------- 11.1/24.0 MB 388.5 kB/s eta 0:00:34\n",
      "   ------------------ --------------------- 11.1/24.0 MB 388.5 kB/s eta 0:00:34\n",
      "   ------------------ --------------------- 11.1/24.0 MB 388.5 kB/s eta 0:00:34\n",
      "   ------------------ --------------------- 11.1/24.0 MB 388.5 kB/s eta 0:00:34\n",
      "   ------------------ --------------------- 11.1/24.0 MB 388.5 kB/s eta 0:00:34\n",
      "   ------------------ --------------------- 11.1/24.0 MB 382.4 kB/s eta 0:00:34\n",
      "   ------------------ --------------------- 11.1/24.0 MB 382.4 kB/s eta 0:00:34\n",
      "   ------------------ --------------------- 11.1/24.0 MB 381.1 kB/s eta 0:00:34\n",
      "   ------------------ --------------------- 11.1/24.0 MB 381.1 kB/s eta 0:00:34\n",
      "   ------------------ --------------------- 11.1/24.0 MB 381.1 kB/s eta 0:00:34\n",
      "   ------------------ --------------------- 11.1/24.0 MB 381.1 kB/s eta 0:00:34\n",
      "   ------------------ --------------------- 11.1/24.0 MB 381.1 kB/s eta 0:00:34\n",
      "   ------------------ --------------------- 11.2/24.0 MB 379.3 kB/s eta 0:00:34\n",
      "   ------------------ --------------------- 11.2/24.0 MB 379.1 kB/s eta 0:00:34\n",
      "   ------------------ --------------------- 11.2/24.0 MB 379.1 kB/s eta 0:00:34\n",
      "   ------------------ --------------------- 11.3/24.0 MB 381.3 kB/s eta 0:00:34\n",
      "   ------------------ --------------------- 11.3/24.0 MB 380.9 kB/s eta 0:00:34\n",
      "   ------------------ --------------------- 11.3/24.0 MB 380.9 kB/s eta 0:00:34\n",
      "   ------------------ --------------------- 11.3/24.0 MB 380.4 kB/s eta 0:00:34\n",
      "   ------------------ --------------------- 11.3/24.0 MB 380.2 kB/s eta 0:00:34\n",
      "   ------------------ --------------------- 11.3/24.0 MB 380.2 kB/s eta 0:00:34\n",
      "   ------------------ --------------------- 11.3/24.0 MB 379.5 kB/s eta 0:00:34\n",
      "   ------------------ --------------------- 11.3/24.0 MB 379.5 kB/s eta 0:00:34\n",
      "   ------------------ --------------------- 11.4/24.0 MB 378.9 kB/s eta 0:00:34\n",
      "   ------------------ --------------------- 11.4/24.0 MB 378.4 kB/s eta 0:00:34\n",
      "   ------------------ --------------------- 11.4/24.0 MB 378.4 kB/s eta 0:00:34\n",
      "   ------------------- -------------------- 11.4/24.0 MB 378.0 kB/s eta 0:00:34\n",
      "   ------------------- -------------------- 11.4/24.0 MB 378.2 kB/s eta 0:00:34\n",
      "   ------------------- -------------------- 11.4/24.0 MB 378.0 kB/s eta 0:00:34\n",
      "   ------------------- -------------------- 11.5/24.0 MB 378.0 kB/s eta 0:00:34\n",
      "   ------------------- -------------------- 11.5/24.0 MB 378.0 kB/s eta 0:00:34\n",
      "   ------------------- -------------------- 11.5/24.0 MB 377.8 kB/s eta 0:00:34\n",
      "   ------------------- -------------------- 11.5/24.0 MB 377.8 kB/s eta 0:00:34\n",
      "   ------------------- -------------------- 11.5/24.0 MB 377.8 kB/s eta 0:00:34\n",
      "   ------------------- -------------------- 11.5/24.0 MB 376.7 kB/s eta 0:00:34\n",
      "   ------------------- -------------------- 11.5/24.0 MB 376.7 kB/s eta 0:00:34\n",
      "   ------------------- -------------------- 11.5/24.0 MB 375.6 kB/s eta 0:00:34\n",
      "   ------------------- -------------------- 11.5/24.0 MB 375.6 kB/s eta 0:00:34\n",
      "   ------------------- -------------------- 11.5/24.0 MB 375.6 kB/s eta 0:00:34\n",
      "   ------------------- -------------------- 11.6/24.0 MB 374.8 kB/s eta 0:00:34\n",
      "   ------------------- -------------------- 11.6/24.0 MB 374.6 kB/s eta 0:00:34\n",
      "   ------------------- -------------------- 11.6/24.0 MB 374.8 kB/s eta 0:00:34\n",
      "   ------------------- -------------------- 11.6/24.0 MB 374.8 kB/s eta 0:00:34\n",
      "   ------------------- -------------------- 11.6/24.0 MB 373.9 kB/s eta 0:00:34\n",
      "   ------------------- -------------------- 11.6/24.0 MB 373.9 kB/s eta 0:00:34\n",
      "   ------------------- -------------------- 11.6/24.0 MB 373.9 kB/s eta 0:00:34\n",
      "   ------------------- -------------------- 11.6/24.0 MB 372.6 kB/s eta 0:00:34\n",
      "   ------------------- -------------------- 11.6/24.0 MB 372.6 kB/s eta 0:00:34\n",
      "   ------------------- -------------------- 11.6/24.0 MB 372.6 kB/s eta 0:00:34\n",
      "   ------------------- -------------------- 11.6/24.0 MB 371.1 kB/s eta 0:00:34\n",
      "   ------------------- -------------------- 11.6/24.0 MB 371.1 kB/s eta 0:00:34\n",
      "   ------------------- -------------------- 11.6/24.0 MB 371.1 kB/s eta 0:00:34\n",
      "   ------------------- -------------------- 11.6/24.0 MB 369.9 kB/s eta 0:00:34\n",
      "   ------------------- -------------------- 11.6/24.0 MB 369.9 kB/s eta 0:00:34\n",
      "   ------------------- -------------------- 11.7/24.0 MB 369.3 kB/s eta 0:00:34\n",
      "   ------------------- -------------------- 11.7/24.0 MB 369.3 kB/s eta 0:00:34\n",
      "   ------------------- -------------------- 11.7/24.0 MB 368.9 kB/s eta 0:00:34\n",
      "   ------------------- -------------------- 11.7/24.0 MB 368.9 kB/s eta 0:00:34\n",
      "   ------------------- -------------------- 11.7/24.0 MB 368.2 kB/s eta 0:00:34\n",
      "   ------------------- -------------------- 11.7/24.0 MB 368.2 kB/s eta 0:00:34\n",
      "   ------------------- -------------------- 11.7/24.0 MB 368.2 kB/s eta 0:00:34\n",
      "   ------------------- -------------------- 11.7/24.0 MB 368.2 kB/s eta 0:00:34\n",
      "   ------------------- -------------------- 11.7/24.0 MB 368.2 kB/s eta 0:00:34\n",
      "   ------------------- -------------------- 11.7/24.0 MB 368.2 kB/s eta 0:00:34\n",
      "   ------------------- -------------------- 11.7/24.0 MB 368.2 kB/s eta 0:00:34\n",
      "   ------------------- -------------------- 11.7/24.0 MB 368.2 kB/s eta 0:00:34\n",
      "   ------------------- -------------------- 11.7/24.0 MB 368.2 kB/s eta 0:00:34\n",
      "   ------------------- -------------------- 11.7/24.0 MB 368.2 kB/s eta 0:00:34\n",
      "   ------------------- -------------------- 11.7/24.0 MB 368.2 kB/s eta 0:00:34\n",
      "   ------------------- -------------------- 11.7/24.0 MB 368.2 kB/s eta 0:00:34\n",
      "   ------------------- -------------------- 11.7/24.0 MB 368.2 kB/s eta 0:00:34\n",
      "   ------------------- -------------------- 11.7/24.0 MB 360.7 kB/s eta 0:00:35\n",
      "   ------------------- -------------------- 11.8/24.0 MB 363.7 kB/s eta 0:00:34\n",
      "   ------------------- -------------------- 11.8/24.0 MB 363.7 kB/s eta 0:00:34\n",
      "   ------------------- -------------------- 11.8/24.0 MB 363.1 kB/s eta 0:00:34\n",
      "   ------------------- -------------------- 11.8/24.0 MB 363.1 kB/s eta 0:00:34\n",
      "   ------------------- -------------------- 11.9/24.0 MB 362.3 kB/s eta 0:00:34\n",
      "   ------------------- -------------------- 11.9/24.0 MB 362.3 kB/s eta 0:00:34\n",
      "   ------------------- -------------------- 11.9/24.0 MB 361.9 kB/s eta 0:00:34\n",
      "   ------------------- -------------------- 11.9/24.0 MB 361.7 kB/s eta 0:00:34\n",
      "   ------------------- -------------------- 11.9/24.0 MB 361.7 kB/s eta 0:00:34\n",
      "   ------------------- -------------------- 11.9/24.0 MB 361.1 kB/s eta 0:00:34\n",
      "   ------------------- -------------------- 11.9/24.0 MB 361.1 kB/s eta 0:00:34\n",
      "   ------------------- -------------------- 11.9/24.0 MB 360.3 kB/s eta 0:00:34\n",
      "   ------------------- -------------------- 11.9/24.0 MB 360.3 kB/s eta 0:00:34\n",
      "   ------------------- -------------------- 11.9/24.0 MB 360.1 kB/s eta 0:00:34\n",
      "   ------------------- -------------------- 11.9/24.0 MB 360.1 kB/s eta 0:00:34\n",
      "   ------------------- -------------------- 12.0/24.0 MB 359.3 kB/s eta 0:00:34\n",
      "   ------------------- -------------------- 12.0/24.0 MB 358.8 kB/s eta 0:00:34\n",
      "   ------------------- -------------------- 12.0/24.0 MB 358.8 kB/s eta 0:00:34\n",
      "   ------------------- -------------------- 12.0/24.0 MB 358.3 kB/s eta 0:00:34\n",
      "   ------------------- -------------------- 12.0/24.0 MB 358.3 kB/s eta 0:00:34\n",
      "   ------------------- -------------------- 12.0/24.0 MB 358.0 kB/s eta 0:00:34\n",
      "   ------------------- -------------------- 12.0/24.0 MB 358.0 kB/s eta 0:00:34\n",
      "   -------------------- ------------------- 12.0/24.0 MB 357.2 kB/s eta 0:00:34\n",
      "   -------------------- ------------------- 12.0/24.0 MB 356.8 kB/s eta 0:00:34\n",
      "   -------------------- ------------------- 12.0/24.0 MB 356.8 kB/s eta 0:00:34\n",
      "   -------------------- ------------------- 12.0/24.0 MB 356.8 kB/s eta 0:00:34\n",
      "   -------------------- ------------------- 12.1/24.0 MB 356.2 kB/s eta 0:00:34\n",
      "   -------------------- ------------------- 12.1/24.0 MB 355.8 kB/s eta 0:00:34\n",
      "   -------------------- ------------------- 12.1/24.0 MB 355.8 kB/s eta 0:00:34\n",
      "   -------------------- ------------------- 12.1/24.0 MB 355.4 kB/s eta 0:00:34\n",
      "   -------------------- ------------------- 12.1/24.0 MB 355.4 kB/s eta 0:00:34\n",
      "   -------------------- ------------------- 12.1/24.0 MB 354.9 kB/s eta 0:00:34\n",
      "   -------------------- ------------------- 12.1/24.0 MB 354.9 kB/s eta 0:00:34\n",
      "   -------------------- ------------------- 12.1/24.0 MB 354.3 kB/s eta 0:00:34\n",
      "   -------------------- ------------------- 12.1/24.0 MB 354.3 kB/s eta 0:00:34\n",
      "   -------------------- ------------------- 12.1/24.0 MB 353.5 kB/s eta 0:00:34\n",
      "   -------------------- ------------------- 12.2/24.0 MB 353.1 kB/s eta 0:00:34\n",
      "   -------------------- ------------------- 12.2/24.0 MB 353.1 kB/s eta 0:00:34\n",
      "   -------------------- ------------------- 12.2/24.0 MB 352.9 kB/s eta 0:00:34\n",
      "   -------------------- ------------------- 12.2/24.0 MB 352.9 kB/s eta 0:00:34\n",
      "   -------------------- ------------------- 12.2/24.0 MB 352.4 kB/s eta 0:00:34\n",
      "   -------------------- ------------------- 12.2/24.0 MB 352.4 kB/s eta 0:00:34\n",
      "   -------------------- ------------------- 12.2/24.0 MB 351.6 kB/s eta 0:00:34\n",
      "   -------------------- ------------------- 12.2/24.0 MB 351.6 kB/s eta 0:00:34\n",
      "   -------------------- ------------------- 12.2/24.0 MB 351.1 kB/s eta 0:00:34\n",
      "   -------------------- ------------------- 12.2/24.0 MB 351.1 kB/s eta 0:00:34\n",
      "   -------------------- ------------------- 12.2/24.0 MB 350.9 kB/s eta 0:00:34\n",
      "   -------------------- ------------------- 12.2/24.0 MB 350.3 kB/s eta 0:00:34\n",
      "   -------------------- ------------------- 12.2/24.0 MB 350.3 kB/s eta 0:00:34\n",
      "   -------------------- ------------------- 12.3/24.0 MB 349.7 kB/s eta 0:00:34\n",
      "   -------------------- ------------------- 12.3/24.0 MB 349.7 kB/s eta 0:00:34\n",
      "   -------------------- ------------------- 12.3/24.0 MB 349.2 kB/s eta 0:00:34\n",
      "   -------------------- ------------------- 12.3/24.0 MB 348.8 kB/s eta 0:00:34\n",
      "   -------------------- ------------------- 12.3/24.0 MB 348.8 kB/s eta 0:00:34\n",
      "   -------------------- ------------------- 12.3/24.0 MB 348.4 kB/s eta 0:00:34\n",
      "   -------------------- ------------------- 12.3/24.0 MB 348.4 kB/s eta 0:00:34\n",
      "   -------------------- ------------------- 12.3/24.0 MB 347.9 kB/s eta 0:00:34\n",
      "   -------------------- ------------------- 12.3/24.0 MB 347.5 kB/s eta 0:00:34\n",
      "   -------------------- ------------------- 12.3/24.0 MB 347.5 kB/s eta 0:00:34\n",
      "   -------------------- ------------------- 12.4/24.0 MB 347.0 kB/s eta 0:00:34\n",
      "   -------------------- ------------------- 12.4/24.0 MB 347.0 kB/s eta 0:00:34\n",
      "   -------------------- ------------------- 12.4/24.0 MB 346.6 kB/s eta 0:00:34\n",
      "   -------------------- ------------------- 12.4/24.0 MB 346.6 kB/s eta 0:00:34\n",
      "   -------------------- ------------------- 12.4/24.0 MB 345.9 kB/s eta 0:00:34\n",
      "   -------------------- ------------------- 12.4/24.0 MB 345.9 kB/s eta 0:00:34\n",
      "   -------------------- ------------------- 12.4/24.0 MB 345.5 kB/s eta 0:00:34\n",
      "   -------------------- ------------------- 12.4/24.0 MB 344.9 kB/s eta 0:00:34\n",
      "   -------------------- ------------------- 12.4/24.0 MB 344.9 kB/s eta 0:00:34\n",
      "   -------------------- ------------------- 12.5/24.0 MB 344.6 kB/s eta 0:00:34\n",
      "   -------------------- ------------------- 12.5/24.0 MB 344.6 kB/s eta 0:00:34\n",
      "   -------------------- ------------------- 12.5/24.0 MB 344.0 kB/s eta 0:00:34\n",
      "   -------------------- ------------------- 12.5/24.0 MB 344.0 kB/s eta 0:00:34\n",
      "   -------------------- ------------------- 12.5/24.0 MB 343.7 kB/s eta 0:00:34\n",
      "   -------------------- ------------------- 12.5/24.0 MB 343.1 kB/s eta 0:00:34\n",
      "   -------------------- ------------------- 12.5/24.0 MB 343.1 kB/s eta 0:00:34\n",
      "   -------------------- ------------------- 12.5/24.0 MB 342.4 kB/s eta 0:00:34\n",
      "   -------------------- ------------------- 12.5/24.0 MB 342.4 kB/s eta 0:00:34\n",
      "   -------------------- ------------------- 12.5/24.0 MB 342.1 kB/s eta 0:00:34\n",
      "   -------------------- ------------------- 12.5/24.0 MB 342.1 kB/s eta 0:00:34\n",
      "   -------------------- ------------------- 12.6/24.0 MB 341.5 kB/s eta 0:00:34\n",
      "   -------------------- ------------------- 12.6/24.0 MB 341.5 kB/s eta 0:00:34\n",
      "   -------------------- ------------------- 12.6/24.0 MB 341.7 kB/s eta 0:00:34\n",
      "   --------------------- ------------------ 12.6/24.0 MB 341.5 kB/s eta 0:00:34\n",
      "   --------------------- ------------------ 12.6/24.0 MB 341.5 kB/s eta 0:00:34\n",
      "   --------------------- ------------------ 12.7/24.0 MB 341.7 kB/s eta 0:00:34\n",
      "   --------------------- ------------------ 12.7/24.0 MB 341.7 kB/s eta 0:00:34\n",
      "   --------------------- ------------------ 12.7/24.0 MB 341.7 kB/s eta 0:00:34\n",
      "   --------------------- ------------------ 12.7/24.0 MB 341.5 kB/s eta 0:00:34\n",
      "   --------------------- ------------------ 12.7/24.0 MB 341.5 kB/s eta 0:00:34\n",
      "   --------------------- ------------------ 12.8/24.0 MB 341.9 kB/s eta 0:00:33\n",
      "   --------------------- ------------------ 12.8/24.0 MB 341.9 kB/s eta 0:00:33\n",
      "   --------------------- ------------------ 12.8/24.0 MB 341.5 kB/s eta 0:00:33\n",
      "   --------------------- ------------------ 12.8/24.0 MB 341.7 kB/s eta 0:00:33\n",
      "   --------------------- ------------------ 12.8/24.0 MB 341.7 kB/s eta 0:00:33\n",
      "   --------------------- ------------------ 12.8/24.0 MB 341.7 kB/s eta 0:00:33\n",
      "   --------------------- ------------------ 12.9/24.0 MB 341.7 kB/s eta 0:00:33\n",
      "   --------------------- ------------------ 12.9/24.0 MB 341.3 kB/s eta 0:00:33\n",
      "   --------------------- ------------------ 12.9/24.0 MB 341.5 kB/s eta 0:00:33\n",
      "   --------------------- ------------------ 12.9/24.0 MB 341.5 kB/s eta 0:00:33\n",
      "   --------------------- ------------------ 12.9/24.0 MB 341.7 kB/s eta 0:00:33\n",
      "   --------------------- ------------------ 12.9/24.0 MB 341.7 kB/s eta 0:00:33\n",
      "   --------------------- ------------------ 13.0/24.0 MB 341.5 kB/s eta 0:00:33\n",
      "   --------------------- ------------------ 13.0/24.0 MB 341.7 kB/s eta 0:00:33\n",
      "   --------------------- ------------------ 13.0/24.0 MB 341.7 kB/s eta 0:00:33\n",
      "   --------------------- ------------------ 13.0/24.0 MB 341.5 kB/s eta 0:00:33\n",
      "   --------------------- ------------------ 13.0/24.0 MB 341.7 kB/s eta 0:00:33\n",
      "   --------------------- ------------------ 13.1/24.0 MB 341.7 kB/s eta 0:00:33\n",
      "   --------------------- ------------------ 13.1/24.0 MB 341.9 kB/s eta 0:00:32\n",
      "   --------------------- ------------------ 13.1/24.0 MB 341.7 kB/s eta 0:00:32\n",
      "   --------------------- ------------------ 13.1/24.0 MB 341.7 kB/s eta 0:00:32\n",
      "   --------------------- ------------------ 13.1/24.0 MB 341.5 kB/s eta 0:00:32\n",
      "   --------------------- ------------------ 13.1/24.0 MB 341.5 kB/s eta 0:00:32\n",
      "   --------------------- ------------------ 13.2/24.0 MB 341.5 kB/s eta 0:00:32\n",
      "   --------------------- ------------------ 13.2/24.0 MB 341.7 kB/s eta 0:00:32\n",
      "   --------------------- ------------------ 13.2/24.0 MB 341.5 kB/s eta 0:00:32\n",
      "   ---------------------- ----------------- 13.2/24.0 MB 341.5 kB/s eta 0:00:32\n",
      "   ---------------------- ----------------- 13.3/24.0 MB 341.7 kB/s eta 0:00:32\n",
      "   ---------------------- ----------------- 13.3/24.0 MB 341.7 kB/s eta 0:00:32\n",
      "   ---------------------- ----------------- 13.3/24.0 MB 341.7 kB/s eta 0:00:32\n",
      "   ---------------------- ----------------- 13.3/24.0 MB 341.7 kB/s eta 0:00:32\n",
      "   ---------------------- ----------------- 13.3/24.0 MB 341.5 kB/s eta 0:00:32\n",
      "   ---------------------- ----------------- 13.3/24.0 MB 341.9 kB/s eta 0:00:32\n",
      "   ---------------------- ----------------- 13.4/24.0 MB 341.5 kB/s eta 0:00:32\n",
      "   ---------------------- ----------------- 13.4/24.0 MB 341.9 kB/s eta 0:00:32\n",
      "   ---------------------- ----------------- 13.4/24.0 MB 341.5 kB/s eta 0:00:32\n",
      "   ---------------------- ----------------- 13.4/24.0 MB 341.7 kB/s eta 0:00:32\n",
      "   ---------------------- ----------------- 13.4/24.0 MB 341.7 kB/s eta 0:00:32\n",
      "   ---------------------- ----------------- 13.4/24.0 MB 341.7 kB/s eta 0:00:31\n",
      "   ---------------------- ----------------- 13.5/24.0 MB 341.7 kB/s eta 0:00:31\n",
      "   ---------------------- ----------------- 13.5/24.0 MB 341.5 kB/s eta 0:00:31\n",
      "   ---------------------- ----------------- 13.5/24.0 MB 341.7 kB/s eta 0:00:31\n",
      "   ---------------------- ----------------- 13.5/24.0 MB 341.5 kB/s eta 0:00:31\n",
      "   ---------------------- ----------------- 13.5/24.0 MB 341.7 kB/s eta 0:00:31\n",
      "   ---------------------- ----------------- 13.5/24.0 MB 341.5 kB/s eta 0:00:31\n",
      "   ---------------------- ----------------- 13.6/24.0 MB 341.5 kB/s eta 0:00:31\n",
      "   ---------------------- ----------------- 13.6/24.0 MB 341.9 kB/s eta 0:00:31\n",
      "   ---------------------- ----------------- 13.6/24.0 MB 341.7 kB/s eta 0:00:31\n",
      "   ---------------------- ----------------- 13.6/24.0 MB 341.5 kB/s eta 0:00:31\n",
      "   ---------------------- ----------------- 13.6/24.0 MB 341.5 kB/s eta 0:00:31\n",
      "   ---------------------- ----------------- 13.6/24.0 MB 341.5 kB/s eta 0:00:31\n",
      "   ---------------------- ----------------- 13.7/24.0 MB 341.5 kB/s eta 0:00:31\n",
      "   ---------------------- ----------------- 13.7/24.0 MB 341.2 kB/s eta 0:00:31\n",
      "   ---------------------- ----------------- 13.7/24.0 MB 341.2 kB/s eta 0:00:31\n",
      "   ---------------------- ----------------- 13.7/24.0 MB 340.8 kB/s eta 0:00:31\n",
      "   ---------------------- ----------------- 13.7/24.0 MB 341.2 kB/s eta 0:00:31\n",
      "   ---------------------- ----------------- 13.7/24.0 MB 341.0 kB/s eta 0:00:31\n",
      "   ---------------------- ----------------- 13.8/24.0 MB 344.4 kB/s eta 0:00:30\n",
      "   ---------------------- ----------------- 13.8/24.0 MB 344.4 kB/s eta 0:00:30\n",
      "   ---------------------- ----------------- 13.8/24.0 MB 343.7 kB/s eta 0:00:30\n",
      "   ---------------------- ----------------- 13.8/24.0 MB 343.1 kB/s eta 0:00:30\n",
      "   ----------------------- ---------------- 13.8/24.0 MB 342.6 kB/s eta 0:00:30\n",
      "   ----------------------- ---------------- 13.8/24.0 MB 342.1 kB/s eta 0:00:30\n",
      "   ----------------------- ---------------- 13.8/24.0 MB 341.7 kB/s eta 0:00:30\n",
      "   ----------------------- ---------------- 13.9/24.0 MB 341.2 kB/s eta 0:00:30\n",
      "   ----------------------- ---------------- 13.9/24.0 MB 341.4 kB/s eta 0:00:30\n",
      "   ----------------------- ---------------- 13.9/24.0 MB 341.0 kB/s eta 0:00:30\n",
      "   ----------------------- ---------------- 13.9/24.0 MB 341.0 kB/s eta 0:00:30\n",
      "   ----------------------- ---------------- 13.9/24.0 MB 341.2 kB/s eta 0:00:30\n",
      "   ----------------------- ---------------- 14.0/24.0 MB 341.5 kB/s eta 0:00:30\n",
      "   ----------------------- ---------------- 14.0/24.0 MB 341.2 kB/s eta 0:00:30\n",
      "   ----------------------- ---------------- 14.0/24.0 MB 341.2 kB/s eta 0:00:30\n",
      "   ----------------------- ---------------- 14.0/24.0 MB 341.2 kB/s eta 0:00:30\n",
      "   ----------------------- ---------------- 14.0/24.0 MB 341.0 kB/s eta 0:00:30\n",
      "   ----------------------- ---------------- 14.0/24.0 MB 341.3 kB/s eta 0:00:30\n",
      "   ----------------------- ---------------- 14.1/24.0 MB 341.0 kB/s eta 0:00:30\n",
      "   ----------------------- ---------------- 14.1/24.0 MB 341.0 kB/s eta 0:00:30\n",
      "   ----------------------- ---------------- 14.1/24.0 MB 341.0 kB/s eta 0:00:30\n",
      "   ----------------------- ---------------- 14.1/24.0 MB 341.2 kB/s eta 0:00:30\n",
      "   ----------------------- ---------------- 14.1/24.0 MB 341.3 kB/s eta 0:00:29\n",
      "   ----------------------- ---------------- 14.1/24.0 MB 341.0 kB/s eta 0:00:29\n",
      "   ----------------------- ---------------- 14.2/24.0 MB 341.0 kB/s eta 0:00:29\n",
      "   ----------------------- ---------------- 14.2/24.0 MB 341.2 kB/s eta 0:00:29\n",
      "   ----------------------- ---------------- 14.2/24.0 MB 341.5 kB/s eta 0:00:29\n",
      "   ----------------------- ---------------- 14.2/24.0 MB 341.0 kB/s eta 0:00:29\n",
      "   ----------------------- ---------------- 14.2/24.0 MB 341.0 kB/s eta 0:00:29\n",
      "   ----------------------- ---------------- 14.2/24.0 MB 340.8 kB/s eta 0:00:29\n",
      "   ----------------------- ---------------- 14.3/24.0 MB 340.8 kB/s eta 0:00:29\n",
      "   ----------------------- ---------------- 14.3/24.0 MB 340.6 kB/s eta 0:00:29\n",
      "   ----------------------- ---------------- 14.3/24.0 MB 341.2 kB/s eta 0:00:29\n",
      "   ----------------------- ---------------- 14.3/24.0 MB 344.1 kB/s eta 0:00:29\n",
      "   ----------------------- ---------------- 14.3/24.0 MB 343.9 kB/s eta 0:00:29\n",
      "   ----------------------- ---------------- 14.3/24.0 MB 343.3 kB/s eta 0:00:29\n",
      "   ----------------------- ---------------- 14.4/24.0 MB 343.0 kB/s eta 0:00:29\n",
      "   ----------------------- ---------------- 14.4/24.0 MB 342.1 kB/s eta 0:00:29\n",
      "   ------------------------ --------------- 14.4/24.0 MB 341.5 kB/s eta 0:00:29\n",
      "   ------------------------ --------------- 14.4/24.0 MB 341.0 kB/s eta 0:00:29\n",
      "   ------------------------ --------------- 14.4/24.0 MB 341.0 kB/s eta 0:00:29\n",
      "   ------------------------ --------------- 14.5/24.0 MB 341.0 kB/s eta 0:00:29\n",
      "   ------------------------ --------------- 14.5/24.0 MB 341.2 kB/s eta 0:00:28\n",
      "   ------------------------ --------------- 14.5/24.0 MB 341.0 kB/s eta 0:00:28\n",
      "   ------------------------ --------------- 14.5/24.0 MB 340.6 kB/s eta 0:00:28\n",
      "   ------------------------ --------------- 14.5/24.0 MB 340.6 kB/s eta 0:00:28\n",
      "   ------------------------ --------------- 14.5/24.0 MB 340.7 kB/s eta 0:00:28\n",
      "   ------------------------ --------------- 14.6/24.0 MB 340.6 kB/s eta 0:00:28\n",
      "   ------------------------ --------------- 14.6/24.0 MB 340.6 kB/s eta 0:00:28\n",
      "   ------------------------ --------------- 14.6/24.0 MB 340.6 kB/s eta 0:00:28\n",
      "   ------------------------ --------------- 14.6/24.0 MB 340.7 kB/s eta 0:00:28\n",
      "   ------------------------ --------------- 14.6/24.0 MB 340.6 kB/s eta 0:00:28\n",
      "   ------------------------ --------------- 14.6/24.0 MB 340.6 kB/s eta 0:00:28\n",
      "   ------------------------ --------------- 14.7/24.0 MB 340.1 kB/s eta 0:00:28\n",
      "   ------------------------ --------------- 14.7/24.0 MB 340.1 kB/s eta 0:00:28\n",
      "   ------------------------ --------------- 14.7/24.0 MB 340.3 kB/s eta 0:00:28\n",
      "   ------------------------ --------------- 14.7/24.0 MB 340.3 kB/s eta 0:00:28\n",
      "   ------------------------ --------------- 14.7/24.0 MB 340.0 kB/s eta 0:00:28\n",
      "   ------------------------ --------------- 14.7/24.0 MB 340.3 kB/s eta 0:00:28\n",
      "   ------------------------ --------------- 14.7/24.0 MB 340.0 kB/s eta 0:00:28\n",
      "   ------------------------ --------------- 14.8/24.0 MB 340.5 kB/s eta 0:00:28\n",
      "   ------------------------ --------------- 14.8/24.0 MB 340.1 kB/s eta 0:00:28\n",
      "   ------------------------ --------------- 14.8/24.0 MB 340.3 kB/s eta 0:00:28\n",
      "   ------------------------ --------------- 14.8/24.0 MB 340.0 kB/s eta 0:00:28\n",
      "   ------------------------ --------------- 14.8/24.0 MB 340.0 kB/s eta 0:00:28\n",
      "   ------------------------ --------------- 14.8/24.0 MB 340.0 kB/s eta 0:00:28\n",
      "   ------------------------ --------------- 14.8/24.0 MB 340.0 kB/s eta 0:00:28\n",
      "   ------------------------ --------------- 14.8/24.0 MB 340.0 kB/s eta 0:00:28\n",
      "   ------------------------ --------------- 14.8/24.0 MB 340.0 kB/s eta 0:00:28\n",
      "   ------------------------ --------------- 14.8/24.0 MB 340.0 kB/s eta 0:00:28\n",
      "   ------------------------ --------------- 14.8/24.0 MB 340.0 kB/s eta 0:00:28\n",
      "   ------------------------ --------------- 14.8/24.0 MB 340.0 kB/s eta 0:00:28\n",
      "   ------------------------ --------------- 14.8/24.0 MB 340.0 kB/s eta 0:00:28\n",
      "   ------------------------ --------------- 14.8/24.0 MB 340.0 kB/s eta 0:00:28\n",
      "   ------------------------ --------------- 14.8/24.0 MB 340.0 kB/s eta 0:00:28\n",
      "   ------------------------ --------------- 14.8/24.0 MB 340.0 kB/s eta 0:00:28\n",
      "   ------------------------ --------------- 14.8/24.0 MB 340.0 kB/s eta 0:00:28\n",
      "   ------------------------ --------------- 14.8/24.0 MB 340.0 kB/s eta 0:00:28\n",
      "   ------------------------ --------------- 14.8/24.0 MB 340.0 kB/s eta 0:00:28\n",
      "   ------------------------ --------------- 14.8/24.0 MB 340.0 kB/s eta 0:00:28\n",
      "   ------------------------ --------------- 14.8/24.0 MB 340.0 kB/s eta 0:00:28\n",
      "   ------------------------ --------------- 14.8/24.0 MB 340.0 kB/s eta 0:00:28\n",
      "   ------------------------ --------------- 14.8/24.0 MB 340.0 kB/s eta 0:00:28\n",
      "   ------------------------ --------------- 14.8/24.0 MB 340.0 kB/s eta 0:00:28\n",
      "   ------------------------ --------------- 14.8/24.0 MB 340.0 kB/s eta 0:00:28\n",
      "   ------------------------- -------------- 15.2/24.0 MB 339.5 kB/s eta 0:00:26\n",
      "   ------------------------- -------------- 15.2/24.0 MB 339.3 kB/s eta 0:00:26\n",
      "   ------------------------- -------------- 15.2/24.0 MB 339.5 kB/s eta 0:00:26\n",
      "   ------------------------- -------------- 15.2/24.0 MB 339.5 kB/s eta 0:00:26\n",
      "   ------------------------- -------------- 15.3/24.0 MB 339.5 kB/s eta 0:00:26\n",
      "   ------------------------- -------------- 15.3/24.0 MB 339.5 kB/s eta 0:00:26\n",
      "   ------------------------- -------------- 15.3/24.0 MB 339.6 kB/s eta 0:00:26\n",
      "   ------------------------- -------------- 15.3/24.0 MB 339.5 kB/s eta 0:00:26\n",
      "   ------------------------- -------------- 15.3/24.0 MB 339.6 kB/s eta 0:00:26\n",
      "   ------------------------- -------------- 15.4/24.0 MB 339.6 kB/s eta 0:00:26\n",
      "   ------------------------- -------------- 15.4/24.0 MB 339.6 kB/s eta 0:00:26\n",
      "   ------------------------- -------------- 15.4/24.0 MB 339.6 kB/s eta 0:00:26\n",
      "   ------------------------- -------------- 15.4/24.0 MB 339.6 kB/s eta 0:00:26\n",
      "   ------------------------- -------------- 15.4/24.0 MB 339.6 kB/s eta 0:00:26\n",
      "   ------------------------- -------------- 15.4/24.0 MB 339.6 kB/s eta 0:00:26\n",
      "   ------------------------- -------------- 15.4/24.0 MB 339.6 kB/s eta 0:00:26\n",
      "   ------------------------- -------------- 15.4/24.0 MB 339.6 kB/s eta 0:00:26\n",
      "   ------------------------- -------------- 15.4/24.0 MB 339.6 kB/s eta 0:00:26\n",
      "   ------------------------- -------------- 15.4/24.0 MB 339.6 kB/s eta 0:00:26\n",
      "   ------------------------- -------------- 15.5/24.0 MB 339.0 kB/s eta 0:00:26\n",
      "   ------------------------- -------------- 15.5/24.0 MB 338.9 kB/s eta 0:00:26\n",
      "   ------------------------- -------------- 15.6/24.0 MB 339.1 kB/s eta 0:00:25\n",
      "   ------------------------- -------------- 15.6/24.0 MB 339.1 kB/s eta 0:00:25\n",
      "   ------------------------- -------------- 15.6/24.0 MB 339.1 kB/s eta 0:00:25\n",
      "   -------------------------- ------------- 15.6/24.0 MB 339.1 kB/s eta 0:00:25\n",
      "   -------------------------- ------------- 15.6/24.0 MB 339.1 kB/s eta 0:00:25\n",
      "   -------------------------- ------------- 15.6/24.0 MB 339.1 kB/s eta 0:00:25\n",
      "   -------------------------- ------------- 15.7/24.0 MB 339.1 kB/s eta 0:00:25\n",
      "   -------------------------- ------------- 15.7/24.0 MB 339.6 kB/s eta 0:00:25\n",
      "   -------------------------- ------------- 15.7/24.0 MB 339.3 kB/s eta 0:00:25\n",
      "   -------------------------- ------------- 15.7/24.0 MB 339.6 kB/s eta 0:00:25\n",
      "   -------------------------- ------------- 15.7/24.0 MB 339.1 kB/s eta 0:00:25\n",
      "   -------------------------- ------------- 15.7/24.0 MB 338.9 kB/s eta 0:00:25\n",
      "   -------------------------- ------------- 15.8/24.0 MB 339.1 kB/s eta 0:00:25\n",
      "   -------------------------- ------------- 15.8/24.0 MB 339.1 kB/s eta 0:00:25\n",
      "   -------------------------- ------------- 15.8/24.0 MB 339.3 kB/s eta 0:00:25\n",
      "   -------------------------- ------------- 15.8/24.0 MB 338.4 kB/s eta 0:00:25\n",
      "   -------------------------- ------------- 15.8/24.0 MB 338.8 kB/s eta 0:00:25\n",
      "   -------------------------- ------------- 15.9/24.0 MB 339.0 kB/s eta 0:00:25\n",
      "   -------------------------- ------------- 15.9/24.0 MB 338.8 kB/s eta 0:00:25\n",
      "   -------------------------- ------------- 15.9/24.0 MB 338.6 kB/s eta 0:00:25\n",
      "   -------------------------- ------------- 15.9/24.0 MB 338.6 kB/s eta 0:00:24\n",
      "   -------------------------- ------------- 15.9/24.0 MB 339.0 kB/s eta 0:00:24\n",
      "   -------------------------- ------------- 15.9/24.0 MB 339.0 kB/s eta 0:00:24\n",
      "   -------------------------- ------------- 16.0/24.0 MB 338.8 kB/s eta 0:00:24\n",
      "   -------------------------- ------------- 16.0/24.0 MB 338.4 kB/s eta 0:00:24\n",
      "   -------------------------- ------------- 16.0/24.0 MB 339.0 kB/s eta 0:00:24\n",
      "   -------------------------- ------------- 16.0/24.0 MB 338.8 kB/s eta 0:00:24\n",
      "   -------------------------- ------------- 16.0/24.0 MB 338.8 kB/s eta 0:00:24\n",
      "   -------------------------- ------------- 16.1/24.0 MB 338.6 kB/s eta 0:00:24\n",
      "   -------------------------- ------------- 16.1/24.0 MB 338.8 kB/s eta 0:00:24\n",
      "   -------------------------- ------------- 16.1/24.0 MB 338.8 kB/s eta 0:00:24\n",
      "   -------------------------- ------------- 16.1/24.0 MB 339.0 kB/s eta 0:00:24\n",
      "   -------------------------- ------------- 16.1/24.0 MB 338.4 kB/s eta 0:00:24\n",
      "   -------------------------- ------------- 16.2/24.0 MB 338.8 kB/s eta 0:00:24\n",
      "   -------------------------- ------------- 16.2/24.0 MB 338.8 kB/s eta 0:00:24\n",
      "   --------------------------- ------------ 16.2/24.0 MB 339.0 kB/s eta 0:00:24\n",
      "   --------------------------- ------------ 16.2/24.0 MB 338.6 kB/s eta 0:00:24\n",
      "   --------------------------- ------------ 16.2/24.0 MB 338.8 kB/s eta 0:00:23\n",
      "   --------------------------- ------------ 16.3/24.0 MB 339.0 kB/s eta 0:00:23\n",
      "   --------------------------- ------------ 16.3/24.0 MB 338.9 kB/s eta 0:00:23\n",
      "   --------------------------- ------------ 16.3/24.0 MB 338.8 kB/s eta 0:00:23\n",
      "   --------------------------- ------------ 16.3/24.0 MB 338.4 kB/s eta 0:00:23\n",
      "   --------------------------- ------------ 16.3/24.0 MB 339.0 kB/s eta 0:00:23\n",
      "   --------------------------- ------------ 16.4/24.0 MB 338.8 kB/s eta 0:00:23\n",
      "   --------------------------- ------------ 16.4/24.0 MB 338.8 kB/s eta 0:00:23\n",
      "   --------------------------- ------------ 16.4/24.0 MB 338.8 kB/s eta 0:00:23\n",
      "   --------------------------- ------------ 16.4/24.0 MB 339.0 kB/s eta 0:00:23\n",
      "   --------------------------- ------------ 16.4/24.0 MB 338.8 kB/s eta 0:00:23\n",
      "   --------------------------- ------------ 16.4/24.0 MB 339.0 kB/s eta 0:00:23\n",
      "   --------------------------- ------------ 16.5/24.0 MB 339.3 kB/s eta 0:00:23\n",
      "   --------------------------- ------------ 16.5/24.0 MB 338.4 kB/s eta 0:00:23\n",
      "   --------------------------- ------------ 16.5/24.0 MB 338.8 kB/s eta 0:00:23\n",
      "   --------------------------- ------------ 16.5/24.0 MB 338.9 kB/s eta 0:00:23\n",
      "   --------------------------- ------------ 16.5/24.0 MB 338.9 kB/s eta 0:00:23\n",
      "   --------------------------- ------------ 16.5/24.0 MB 338.4 kB/s eta 0:00:23\n",
      "   --------------------------- ------------ 16.6/24.0 MB 338.8 kB/s eta 0:00:22\n",
      "   --------------------------- ------------ 16.6/24.0 MB 338.8 kB/s eta 0:00:22\n",
      "   --------------------------- ------------ 16.6/24.0 MB 338.8 kB/s eta 0:00:22\n",
      "   --------------------------- ------------ 16.6/24.0 MB 339.0 kB/s eta 0:00:22\n",
      "   --------------------------- ------------ 16.7/24.0 MB 339.0 kB/s eta 0:00:22\n",
      "   --------------------------- ------------ 16.7/24.0 MB 339.0 kB/s eta 0:00:22\n",
      "   --------------------------- ------------ 16.7/24.0 MB 338.8 kB/s eta 0:00:22\n",
      "   --------------------------- ------------ 16.7/24.0 MB 338.8 kB/s eta 0:00:22\n",
      "   --------------------------- ------------ 16.7/24.0 MB 338.9 kB/s eta 0:00:22\n",
      "   --------------------------- ------------ 16.7/24.0 MB 338.9 kB/s eta 0:00:22\n",
      "   --------------------------- ------------ 16.8/24.0 MB 339.0 kB/s eta 0:00:22\n",
      "   --------------------------- ------------ 16.8/24.0 MB 338.6 kB/s eta 0:00:22\n",
      "   --------------------------- ------------ 16.8/24.0 MB 338.4 kB/s eta 0:00:22\n",
      "   ---------------------------- ----------- 16.8/24.0 MB 338.8 kB/s eta 0:00:22\n",
      "   ---------------------------- ----------- 16.8/24.0 MB 339.0 kB/s eta 0:00:22\n",
      "   ---------------------------- ----------- 16.8/24.0 MB 338.8 kB/s eta 0:00:22\n",
      "   ---------------------------- ----------- 16.9/24.0 MB 339.0 kB/s eta 0:00:22\n",
      "   ---------------------------- ----------- 16.9/24.0 MB 338.9 kB/s eta 0:00:22\n",
      "   ---------------------------- ----------- 16.9/24.0 MB 338.8 kB/s eta 0:00:21\n",
      "   ---------------------------- ----------- 16.9/24.0 MB 339.0 kB/s eta 0:00:21\n",
      "   ---------------------------- ----------- 16.9/24.0 MB 339.0 kB/s eta 0:00:21\n",
      "   ---------------------------- ----------- 17.0/24.0 MB 338.6 kB/s eta 0:00:21\n",
      "   ---------------------------- ----------- 17.0/24.0 MB 338.8 kB/s eta 0:00:21\n",
      "   ---------------------------- ----------- 17.0/24.0 MB 338.8 kB/s eta 0:00:21\n",
      "   ---------------------------- ----------- 17.0/24.0 MB 339.0 kB/s eta 0:00:21\n",
      "   ---------------------------- ----------- 17.0/24.0 MB 339.3 kB/s eta 0:00:21\n",
      "   ---------------------------- ----------- 17.0/24.0 MB 338.4 kB/s eta 0:00:21\n",
      "   ---------------------------- ----------- 17.1/24.0 MB 338.8 kB/s eta 0:00:21\n",
      "   ---------------------------- ----------- 17.1/24.0 MB 339.0 kB/s eta 0:00:21\n",
      "   ---------------------------- ----------- 17.1/24.0 MB 338.8 kB/s eta 0:00:21\n",
      "   ---------------------------- ----------- 17.1/24.0 MB 339.1 kB/s eta 0:00:21\n",
      "   ---------------------------- ----------- 17.1/24.0 MB 338.9 kB/s eta 0:00:21\n",
      "   ---------------------------- ----------- 17.2/24.0 MB 338.8 kB/s eta 0:00:21\n",
      "   ---------------------------- ----------- 17.2/24.0 MB 338.8 kB/s eta 0:00:21\n",
      "   ---------------------------- ----------- 17.2/24.0 MB 339.0 kB/s eta 0:00:21\n",
      "   ---------------------------- ----------- 17.2/24.0 MB 338.4 kB/s eta 0:00:21\n",
      "   ---------------------------- ----------- 17.2/24.0 MB 338.8 kB/s eta 0:00:21\n",
      "   ---------------------------- ----------- 17.2/24.0 MB 339.0 kB/s eta 0:00:20\n",
      "   ---------------------------- ----------- 17.3/24.0 MB 338.9 kB/s eta 0:00:20\n",
      "   ---------------------------- ----------- 17.3/24.0 MB 338.6 kB/s eta 0:00:20\n",
      "   ---------------------------- ----------- 17.3/24.0 MB 338.4 kB/s eta 0:00:20\n",
      "   ---------------------------- ----------- 17.3/24.0 MB 338.8 kB/s eta 0:00:20\n",
      "   ---------------------------- ----------- 17.3/24.0 MB 339.0 kB/s eta 0:00:20\n",
      "   ---------------------------- ----------- 17.3/24.0 MB 339.0 kB/s eta 0:00:20\n",
      "   ---------------------------- ----------- 17.4/24.0 MB 338.4 kB/s eta 0:00:20\n",
      "   ---------------------------- ----------- 17.4/24.0 MB 338.8 kB/s eta 0:00:20\n",
      "   ----------------------------- ---------- 17.4/24.0 MB 338.8 kB/s eta 0:00:20\n",
      "   ----------------------------- ---------- 17.4/24.0 MB 339.0 kB/s eta 0:00:20\n",
      "   ----------------------------- ---------- 17.4/24.0 MB 338.4 kB/s eta 0:00:20\n",
      "   ----------------------------- ---------- 17.5/24.0 MB 339.0 kB/s eta 0:00:20\n",
      "   ----------------------------- ---------- 17.5/24.0 MB 339.3 kB/s eta 0:00:20\n",
      "   ----------------------------- ---------- 17.5/24.0 MB 338.8 kB/s eta 0:00:20\n",
      "   ----------------------------- ---------- 17.5/24.0 MB 339.0 kB/s eta 0:00:20\n",
      "   ----------------------------- ---------- 17.5/24.0 MB 338.4 kB/s eta 0:00:20\n",
      "   ----------------------------- ---------- 17.6/24.0 MB 339.0 kB/s eta 0:00:20\n",
      "   ----------------------------- ---------- 17.6/24.0 MB 338.8 kB/s eta 0:00:20\n",
      "   ----------------------------- ---------- 17.6/24.0 MB 339.0 kB/s eta 0:00:19\n",
      "   ----------------------------- ---------- 17.6/24.0 MB 338.8 kB/s eta 0:00:19\n",
      "   ----------------------------- ---------- 17.6/24.0 MB 339.0 kB/s eta 0:00:19\n",
      "   ----------------------------- ---------- 17.6/24.0 MB 339.0 kB/s eta 0:00:19\n",
      "   ----------------------------- ---------- 17.6/24.0 MB 339.0 kB/s eta 0:00:19\n",
      "   ----------------------------- ---------- 17.6/24.0 MB 339.0 kB/s eta 0:00:19\n",
      "   ----------------------------- ---------- 17.6/24.0 MB 339.0 kB/s eta 0:00:19\n",
      "   ----------------------------- ---------- 17.6/24.0 MB 339.0 kB/s eta 0:00:19\n",
      "   ----------------------------- ---------- 17.6/24.0 MB 339.0 kB/s eta 0:00:19\n",
      "   ----------------------------- ---------- 17.6/24.0 MB 339.0 kB/s eta 0:00:19\n",
      "   ----------------------------- ---------- 17.6/24.0 MB 339.0 kB/s eta 0:00:19\n",
      "   ----------------------------- ---------- 17.8/24.0 MB 338.4 kB/s eta 0:00:19\n",
      "   ----------------------------- ---------- 17.8/24.0 MB 338.6 kB/s eta 0:00:19\n",
      "   ----------------------------- ---------- 17.8/24.0 MB 338.6 kB/s eta 0:00:19\n",
      "   ----------------------------- ---------- 17.8/24.0 MB 338.3 kB/s eta 0:00:19\n",
      "   ----------------------------- ---------- 17.8/24.0 MB 338.1 kB/s eta 0:00:19\n",
      "   ----------------------------- ---------- 17.8/24.0 MB 338.1 kB/s eta 0:00:19\n",
      "   ----------------------------- ---------- 17.9/24.0 MB 338.3 kB/s eta 0:00:19\n",
      "   ----------------------------- ---------- 17.9/24.0 MB 338.6 kB/s eta 0:00:19\n",
      "   ----------------------------- ---------- 17.9/24.0 MB 338.6 kB/s eta 0:00:19\n",
      "   ----------------------------- ---------- 17.9/24.0 MB 338.4 kB/s eta 0:00:18\n",
      "   ----------------------------- ---------- 18.0/24.0 MB 339.0 kB/s eta 0:00:18\n",
      "   ----------------------------- ---------- 18.0/24.0 MB 338.6 kB/s eta 0:00:18\n",
      "   ----------------------------- ---------- 18.0/24.0 MB 338.3 kB/s eta 0:00:18\n",
      "   ------------------------------ --------- 18.0/24.0 MB 338.6 kB/s eta 0:00:18\n",
      "   ------------------------------ --------- 18.0/24.0 MB 338.4 kB/s eta 0:00:18\n",
      "   ------------------------------ --------- 18.0/24.0 MB 338.4 kB/s eta 0:00:18\n",
      "   ------------------------------ --------- 18.1/24.0 MB 338.4 kB/s eta 0:00:18\n",
      "   ------------------------------ --------- 18.1/24.0 MB 338.4 kB/s eta 0:00:18\n",
      "   ------------------------------ --------- 18.1/24.0 MB 337.9 kB/s eta 0:00:18\n",
      "   ------------------------------ --------- 18.1/24.0 MB 338.1 kB/s eta 0:00:18\n",
      "   ------------------------------ --------- 18.1/24.0 MB 338.1 kB/s eta 0:00:18\n",
      "   ------------------------------ --------- 18.1/24.0 MB 338.4 kB/s eta 0:00:18\n",
      "   ------------------------------ --------- 18.2/24.0 MB 338.1 kB/s eta 0:00:18\n",
      "   ------------------------------ --------- 18.2/24.0 MB 343.8 kB/s eta 0:00:17\n",
      "   ------------------------------ --------- 18.2/24.0 MB 343.6 kB/s eta 0:00:17\n",
      "   ------------------------------ --------- 18.2/24.0 MB 343.9 kB/s eta 0:00:17\n",
      "   ------------------------------ --------- 18.2/24.0 MB 343.9 kB/s eta 0:00:17\n",
      "   ------------------------------ --------- 18.3/24.0 MB 344.1 kB/s eta 0:00:17\n",
      "   ------------------------------ --------- 18.3/24.0 MB 343.9 kB/s eta 0:00:17\n",
      "   ------------------------------ --------- 18.3/24.0 MB 343.7 kB/s eta 0:00:17\n",
      "   ------------------------------ --------- 18.3/24.0 MB 343.7 kB/s eta 0:00:17\n",
      "   ------------------------------ --------- 18.3/24.0 MB 343.3 kB/s eta 0:00:17\n",
      "   ------------------------------ --------- 18.3/24.0 MB 343.1 kB/s eta 0:00:17\n",
      "   ------------------------------ --------- 18.4/24.0 MB 342.8 kB/s eta 0:00:17\n",
      "   ------------------------------ --------- 18.4/24.0 MB 342.1 kB/s eta 0:00:17\n",
      "   ------------------------------ --------- 18.4/24.0 MB 341.5 kB/s eta 0:00:17\n",
      "   ------------------------------ --------- 18.4/24.0 MB 341.5 kB/s eta 0:00:17\n",
      "   ------------------------------ --------- 18.4/24.0 MB 341.0 kB/s eta 0:00:17\n",
      "   ------------------------------ --------- 18.4/24.0 MB 339.8 kB/s eta 0:00:17\n",
      "   ------------------------------ --------- 18.5/24.0 MB 338.6 kB/s eta 0:00:17\n",
      "   ------------------------------ --------- 18.5/24.0 MB 338.6 kB/s eta 0:00:17\n",
      "   ------------------------------ --------- 18.5/24.0 MB 338.6 kB/s eta 0:00:17\n",
      "   ------------------------------ --------- 18.5/24.0 MB 338.3 kB/s eta 0:00:17\n",
      "   ------------------------------ --------- 18.5/24.0 MB 338.6 kB/s eta 0:00:17\n",
      "   ------------------------------ --------- 18.6/24.0 MB 338.6 kB/s eta 0:00:17\n",
      "   ------------------------------ --------- 18.6/24.0 MB 338.6 kB/s eta 0:00:17\n",
      "   ------------------------------ --------- 18.6/24.0 MB 338.6 kB/s eta 0:00:17\n",
      "   ------------------------------ --------- 18.6/24.0 MB 338.3 kB/s eta 0:00:17\n",
      "   ------------------------------- -------- 18.6/24.0 MB 338.3 kB/s eta 0:00:16\n",
      "   ------------------------------- -------- 18.6/24.0 MB 338.6 kB/s eta 0:00:16\n",
      "   ------------------------------- -------- 18.6/24.0 MB 337.9 kB/s eta 0:00:16\n",
      "   ------------------------------- -------- 18.7/24.0 MB 338.1 kB/s eta 0:00:16\n",
      "   ------------------------------- -------- 18.7/24.0 MB 338.3 kB/s eta 0:00:16\n",
      "   ------------------------------- -------- 18.7/24.0 MB 338.1 kB/s eta 0:00:16\n",
      "   ------------------------------- -------- 18.7/24.0 MB 338.6 kB/s eta 0:00:16\n",
      "   ------------------------------- -------- 18.7/24.0 MB 337.9 kB/s eta 0:00:16\n",
      "   ------------------------------- -------- 18.7/24.0 MB 338.1 kB/s eta 0:00:16\n",
      "   ------------------------------- -------- 18.8/24.0 MB 337.9 kB/s eta 0:00:16\n",
      "   ------------------------------- -------- 18.8/24.0 MB 338.1 kB/s eta 0:00:16\n",
      "   ------------------------------- -------- 18.8/24.0 MB 338.3 kB/s eta 0:00:16\n",
      "   ------------------------------- -------- 18.8/24.0 MB 338.3 kB/s eta 0:00:16\n",
      "   ------------------------------- -------- 18.8/24.0 MB 337.9 kB/s eta 0:00:16\n",
      "   ------------------------------- -------- 18.9/24.0 MB 338.1 kB/s eta 0:00:16\n",
      "   ------------------------------- -------- 18.9/24.0 MB 338.4 kB/s eta 0:00:16\n",
      "   ------------------------------- -------- 18.9/24.0 MB 338.1 kB/s eta 0:00:16\n",
      "   ------------------------------- -------- 18.9/24.0 MB 338.1 kB/s eta 0:00:16\n",
      "   ------------------------------- -------- 18.9/24.0 MB 338.1 kB/s eta 0:00:16\n",
      "   ------------------------------- -------- 18.9/24.0 MB 338.4 kB/s eta 0:00:15\n",
      "   ------------------------------- -------- 19.0/24.0 MB 338.1 kB/s eta 0:00:15\n",
      "   ------------------------------- -------- 19.0/24.0 MB 338.1 kB/s eta 0:00:15\n",
      "   ------------------------------- -------- 19.0/24.0 MB 337.9 kB/s eta 0:00:15\n",
      "   ------------------------------- -------- 19.0/24.0 MB 338.3 kB/s eta 0:00:15\n",
      "   ------------------------------- -------- 19.0/24.0 MB 338.6 kB/s eta 0:00:15\n",
      "   ------------------------------- -------- 19.1/24.0 MB 338.6 kB/s eta 0:00:15\n",
      "   ------------------------------- -------- 19.1/24.0 MB 338.3 kB/s eta 0:00:15\n",
      "   ------------------------------- -------- 19.1/24.0 MB 338.1 kB/s eta 0:00:15\n",
      "   ------------------------------- -------- 19.1/24.0 MB 338.6 kB/s eta 0:00:15\n",
      "   ------------------------------- -------- 19.1/24.0 MB 338.3 kB/s eta 0:00:15\n",
      "   ------------------------------- -------- 19.1/24.0 MB 338.3 kB/s eta 0:00:15\n",
      "   ------------------------------- -------- 19.2/24.0 MB 338.1 kB/s eta 0:00:15\n",
      "   ------------------------------- -------- 19.2/24.0 MB 338.1 kB/s eta 0:00:15\n",
      "   -------------------------------- ------- 19.2/24.0 MB 338.4 kB/s eta 0:00:15\n",
      "   -------------------------------- ------- 19.2/24.0 MB 338.3 kB/s eta 0:00:15\n",
      "   -------------------------------- ------- 19.3/24.0 MB 338.4 kB/s eta 0:00:15\n",
      "   -------------------------------- ------- 19.3/24.0 MB 338.1 kB/s eta 0:00:15\n",
      "   -------------------------------- ------- 19.3/24.0 MB 338.6 kB/s eta 0:00:14\n",
      "   -------------------------------- ------- 19.3/24.0 MB 338.6 kB/s eta 0:00:14\n",
      "   -------------------------------- ------- 19.3/24.0 MB 338.8 kB/s eta 0:00:14\n",
      "   -------------------------------- ------- 19.4/24.0 MB 344.1 kB/s eta 0:00:14\n",
      "   -------------------------------- ------- 19.4/24.0 MB 344.1 kB/s eta 0:00:14\n",
      "   -------------------------------- ------- 19.4/24.0 MB 344.1 kB/s eta 0:00:14\n",
      "   -------------------------------- ------- 19.4/24.0 MB 344.2 kB/s eta 0:00:14\n",
      "   -------------------------------- ------- 19.4/24.0 MB 344.2 kB/s eta 0:00:14\n",
      "   -------------------------------- ------- 19.4/24.0 MB 343.7 kB/s eta 0:00:14\n",
      "   -------------------------------- ------- 19.5/24.0 MB 344.0 kB/s eta 0:00:14\n",
      "   -------------------------------- ------- 19.5/24.0 MB 343.7 kB/s eta 0:00:14\n",
      "   -------------------------------- ------- 19.5/24.0 MB 343.7 kB/s eta 0:00:14\n",
      "   -------------------------------- ------- 19.5/24.0 MB 342.9 kB/s eta 0:00:14\n",
      "   -------------------------------- ------- 19.5/24.0 MB 342.4 kB/s eta 0:00:14\n",
      "   -------------------------------- ------- 19.6/24.0 MB 341.7 kB/s eta 0:00:13\n",
      "   -------------------------------- ------- 19.6/24.0 MB 341.2 kB/s eta 0:00:13\n",
      "   -------------------------------- ------- 19.6/24.0 MB 339.3 kB/s eta 0:00:14\n",
      "   -------------------------------- ------- 19.6/24.0 MB 339.0 kB/s eta 0:00:13\n",
      "   -------------------------------- ------- 19.6/24.0 MB 338.8 kB/s eta 0:00:13\n",
      "   -------------------------------- ------- 19.7/24.0 MB 338.8 kB/s eta 0:00:13\n",
      "   -------------------------------- ------- 19.7/24.0 MB 338.4 kB/s eta 0:00:13\n",
      "   -------------------------------- ------- 19.7/24.0 MB 338.8 kB/s eta 0:00:13\n",
      "   -------------------------------- ------- 19.7/24.0 MB 339.0 kB/s eta 0:00:13\n",
      "   -------------------------------- ------- 19.7/24.0 MB 338.8 kB/s eta 0:00:13\n",
      "   -------------------------------- ------- 19.7/24.0 MB 338.8 kB/s eta 0:00:13\n",
      "   -------------------------------- ------- 19.7/24.0 MB 338.4 kB/s eta 0:00:13\n",
      "   -------------------------------- ------- 19.8/24.0 MB 339.0 kB/s eta 0:00:13\n",
      "   -------------------------------- ------- 19.8/24.0 MB 339.0 kB/s eta 0:00:13\n",
      "   -------------------------------- ------- 19.8/24.0 MB 339.0 kB/s eta 0:00:13\n",
      "   -------------------------------- ------- 19.8/24.0 MB 339.0 kB/s eta 0:00:13\n",
      "   -------------------------------- ------- 19.8/24.0 MB 339.0 kB/s eta 0:00:13\n",
      "   -------------------------------- ------- 19.8/24.0 MB 339.0 kB/s eta 0:00:13\n",
      "   -------------------------------- ------- 19.8/24.0 MB 339.0 kB/s eta 0:00:13\n",
      "   -------------------------------- ------- 19.8/24.0 MB 339.0 kB/s eta 0:00:13\n",
      "   -------------------------------- ------- 19.8/24.0 MB 339.0 kB/s eta 0:00:13\n",
      "   -------------------------------- ------- 19.8/24.0 MB 339.0 kB/s eta 0:00:13\n",
      "   --------------------------------- ------ 19.9/24.0 MB 338.6 kB/s eta 0:00:12\n",
      "   --------------------------------- ------ 19.9/24.0 MB 338.6 kB/s eta 0:00:12\n",
      "   --------------------------------- ------ 20.0/24.0 MB 338.1 kB/s eta 0:00:12\n",
      "   --------------------------------- ------ 20.0/24.0 MB 338.4 kB/s eta 0:00:12\n",
      "   --------------------------------- ------ 20.0/24.0 MB 338.8 kB/s eta 0:00:12\n",
      "   --------------------------------- ------ 20.0/24.0 MB 338.6 kB/s eta 0:00:12\n",
      "   --------------------------------- ------ 20.0/24.0 MB 338.6 kB/s eta 0:00:12\n",
      "   --------------------------------- ------ 20.1/24.0 MB 338.8 kB/s eta 0:00:12\n",
      "   --------------------------------- ------ 20.1/24.0 MB 338.6 kB/s eta 0:00:12\n",
      "   --------------------------------- ------ 20.1/24.0 MB 338.6 kB/s eta 0:00:12\n",
      "   --------------------------------- ------ 20.1/24.0 MB 338.6 kB/s eta 0:00:12\n",
      "   --------------------------------- ------ 20.1/24.0 MB 338.8 kB/s eta 0:00:12\n",
      "   --------------------------------- ------ 20.2/24.0 MB 338.6 kB/s eta 0:00:12\n",
      "   --------------------------------- ------ 20.2/24.0 MB 338.8 kB/s eta 0:00:12\n",
      "   --------------------------------- ------ 20.2/24.0 MB 338.8 kB/s eta 0:00:12\n",
      "   --------------------------------- ------ 20.2/24.0 MB 338.8 kB/s eta 0:00:12\n",
      "   --------------------------------- ------ 20.2/24.0 MB 338.4 kB/s eta 0:00:12\n",
      "   --------------------------------- ------ 20.3/24.0 MB 338.8 kB/s eta 0:00:12\n",
      "   --------------------------------- ------ 20.3/24.0 MB 338.8 kB/s eta 0:00:12\n",
      "   --------------------------------- ------ 20.3/24.0 MB 338.6 kB/s eta 0:00:12\n",
      "   --------------------------------- ------ 20.3/24.0 MB 339.0 kB/s eta 0:00:11\n",
      "   --------------------------------- ------ 20.3/24.0 MB 338.9 kB/s eta 0:00:11\n",
      "   --------------------------------- ------ 20.3/24.0 MB 338.8 kB/s eta 0:00:11\n",
      "   --------------------------------- ------ 20.4/24.0 MB 339.0 kB/s eta 0:00:11\n",
      "   --------------------------------- ------ 20.4/24.0 MB 338.8 kB/s eta 0:00:11\n",
      "   --------------------------------- ------ 20.4/24.0 MB 338.4 kB/s eta 0:00:11\n",
      "   ---------------------------------- ----- 20.4/24.0 MB 338.8 kB/s eta 0:00:11\n",
      "   ---------------------------------- ----- 20.4/24.0 MB 338.8 kB/s eta 0:00:11\n",
      "   ---------------------------------- ----- 20.4/24.0 MB 338.8 kB/s eta 0:00:11\n",
      "   ---------------------------------- ----- 20.4/24.0 MB 338.8 kB/s eta 0:00:11\n",
      "   ---------------------------------- ----- 20.5/24.0 MB 338.4 kB/s eta 0:00:11\n",
      "   ---------------------------------- ----- 20.5/24.0 MB 338.3 kB/s eta 0:00:11\n",
      "   ---------------------------------- ----- 20.5/24.0 MB 338.6 kB/s eta 0:00:11\n",
      "   ---------------------------------- ----- 20.5/24.0 MB 338.6 kB/s eta 0:00:11\n",
      "   ---------------------------------- ----- 20.6/24.0 MB 338.3 kB/s eta 0:00:11\n",
      "   ---------------------------------- ----- 20.6/24.0 MB 338.3 kB/s eta 0:00:11\n",
      "   ---------------------------------- ----- 20.6/24.0 MB 338.3 kB/s eta 0:00:11\n",
      "   ---------------------------------- ----- 20.6/24.0 MB 338.6 kB/s eta 0:00:11\n",
      "   ---------------------------------- ----- 20.6/24.0 MB 338.3 kB/s eta 0:00:11\n",
      "   ---------------------------------- ----- 20.6/24.0 MB 338.6 kB/s eta 0:00:10\n",
      "   ---------------------------------- ----- 20.6/24.0 MB 338.3 kB/s eta 0:00:10\n",
      "   ---------------------------------- ----- 20.7/24.0 MB 338.6 kB/s eta 0:00:10\n",
      "   ---------------------------------- ----- 20.7/24.0 MB 338.6 kB/s eta 0:00:10\n",
      "   ---------------------------------- ----- 20.7/24.0 MB 338.4 kB/s eta 0:00:10\n",
      "   ---------------------------------- ----- 20.7/24.0 MB 338.6 kB/s eta 0:00:10\n",
      "   ---------------------------------- ----- 20.7/24.0 MB 338.9 kB/s eta 0:00:10\n",
      "   ---------------------------------- ----- 20.8/24.0 MB 339.8 kB/s eta 0:00:10\n",
      "   ---------------------------------- ----- 20.8/24.0 MB 339.6 kB/s eta 0:00:10\n",
      "   ---------------------------------- ----- 20.8/24.0 MB 340.0 kB/s eta 0:00:10\n",
      "   ---------------------------------- ----- 20.8/24.0 MB 340.7 kB/s eta 0:00:10\n",
      "   ---------------------------------- ----- 20.8/24.0 MB 341.0 kB/s eta 0:00:10\n",
      "   ---------------------------------- ----- 20.9/24.0 MB 341.0 kB/s eta 0:00:10\n",
      "   ---------------------------------- ----- 20.9/24.0 MB 341.0 kB/s eta 0:00:10\n",
      "   ---------------------------------- ----- 20.9/24.0 MB 341.0 kB/s eta 0:00:10\n",
      "   ---------------------------------- ----- 20.9/24.0 MB 341.0 kB/s eta 0:00:10\n",
      "   ---------------------------------- ----- 20.9/24.0 MB 341.4 kB/s eta 0:00:10\n",
      "   ---------------------------------- ----- 20.9/24.0 MB 341.0 kB/s eta 0:00:10\n",
      "   ---------------------------------- ----- 21.0/24.0 MB 345.5 kB/s eta 0:00:09\n",
      "   ---------------------------------- ----- 21.0/24.0 MB 345.5 kB/s eta 0:00:09\n",
      "   ---------------------------------- ----- 21.0/24.0 MB 345.3 kB/s eta 0:00:09\n",
      "   ----------------------------------- ---- 21.0/24.0 MB 344.4 kB/s eta 0:00:09\n",
      "   ----------------------------------- ---- 21.0/24.0 MB 343.9 kB/s eta 0:00:09\n",
      "   ----------------------------------- ---- 21.1/24.0 MB 343.3 kB/s eta 0:00:09\n",
      "   ----------------------------------- ---- 21.1/24.0 MB 343.0 kB/s eta 0:00:09\n",
      "   ----------------------------------- ---- 21.1/24.0 MB 342.2 kB/s eta 0:00:09\n",
      "   ----------------------------------- ---- 21.1/24.0 MB 341.9 kB/s eta 0:00:09\n",
      "   ----------------------------------- ---- 21.1/24.0 MB 341.5 kB/s eta 0:00:09\n",
      "   ----------------------------------- ---- 21.1/24.0 MB 341.0 kB/s eta 0:00:09\n",
      "   ----------------------------------- ---- 21.2/24.0 MB 341.2 kB/s eta 0:00:09\n",
      "   ----------------------------------- ---- 21.2/24.0 MB 341.9 kB/s eta 0:00:09\n",
      "   ----------------------------------- ---- 21.2/24.0 MB 341.4 kB/s eta 0:00:09\n",
      "   ----------------------------------- ---- 21.2/24.0 MB 341.5 kB/s eta 0:00:09\n",
      "   ----------------------------------- ---- 21.2/24.0 MB 341.4 kB/s eta 0:00:09\n",
      "   ----------------------------------- ---- 21.3/24.0 MB 341.5 kB/s eta 0:00:09\n",
      "   ----------------------------------- ---- 21.3/24.0 MB 341.2 kB/s eta 0:00:09\n",
      "   ----------------------------------- ---- 21.3/24.0 MB 341.3 kB/s eta 0:00:08\n",
      "   ----------------------------------- ---- 21.3/24.0 MB 341.3 kB/s eta 0:00:08\n",
      "   ----------------------------------- ---- 21.3/24.0 MB 344.8 kB/s eta 0:00:08\n",
      "   ----------------------------------- ---- 21.3/24.0 MB 351.1 kB/s eta 0:00:08\n",
      "   ----------------------------------- ---- 21.4/24.0 MB 350.7 kB/s eta 0:00:08\n",
      "   ----------------------------------- ---- 21.4/24.0 MB 350.7 kB/s eta 0:00:08\n",
      "   ----------------------------------- ---- 21.4/24.0 MB 350.7 kB/s eta 0:00:08\n",
      "   ----------------------------------- ---- 21.4/24.0 MB 350.7 kB/s eta 0:00:08\n",
      "   ----------------------------------- ---- 21.4/24.0 MB 350.7 kB/s eta 0:00:08\n",
      "   ----------------------------------- ---- 21.4/24.0 MB 350.7 kB/s eta 0:00:08\n",
      "   ----------------------------------- ---- 21.4/24.0 MB 350.7 kB/s eta 0:00:08\n",
      "   ----------------------------------- ---- 21.4/24.0 MB 350.7 kB/s eta 0:00:08\n",
      "   ----------------------------------- ---- 21.5/24.0 MB 351.1 kB/s eta 0:00:08\n",
      "   ----------------------------------- ---- 21.5/24.0 MB 350.5 kB/s eta 0:00:08\n",
      "   ----------------------------------- ---- 21.5/24.0 MB 350.9 kB/s eta 0:00:08\n",
      "   ----------------------------------- ---- 21.5/24.0 MB 351.1 kB/s eta 0:00:08\n",
      "   ----------------------------------- ---- 21.6/24.0 MB 351.2 kB/s eta 0:00:07\n",
      "   ----------------------------------- ---- 21.6/24.0 MB 352.8 kB/s eta 0:00:07\n",
      "   ------------------------------------ --- 21.6/24.0 MB 352.9 kB/s eta 0:00:07\n",
      "   ------------------------------------ --- 21.6/24.0 MB 352.9 kB/s eta 0:00:07\n",
      "   ------------------------------------ --- 21.6/24.0 MB 353.3 kB/s eta 0:00:07\n",
      "   ------------------------------------ --- 21.7/24.0 MB 353.7 kB/s eta 0:00:07\n",
      "   ------------------------------------ --- 21.7/24.0 MB 353.1 kB/s eta 0:00:07\n",
      "   ------------------------------------ --- 21.7/24.0 MB 353.1 kB/s eta 0:00:07\n",
      "   ------------------------------------ --- 21.7/24.0 MB 353.1 kB/s eta 0:00:07\n",
      "   ------------------------------------ --- 21.7/24.0 MB 353.1 kB/s eta 0:00:07\n",
      "   ------------------------------------ --- 21.7/24.0 MB 353.1 kB/s eta 0:00:07\n",
      "   ------------------------------------ --- 21.8/24.0 MB 355.0 kB/s eta 0:00:07\n",
      "   ------------------------------------ --- 21.8/24.0 MB 355.8 kB/s eta 0:00:07\n",
      "   ------------------------------------ --- 21.8/24.0 MB 355.8 kB/s eta 0:00:07\n",
      "   ------------------------------------ --- 21.8/24.0 MB 355.8 kB/s eta 0:00:07\n",
      "   ------------------------------------ --- 21.8/24.0 MB 357.9 kB/s eta 0:00:07\n",
      "   ------------------------------------ --- 21.8/24.0 MB 357.6 kB/s eta 0:00:07\n",
      "   ------------------------------------ --- 21.9/24.0 MB 358.9 kB/s eta 0:00:06\n",
      "   ------------------------------------ --- 21.9/24.0 MB 360.1 kB/s eta 0:00:06\n",
      "   ------------------------------------ --- 21.9/24.0 MB 360.7 kB/s eta 0:00:06\n",
      "   ------------------------------------ --- 21.9/24.0 MB 362.3 kB/s eta 0:00:06\n",
      "   ------------------------------------ --- 21.9/24.0 MB 361.7 kB/s eta 0:00:06\n",
      "   ------------------------------------ --- 22.0/24.0 MB 369.3 kB/s eta 0:00:06\n",
      "   ------------------------------------ --- 22.0/24.0 MB 369.1 kB/s eta 0:00:06\n",
      "   ------------------------------------ --- 22.0/24.0 MB 368.2 kB/s eta 0:00:06\n",
      "   ------------------------------------ --- 22.0/24.0 MB 367.8 kB/s eta 0:00:06\n",
      "   ------------------------------------ --- 22.0/24.0 MB 367.2 kB/s eta 0:00:06\n",
      "   ------------------------------------ --- 22.0/24.0 MB 366.8 kB/s eta 0:00:06\n",
      "   ------------------------------------ --- 22.1/24.0 MB 368.2 kB/s eta 0:00:06\n",
      "   ------------------------------------ --- 22.1/24.0 MB 367.6 kB/s eta 0:00:06\n",
      "   ------------------------------------ --- 22.1/24.0 MB 368.0 kB/s eta 0:00:06\n",
      "   ------------------------------------ --- 22.1/24.0 MB 368.6 kB/s eta 0:00:06\n",
      "   ------------------------------------ --- 22.1/24.0 MB 368.8 kB/s eta 0:00:06\n",
      "   ------------------------------------ --- 22.2/24.0 MB 370.7 kB/s eta 0:00:05\n",
      "   ------------------------------------ --- 22.2/24.0 MB 370.1 kB/s eta 0:00:05\n",
      "   ------------------------------------ --- 22.2/24.0 MB 370.7 kB/s eta 0:00:05\n",
      "   ------------------------------------- -- 22.2/24.0 MB 372.0 kB/s eta 0:00:05\n",
      "   ------------------------------------- -- 22.2/24.0 MB 373.5 kB/s eta 0:00:05\n",
      "   ------------------------------------- -- 22.3/24.0 MB 373.0 kB/s eta 0:00:05\n",
      "   ------------------------------------- -- 22.3/24.0 MB 373.5 kB/s eta 0:00:05\n",
      "   ------------------------------------- -- 22.3/24.0 MB 374.1 kB/s eta 0:00:05\n",
      "   ------------------------------------- -- 22.3/24.0 MB 374.3 kB/s eta 0:00:05\n",
      "   ------------------------------------- -- 22.3/24.0 MB 376.0 kB/s eta 0:00:05\n",
      "   ------------------------------------- -- 22.3/24.0 MB 375.6 kB/s eta 0:00:05\n",
      "   ------------------------------------- -- 22.4/24.0 MB 376.5 kB/s eta 0:00:05\n",
      "   ------------------------------------- -- 22.4/24.0 MB 377.3 kB/s eta 0:00:05\n",
      "   ------------------------------------- -- 22.4/24.0 MB 379.1 kB/s eta 0:00:05\n",
      "   ------------------------------------- -- 22.4/24.0 MB 378.4 kB/s eta 0:00:05\n",
      "   ------------------------------------- -- 22.4/24.0 MB 379.3 kB/s eta 0:00:05\n",
      "   ------------------------------------- -- 22.4/24.0 MB 380.0 kB/s eta 0:00:05\n",
      "   ------------------------------------- -- 22.5/24.0 MB 380.2 kB/s eta 0:00:05\n",
      "   ------------------------------------- -- 22.5/24.0 MB 382.2 kB/s eta 0:00:04\n",
      "   ------------------------------------- -- 22.5/24.0 MB 382.2 kB/s eta 0:00:04\n",
      "   ------------------------------------- -- 22.5/24.0 MB 382.6 kB/s eta 0:00:04\n",
      "   ------------------------------------- -- 22.5/24.0 MB 383.1 kB/s eta 0:00:04\n",
      "   ------------------------------------- -- 22.6/24.0 MB 384.4 kB/s eta 0:00:04\n",
      "   ------------------------------------- -- 22.6/24.0 MB 384.9 kB/s eta 0:00:04\n",
      "   ------------------------------------- -- 22.6/24.0 MB 385.3 kB/s eta 0:00:04\n",
      "   ------------------------------------- -- 22.6/24.0 MB 386.3 kB/s eta 0:00:04\n",
      "   ------------------------------------- -- 22.7/24.0 MB 387.9 kB/s eta 0:00:04\n",
      "   ------------------------------------- -- 22.7/24.0 MB 387.4 kB/s eta 0:00:04\n",
      "   ------------------------------------- -- 22.7/24.0 MB 387.9 kB/s eta 0:00:04\n",
      "   ------------------------------------- -- 22.7/24.0 MB 388.6 kB/s eta 0:00:04\n",
      "   ------------------------------------- -- 22.7/24.0 MB 389.2 kB/s eta 0:00:04\n",
      "   ------------------------------------- -- 22.7/24.0 MB 390.9 kB/s eta 0:00:04\n",
      "   ------------------------------------- -- 22.8/24.0 MB 391.1 kB/s eta 0:00:04\n",
      "   ------------------------------------- -- 22.8/24.0 MB 392.0 kB/s eta 0:00:04\n",
      "   ------------------------------------- -- 22.8/24.0 MB 391.8 kB/s eta 0:00:04\n",
      "   -------------------------------------- - 22.8/24.0 MB 392.0 kB/s eta 0:00:04\n",
      "   -------------------------------------- - 22.8/24.0 MB 391.6 kB/s eta 0:00:04\n",
      "   -------------------------------------- - 22.8/24.0 MB 391.8 kB/s eta 0:00:03\n",
      "   -------------------------------------- - 22.9/24.0 MB 391.8 kB/s eta 0:00:03\n",
      "   -------------------------------------- - 22.9/24.0 MB 392.3 kB/s eta 0:00:03\n",
      "   -------------------------------------- - 22.9/24.0 MB 391.6 kB/s eta 0:00:03\n",
      "   -------------------------------------- - 22.9/24.0 MB 391.6 kB/s eta 0:00:03\n",
      "   -------------------------------------- - 23.0/24.0 MB 392.0 kB/s eta 0:00:03\n",
      "   -------------------------------------- - 23.0/24.0 MB 392.0 kB/s eta 0:00:03\n",
      "   -------------------------------------- - 23.0/24.0 MB 391.6 kB/s eta 0:00:03\n",
      "   -------------------------------------- - 23.0/24.0 MB 391.8 kB/s eta 0:00:03\n",
      "   -------------------------------------- - 23.0/24.0 MB 391.8 kB/s eta 0:00:03\n",
      "   -------------------------------------- - 23.0/24.0 MB 391.6 kB/s eta 0:00:03\n",
      "   -------------------------------------- - 23.1/24.0 MB 392.3 kB/s eta 0:00:03\n",
      "   -------------------------------------- - 23.1/24.0 MB 391.8 kB/s eta 0:00:03\n",
      "   -------------------------------------- - 23.1/24.0 MB 391.8 kB/s eta 0:00:03\n",
      "   -------------------------------------- - 23.1/24.0 MB 391.8 kB/s eta 0:00:03\n",
      "   -------------------------------------- - 23.1/24.0 MB 392.3 kB/s eta 0:00:03\n",
      "   -------------------------------------- - 23.2/24.0 MB 391.8 kB/s eta 0:00:03\n",
      "   -------------------------------------- - 23.2/24.0 MB 391.6 kB/s eta 0:00:03\n",
      "   -------------------------------------- - 23.2/24.0 MB 391.6 kB/s eta 0:00:03\n",
      "   -------------------------------------- - 23.2/24.0 MB 391.8 kB/s eta 0:00:03\n",
      "   -------------------------------------- - 23.2/24.0 MB 392.3 kB/s eta 0:00:03\n",
      "   -------------------------------------- - 23.3/24.0 MB 391.8 kB/s eta 0:00:02\n",
      "   -------------------------------------- - 23.3/24.0 MB 391.6 kB/s eta 0:00:02\n",
      "   -------------------------------------- - 23.3/24.0 MB 391.8 kB/s eta 0:00:02\n",
      "   -------------------------------------- - 23.3/24.0 MB 392.3 kB/s eta 0:00:02\n",
      "   -------------------------------------- - 23.3/24.0 MB 391.6 kB/s eta 0:00:02\n",
      "   -------------------------------------- - 23.3/24.0 MB 391.8 kB/s eta 0:00:02\n",
      "   -------------------------------------- - 23.4/24.0 MB 391.6 kB/s eta 0:00:02\n",
      "   -------------------------------------- - 23.4/24.0 MB 392.3 kB/s eta 0:00:02\n",
      "   -------------------------------------- - 23.4/24.0 MB 391.3 kB/s eta 0:00:02\n",
      "   ---------------------------------------  23.4/24.0 MB 391.6 kB/s eta 0:00:02\n",
      "   ---------------------------------------  23.4/24.0 MB 391.8 kB/s eta 0:00:02\n",
      "   ---------------------------------------  23.5/24.0 MB 392.3 kB/s eta 0:00:02\n",
      "   ---------------------------------------  23.5/24.0 MB 391.3 kB/s eta 0:00:02\n",
      "   ---------------------------------------  23.5/24.0 MB 391.8 kB/s eta 0:00:02\n",
      "   ---------------------------------------  23.5/24.0 MB 391.8 kB/s eta 0:00:02\n",
      "   ---------------------------------------  23.5/24.0 MB 391.6 kB/s eta 0:00:02\n",
      "   ---------------------------------------  23.6/24.0 MB 392.0 kB/s eta 0:00:02\n",
      "   ---------------------------------------  23.6/24.0 MB 391.6 kB/s eta 0:00:02\n",
      "   ---------------------------------------  23.6/24.0 MB 392.0 kB/s eta 0:00:02\n",
      "   ---------------------------------------  23.6/24.0 MB 391.8 kB/s eta 0:00:02\n",
      "   ---------------------------------------  23.6/24.0 MB 392.3 kB/s eta 0:00:01\n",
      "   ---------------------------------------  23.6/24.0 MB 391.8 kB/s eta 0:00:01\n",
      "   ---------------------------------------  23.7/24.0 MB 391.6 kB/s eta 0:00:01\n",
      "   ---------------------------------------  23.7/24.0 MB 391.8 kB/s eta 0:00:01\n",
      "   ---------------------------------------  23.7/24.0 MB 391.6 kB/s eta 0:00:01\n",
      "   ---------------------------------------  23.7/24.0 MB 392.3 kB/s eta 0:00:01\n",
      "   ---------------------------------------  23.7/24.0 MB 391.6 kB/s eta 0:00:01\n",
      "   ---------------------------------------  23.7/24.0 MB 391.8 kB/s eta 0:00:01\n",
      "   ---------------------------------------  23.8/24.0 MB 391.8 kB/s eta 0:00:01\n",
      "   ---------------------------------------  23.8/24.0 MB 392.3 kB/s eta 0:00:01\n",
      "   ---------------------------------------  23.8/24.0 MB 391.6 kB/s eta 0:00:01\n",
      "   ---------------------------------------  23.8/24.0 MB 391.8 kB/s eta 0:00:01\n",
      "   ---------------------------------------  23.8/24.0 MB 391.6 kB/s eta 0:00:01\n",
      "   ---------------------------------------  23.9/24.0 MB 391.6 kB/s eta 0:00:01\n",
      "   ---------------------------------------  23.9/24.0 MB 392.5 kB/s eta 0:00:01\n",
      "   ---------------------------------------  23.9/24.0 MB 391.8 kB/s eta 0:00:01\n",
      "   ---------------------------------------  23.9/24.0 MB 392.3 kB/s eta 0:00:01\n",
      "   ---------------------------------------  23.9/24.0 MB 393.0 kB/s eta 0:00:01\n",
      "   ---------------------------------------  24.0/24.0 MB 392.7 kB/s eta 0:00:01\n",
      "   ---------------------------------------  24.0/24.0 MB 392.7 kB/s eta 0:00:01\n",
      "   ---------------------------------------  24.0/24.0 MB 392.7 kB/s eta 0:00:01\n",
      "   ---------------------------------------  24.0/24.0 MB 393.2 kB/s eta 0:00:01\n",
      "   ---------------------------------------- 24.0/24.0 MB 391.9 kB/s eta 0:00:00\n",
      "Downloading smart_open-7.0.4-py3-none-any.whl (61 kB)\n",
      "   ---------------------------------------- 0.0/61.2 kB ? eta -:--:--\n",
      "   ------ --------------------------------- 10.2/61.2 kB ? eta -:--:--\n",
      "   -------------------- ------------------- 30.7/61.2 kB 445.2 kB/s eta 0:00:01\n",
      "   -------------------------- ------------- 41.0/61.2 kB 330.3 kB/s eta 0:00:01\n",
      "   ---------------------------------------- 61.2/61.2 kB 326.8 kB/s eta 0:00:00\n",
      "Downloading wrapt-1.16.0-cp311-cp311-win_amd64.whl (37 kB)\n",
      "Installing collected packages: wrapt, smart-open, gensim\n",
      "Successfully installed gensim-4.3.2 smart-open-7.0.4 wrapt-1.16.0\n"
     ]
    }
   ],
   "source": [
    "! pip install gensim"
   ]
  },
  {
   "cell_type": "code",
   "execution_count": 30,
   "metadata": {},
   "outputs": [
    {
     "name": "stderr",
     "output_type": "stream",
     "text": [
      "ERROR: Could not find a version that satisfies the requirement gensim.downloader (from versions: none)\n",
      "ERROR: No matching distribution found for gensim.downloader\n"
     ]
    }
   ],
   "source": [
    "! pip install gensim.downloader"
   ]
  },
  {
   "cell_type": "markdown",
   "metadata": {
    "id": "lRumeJnUWWU3"
   },
   "source": [
    "Word embeddings"
   ]
  },
  {
   "cell_type": "code",
   "execution_count": 33,
   "metadata": {
    "id": "H1j5IjFtWZSt"
   },
   "outputs": [
    {
     "name": "stdout",
     "output_type": "stream",
     "text": [
      "[====----------------------------------------------] 8.1% 78.0/958.4MB downloaded"
     ]
    },
    {
     "ename": "ContentTooShortError",
     "evalue": "<urlopen error retrieval incomplete: got only 81747136 out of 1005007125 bytes>",
     "output_type": "error",
     "traceback": [
      "\u001b[1;31m---------------------------------------------------------------------------\u001b[0m",
      "\u001b[1;31mContentTooShortError\u001b[0m                      Traceback (most recent call last)",
      "Cell \u001b[1;32mIn[33], line 3\u001b[0m\n\u001b[0;32m      1\u001b[0m \u001b[38;5;66;03m# load pre-trained model\u001b[39;00m\n\u001b[0;32m      2\u001b[0m \u001b[38;5;28;01mimport\u001b[39;00m \u001b[38;5;21;01mgensim\u001b[39;00m\u001b[38;5;21;01m.\u001b[39;00m\u001b[38;5;21;01mdownloader\u001b[39;00m \u001b[38;5;28;01mas\u001b[39;00m \u001b[38;5;21;01mapi\u001b[39;00m\n\u001b[1;32m----> 3\u001b[0m model_wiki \u001b[38;5;241m=\u001b[39m \u001b[43mapi\u001b[49m\u001b[38;5;241;43m.\u001b[39;49m\u001b[43mload\u001b[49m\u001b[43m(\u001b[49m\u001b[38;5;124;43m'\u001b[39;49m\u001b[38;5;124;43mfasttext-wiki-news-subwords-300\u001b[39;49m\u001b[38;5;124;43m'\u001b[39;49m\u001b[43m)\u001b[49m\n",
      "File \u001b[1;32mc:\\Users\\Krishna Sai\\AppData\\Local\\Programs\\Python\\Python311\\Lib\\site-packages\\gensim\\downloader.py:496\u001b[0m, in \u001b[0;36mload\u001b[1;34m(name, return_path)\u001b[0m\n\u001b[0;32m    494\u001b[0m path \u001b[38;5;241m=\u001b[39m os\u001b[38;5;241m.\u001b[39mpath\u001b[38;5;241m.\u001b[39mjoin(folder_dir, file_name)\n\u001b[0;32m    495\u001b[0m \u001b[38;5;28;01mif\u001b[39;00m \u001b[38;5;129;01mnot\u001b[39;00m os\u001b[38;5;241m.\u001b[39mpath\u001b[38;5;241m.\u001b[39mexists(folder_dir):\n\u001b[1;32m--> 496\u001b[0m     \u001b[43m_download\u001b[49m\u001b[43m(\u001b[49m\u001b[43mname\u001b[49m\u001b[43m)\u001b[49m\n\u001b[0;32m    498\u001b[0m \u001b[38;5;28;01mif\u001b[39;00m return_path:\n\u001b[0;32m    499\u001b[0m     \u001b[38;5;28;01mreturn\u001b[39;00m path\n",
      "File \u001b[1;32mc:\\Users\\Krishna Sai\\AppData\\Local\\Programs\\Python\\Python311\\Lib\\site-packages\\gensim\\downloader.py:396\u001b[0m, in \u001b[0;36m_download\u001b[1;34m(name)\u001b[0m\n\u001b[0;32m    394\u001b[0m fname \u001b[38;5;241m=\u001b[39m \u001b[38;5;124m\"\u001b[39m\u001b[38;5;132;01m{fname}\u001b[39;00m\u001b[38;5;124m.gz\u001b[39m\u001b[38;5;124m\"\u001b[39m\u001b[38;5;241m.\u001b[39mformat(fname\u001b[38;5;241m=\u001b[39mname)\n\u001b[0;32m    395\u001b[0m dst_path \u001b[38;5;241m=\u001b[39m os\u001b[38;5;241m.\u001b[39mpath\u001b[38;5;241m.\u001b[39mjoin(tmp_dir, fname)\n\u001b[1;32m--> 396\u001b[0m \u001b[43murllib\u001b[49m\u001b[38;5;241;43m.\u001b[39;49m\u001b[43murlretrieve\u001b[49m\u001b[43m(\u001b[49m\u001b[43murl_data\u001b[49m\u001b[43m,\u001b[49m\u001b[43m \u001b[49m\u001b[43mdst_path\u001b[49m\u001b[43m,\u001b[49m\u001b[43m \u001b[49m\u001b[43mreporthook\u001b[49m\u001b[38;5;241;43m=\u001b[39;49m\u001b[43m_progress\u001b[49m\u001b[43m)\u001b[49m\n\u001b[0;32m    397\u001b[0m \u001b[38;5;28;01mif\u001b[39;00m _calculate_md5_checksum(dst_path) \u001b[38;5;241m==\u001b[39m _get_checksum(name):\n\u001b[0;32m    398\u001b[0m     sys\u001b[38;5;241m.\u001b[39mstdout\u001b[38;5;241m.\u001b[39mwrite(\u001b[38;5;124m\"\u001b[39m\u001b[38;5;130;01m\\n\u001b[39;00m\u001b[38;5;124m\"\u001b[39m)\n",
      "File \u001b[1;32mc:\\Users\\Krishna Sai\\AppData\\Local\\Programs\\Python\\Python311\\Lib\\urllib\\request.py:280\u001b[0m, in \u001b[0;36murlretrieve\u001b[1;34m(url, filename, reporthook, data)\u001b[0m\n\u001b[0;32m    277\u001b[0m                 reporthook(blocknum, bs, size)\n\u001b[0;32m    279\u001b[0m \u001b[38;5;28;01mif\u001b[39;00m size \u001b[38;5;241m>\u001b[39m\u001b[38;5;241m=\u001b[39m \u001b[38;5;241m0\u001b[39m \u001b[38;5;129;01mand\u001b[39;00m read \u001b[38;5;241m<\u001b[39m size:\n\u001b[1;32m--> 280\u001b[0m     \u001b[38;5;28;01mraise\u001b[39;00m ContentTooShortError(\n\u001b[0;32m    281\u001b[0m         \u001b[38;5;124m\"\u001b[39m\u001b[38;5;124mretrieval incomplete: got only \u001b[39m\u001b[38;5;132;01m%i\u001b[39;00m\u001b[38;5;124m out of \u001b[39m\u001b[38;5;132;01m%i\u001b[39;00m\u001b[38;5;124m bytes\u001b[39m\u001b[38;5;124m\"\u001b[39m\n\u001b[0;32m    282\u001b[0m         \u001b[38;5;241m%\u001b[39m (read, size), result)\n\u001b[0;32m    284\u001b[0m \u001b[38;5;28;01mreturn\u001b[39;00m result\n",
      "\u001b[1;31mContentTooShortError\u001b[0m: <urlopen error retrieval incomplete: got only 81747136 out of 1005007125 bytes>"
     ]
    }
   ],
   "source": [
    "# load pre-trained model\n",
    "import gensim.downloader as api\n",
    "model_wiki = api.load('fasttext-wiki-news-subwords-300')"
   ]
  },
  {
   "cell_type": "code",
   "execution_count": null,
   "metadata": {
    "id": "sHfAaCr4WbfQ"
   },
   "outputs": [],
   "source": [
    "from gensim.models import Word2Vec\n",
    "\n",
    "# train word2vec model on the corpus\n",
    "model_w2v = Word2Vec(x_train + x_test + x_validation,   # data for model to train on\n",
    "                     size = 300,                            # embedding vector size\n",
    "                     min_count = 2).wv  "
   ]
  },
  {
   "cell_type": "markdown",
   "metadata": {
    "id": "F4O04_YZcraE"
   },
   "source": [
    "Converting sentences into vectors"
   ]
  },
  {
   "cell_type": "code",
   "execution_count": 78,
   "metadata": {
    "id": "GwXnmSbIcsNp"
   },
   "outputs": [],
   "source": [
    "from tensorflow.keras.preprocessing.text import Tokenizer"
   ]
  },
  {
   "cell_type": "code",
   "execution_count": 79,
   "metadata": {
    "id": "AuE7IAo-cu4o"
   },
   "outputs": [],
   "source": [
    "DICT_SIZE = 15000\n",
    "\n",
    "# creating a dictionary with most used words\n",
    "# where num of words = DICT_SIZE\n",
    "tokenizer = Tokenizer(num_words=DICT_SIZE)\n",
    "total = x_train + x_test + x_validation\n",
    "tokenizer.fit_on_texts(total)"
   ]
  },
  {
   "cell_type": "code",
   "execution_count": 80,
   "metadata": {
    "colab": {
     "base_uri": "https://localhost:8080/"
    },
    "id": "W0iCnkUfcxbH",
    "outputId": "71e0517b-e54a-4b0d-94d2-c83ea41b41f0"
   },
   "outputs": [
    {
     "data": {
      "text/plain": [
       "[('feel', 1), ('feeling', 2), ('like', 3), ('im', 4), ('really', 5)]"
      ]
     },
     "execution_count": 80,
     "metadata": {
      "tags": []
     },
     "output_type": "execute_result"
    }
   ],
   "source": [
    "# words and their indexes\n",
    "list(tokenizer.word_index.items())[:5]"
   ]
  },
  {
   "cell_type": "code",
   "execution_count": 81,
   "metadata": {
    "colab": {
     "base_uri": "https://localhost:8080/"
    },
    "id": "PTF9GiTkc08o",
    "outputId": "0f149fe4-3fc0-4bd7-b247-c505e3797853"
   },
   "outputs": [
    {
     "data": {
      "text/plain": [
       "16045"
      ]
     },
     "execution_count": 81,
     "metadata": {
      "tags": []
     },
     "output_type": "execute_result"
    }
   ],
   "source": [
    "# number of unique words in the corpus\n",
    "len(tokenizer.word_index)"
   ]
  },
  {
   "cell_type": "code",
   "execution_count": 83,
   "metadata": {
    "id": "QoKKLr58c2_U"
   },
   "outputs": [],
   "source": [
    "# find max length of sentences across all parts of the dataset\n",
    "x_train_max_len = max([len(i) for i in x_train])\n",
    "x_test_max_len = max([len(i) for i in x_test])\n",
    "x_validation_max_len = max([len(i) for i in x_validation])\n",
    "\n",
    "MAX_LEN = max(x_train_max_len, x_test_max_len, x_validation_max_len)"
   ]
  },
  {
   "cell_type": "code",
   "execution_count": 84,
   "metadata": {
    "colab": {
     "base_uri": "https://localhost:8080/"
    },
    "id": "mxvNMHt1c44w",
    "outputId": "4d15fc44-1e3c-40a2-bc91-4a2b38eeda2c"
   },
   "outputs": [
    {
     "data": {
      "text/plain": [
       "35"
      ]
     },
     "execution_count": 84,
     "metadata": {
      "tags": []
     },
     "output_type": "execute_result"
    }
   ],
   "source": [
    "# max length across all sentences\n",
    "MAX_LEN"
   ]
  },
  {
   "cell_type": "code",
   "execution_count": 85,
   "metadata": {
    "id": "DJwS6Lw_c6mQ"
   },
   "outputs": [],
   "source": [
    "from tensorflow.keras.preprocessing.sequence import pad_sequences"
   ]
  },
  {
   "cell_type": "code",
   "execution_count": 86,
   "metadata": {
    "id": "VftdvAGEc88P"
   },
   "outputs": [],
   "source": [
    "# replace words with their indexes, \n",
    "# change size of vectors to MAX_LEN and pad indexes \n",
    "X_train = tokenizer.texts_to_sequences(x_train)\n",
    "X_train_pad = pad_sequences(X_train, maxlen=MAX_LEN)\n",
    "\n",
    "X_test = tokenizer.texts_to_sequences(x_test)\n",
    "X_test_pad = pad_sequences(X_test, maxlen=MAX_LEN)\n",
    "\n",
    "X_val = tokenizer.texts_to_sequences(x_validation)\n",
    "X_val_pad = pad_sequences(X_val, maxlen=MAX_LEN)"
   ]
  },
  {
   "cell_type": "code",
   "execution_count": 87,
   "metadata": {
    "colab": {
     "base_uri": "https://localhost:8080/"
    },
    "id": "Iagx3Iffc_c1",
    "outputId": "d4b125b8-071d-44ae-faa0-e8ff5a42320f"
   },
   "outputs": [
    {
     "data": {
      "text/plain": [
       "[51, 1, 556]"
      ]
     },
     "execution_count": 87,
     "metadata": {
      "tags": []
     },
     "output_type": "execute_result"
    }
   ],
   "source": [
    "# words are replaced by their indexes\n",
    "X_train[0]"
   ]
  },
  {
   "cell_type": "code",
   "execution_count": 88,
   "metadata": {
    "colab": {
     "base_uri": "https://localhost:8080/"
    },
    "id": "uH9eDTxYdBTe",
    "outputId": "75f00ce4-648c-4f6a-b873-df8d77374fff"
   },
   "outputs": [
    {
     "data": {
      "text/plain": [
       "array([  0,   0,   0,   0,   0,   0,   0,   0,   0,   0,   0,   0,   0,\n",
       "         0,   0,   0,   0,   0,   0,   0,   0,   0,   0,   0,   0,   0,\n",
       "         0,   0,   0,   0,   0,   0,  51,   1, 556], dtype=int32)"
      ]
     },
     "execution_count": 88,
     "metadata": {
      "tags": []
     },
     "output_type": "execute_result"
    }
   ],
   "source": [
    "# sentence after padding\n",
    "X_train_pad[0]"
   ]
  },
  {
   "cell_type": "markdown",
   "metadata": {
    "id": "h9fypdd6dF0e"
   },
   "source": [
    "Embedding matrix"
   ]
  },
  {
   "cell_type": "code",
   "execution_count": 89,
   "metadata": {
    "id": "v-vYhfaSgets"
   },
   "outputs": [],
   "source": [
    "from gensim.models import KeyedVectors\n",
    "Word2VecKeyedVectors = KeyedVectors"
   ]
  },
  {
   "cell_type": "code",
   "execution_count": 3,
   "metadata": {
    "id": "ZsiJmrA-dGTG"
   },
   "outputs": [],
   "source": [
    "def create_weight_matrix(model, second_model=False):\n",
    "  vector_size = model.get_vector('like').shape[0]\n",
    "  w_matrix = np.zeros((DICT_SIZE, vector_size))\n",
    "  skipped_words = []\n",
    "\n",
    "  for word, index in tokenizer.word_index.items():\n",
    "    if index < DICT_SIZE:\n",
    "      if word in model.wv.vocab: \n",
    "        w_matrix[index] = model.get_vector(word)\n",
    "      else:\n",
    "        if second_model:\n",
    "          if word in second_model.wv.vocab:\n",
    "            w_matrix[index] = second_model.get_vector(word)\n",
    "          else:\n",
    "            skipped_words.append(word)\n",
    "        else:\n",
    "          skipped_words.append(word)\n",
    "  print(f'{len(skipped_words)} words were skipped. Some of them:')\n",
    "  print(skipped_words[:50])\n",
    "  return w_matrix"
   ]
  },
  {
   "cell_type": "code",
   "execution_count": 5,
   "metadata": {
    "colab": {
     "base_uri": "https://localhost:8080/"
    },
    "id": "iWUqA0YZdNqx",
    "outputId": "a70af247-adf6-479f-a647-485d9841e545"
   },
   "outputs": [
    {
     "ename": "NameError",
     "evalue": "name 'model_wiki' is not defined",
     "output_type": "error",
     "traceback": [
      "\u001b[1;31m---------------------------------------------------------------------------\u001b[0m",
      "\u001b[1;31mNameError\u001b[0m                                 Traceback (most recent call last)",
      "Cell \u001b[1;32mIn[5], line 1\u001b[0m\n\u001b[1;32m----> 1\u001b[0m weight_matrix \u001b[38;5;241m=\u001b[39m create_weight_matrix(\u001b[43mmodel_wiki\u001b[49m, model_w2v)\n",
      "\u001b[1;31mNameError\u001b[0m: name 'model_wiki' is not defined"
     ]
    }
   ],
   "source": [
    "weight_matrix = create_weight_matrix(model_wiki, model_w2v)"
   ]
  },
  {
   "cell_type": "code",
   "execution_count": 106,
   "metadata": {
    "colab": {
     "base_uri": "https://localhost:8080/"
    },
    "id": "Vx_BoDHadxrB",
    "outputId": "edec3e73-ba7f-40cf-e8cc-c6d35b1b09e1"
   },
   "outputs": [
    {
     "data": {
      "text/plain": [
       "(15000, 300)"
      ]
     },
     "execution_count": 106,
     "metadata": {
      "tags": []
     },
     "output_type": "execute_result"
    }
   ],
   "source": [
    "weight_matrix.shape"
   ]
  },
  {
   "cell_type": "markdown",
   "metadata": {
    "id": "jvnzwSfksna4"
   },
   "source": [
    "DL model"
   ]
  },
  {
   "cell_type": "code",
   "execution_count": 107,
   "metadata": {
    "id": "huSaobdwqaat"
   },
   "outputs": [],
   "source": [
    "# import models, layers, optimizers from tensorflow\n",
    "from tensorflow.keras.models import Sequential\n",
    "from tensorflow.keras.layers import Embedding, LSTM, Bidirectional, Dense, Dropout\n",
    "from tensorflow.keras.optimizers import Adam"
   ]
  },
  {
   "cell_type": "code",
   "execution_count": 108,
   "metadata": {
    "id": "UhIgFXUFsqgz"
   },
   "outputs": [],
   "source": [
    "# import and initialize early stopping\n",
    "from tensorflow.keras.callbacks import EarlyStopping\n",
    "stop = EarlyStopping(monitor='val_loss', mode='min', verbose=1, patience=3)"
   ]
  },
  {
   "cell_type": "code",
   "execution_count": 109,
   "metadata": {
    "id": "ogW-TO0As6lI"
   },
   "outputs": [],
   "source": [
    "# initialize sequential model\n",
    "model = Sequential()\n",
    "model.add(Embedding(input_dim = DICT_SIZE, # the whole vocabulary size\n",
    "                    output_dim = weight_matrix.shape[1], # vector space dimension\n",
    "                    input_length = X_train_pad.shape[1], # max_len of text sequence\n",
    "                    weights=[weight_matrix], # assign the embedding weight with embedding marix\n",
    "                    trainable=False)) # set the weight to be not trainable (static)"
   ]
  },
  {
   "cell_type": "code",
   "execution_count": 110,
   "metadata": {
    "id": "fAyZpl3ytAte"
   },
   "outputs": [],
   "source": [
    "model.add(Bidirectional(LSTM(128, return_sequences=True))) \n",
    "model.add(Dropout(0.2))\n",
    "model.add(Bidirectional(LSTM(256, return_sequences=True)))\n",
    "model.add(Dropout(0.2))\n",
    "model.add(Bidirectional(LSTM(128, return_sequences=False)))\n",
    "model.add(Dense(6, activation = 'softmax'))\n",
    "model.compile(loss='sparse_categorical_crossentropy', optimizer='adam', metrics='accuracy')"
   ]
  },
  {
   "cell_type": "code",
   "execution_count": 111,
   "metadata": {
    "colab": {
     "base_uri": "https://localhost:8080/"
    },
    "id": "F-Kxsr4ctD5w",
    "outputId": "98d51e95-110b-48ac-ea68-6564be7c5442"
   },
   "outputs": [
    {
     "name": "stdout",
     "output_type": "stream",
     "text": [
      "Epoch 1/20\n",
      "2000/2000 [==============================] - 945s 467ms/step - loss: 0.8584 - accuracy: 0.6885 - val_loss: 0.2923 - val_accuracy: 0.8920\n",
      "Epoch 2/20\n",
      "2000/2000 [==============================] - 944s 472ms/step - loss: 0.2507 - accuracy: 0.9028 - val_loss: 0.1812 - val_accuracy: 0.9215\n",
      "Epoch 3/20\n",
      "2000/2000 [==============================] - 915s 458ms/step - loss: 0.1633 - accuracy: 0.9269 - val_loss: 0.1643 - val_accuracy: 0.9275\n",
      "Epoch 4/20\n",
      "2000/2000 [==============================] - 890s 445ms/step - loss: 0.1395 - accuracy: 0.9349 - val_loss: 0.1456 - val_accuracy: 0.9320\n",
      "Epoch 5/20\n",
      "2000/2000 [==============================] - 919s 460ms/step - loss: 0.1235 - accuracy: 0.9366 - val_loss: 0.1228 - val_accuracy: 0.9370\n",
      "Epoch 6/20\n",
      "2000/2000 [==============================] - 915s 458ms/step - loss: 0.1129 - accuracy: 0.9399 - val_loss: 0.1296 - val_accuracy: 0.9425\n",
      "Epoch 7/20\n",
      "2000/2000 [==============================] - 952s 476ms/step - loss: 0.1085 - accuracy: 0.9427 - val_loss: 0.1404 - val_accuracy: 0.9345\n",
      "Epoch 8/20\n",
      "2000/2000 [==============================] - 899s 449ms/step - loss: 0.1029 - accuracy: 0.9457 - val_loss: 0.1469 - val_accuracy: 0.9370\n",
      "Epoch 00008: early stopping\n"
     ]
    }
   ],
   "source": [
    "history = model.fit(X_train_pad, y_train, \n",
    "                    validation_data = (X_val_pad, y_validation),\n",
    "                    batch_size = 8,\n",
    "                    epochs = 20, \n",
    "                    callbacks = stop)"
   ]
  },
  {
   "cell_type": "code",
   "execution_count": null,
   "metadata": {
    "id": "ZZz56X-wtG8S"
   },
   "outputs": [],
   "source": [
    "from keras.models import load_model\n",
    "model.save('model.h5')"
   ]
  },
  {
   "cell_type": "markdown",
   "metadata": {
    "id": "NbpEb_IJM8eD"
   },
   "source": [
    "Evaluate model"
   ]
  },
  {
   "cell_type": "code",
   "execution_count": 113,
   "metadata": {
    "id": "L80j8pTYMi5o"
   },
   "outputs": [],
   "source": [
    "def plot_history(history):\n",
    "    \n",
    "    loss = history.history['loss']\n",
    "    accuracy = history.history['accuracy']\n",
    "    val_loss = history.history['val_loss']\n",
    "    val_accuracy = history.history['val_accuracy']\n",
    "    x = range(1, len(loss) + 1)\n",
    "\n",
    "    plt.figure(figsize=(12, 5))\n",
    "    plt.subplot(1, 2, 1)\n",
    "    plt.plot(x, accuracy, label='Training acc', color='#707bfb')\n",
    "    plt.plot(x, val_accuracy, label='Validation acc', color='#fbcbff')\n",
    "    plt.title('Training and validation accuracy')\n",
    "    plt.grid(True)\n",
    "    plt.legend()\n",
    "    plt.subplot(1, 2, 2)\n",
    "    plt.plot(x, loss, label='Training loss', color='#707bfb')\n",
    "    plt.plot(x, val_loss, label='Validation loss', color='#fbcbff')\n",
    "    plt.title('Training and validation loss')\n",
    "    plt.grid(True)\n",
    "    plt.legend()"
   ]
  },
  {
   "cell_type": "code",
   "execution_count": 114,
   "metadata": {
    "colab": {
     "base_uri": "https://localhost:8080/",
     "height": 336
    },
    "id": "jVDmF6N6NEdq",
    "outputId": "b491e5d9-24f5-4d4e-b54e-57c6c52ed5c0"
   },
   "outputs": [
    {
     "data": {
      "image/png": "[encoded data removed]",
      "text/plain": [
       "<Figure size 864x360 with 2 Axes>"
      ]
     },
     "metadata": {
      "needs_background": "light",
      "tags": []
     },
     "output_type": "display_data"
    }
   ],
   "source": [
    "plot_history(history)"
   ]
  },
  {
   "cell_type": "code",
   "execution_count": 115,
   "metadata": {
    "colab": {
     "base_uri": "https://localhost:8080/"
    },
    "id": "RyTG9L9eNI92",
    "outputId": "631a8472-1303-4832-91ab-62f014725ba8"
   },
   "outputs": [
    {
     "name": "stdout",
     "output_type": "stream",
     "text": [
      "63/63 [==============================] - 28s 406ms/step - loss: 0.1532 - accuracy: 0.9245\n"
     ]
    },
    {
     "data": {
      "text/plain": [
       "[0.15321485698223114, 0.9244999885559082]"
      ]
     },
     "execution_count": 115,
     "metadata": {
      "tags": []
     },
     "output_type": "execute_result"
    }
   ],
   "source": [
    "model.evaluate(X_test_pad, y_test) "
   ]
  },
  {
   "cell_type": "code",
   "execution_count": 116,
   "metadata": {
    "id": "4WPzBDYANXRe"
   },
   "outputs": [],
   "source": [
    "y_pred = np.argmax(model.predict(X_test_pad), axis=1)"
   ]
  },
  {
   "cell_type": "code",
   "execution_count": 117,
   "metadata": {
    "colab": {
     "base_uri": "https://localhost:8080/"
    },
    "id": "h7Lr435hNqmU",
    "outputId": "8134dfcd-071b-491b-9f67-b4d44e7d3aa8"
   },
   "outputs": [
    {
     "name": "stdout",
     "output_type": "stream",
     "text": [
      "              precision    recall  f1-score   support\n",
      "\n",
      "           0       0.93      0.91      0.92       275\n",
      "           1       0.88      0.76      0.82       159\n",
      "           2       0.85      0.93      0.89       224\n",
      "           3       0.94      0.96      0.95       695\n",
      "           4       0.96      0.96      0.96       581\n",
      "           5       0.80      0.68      0.74        66\n",
      "\n",
      "    accuracy                           0.92      2000\n",
      "   macro avg       0.89      0.87      0.88      2000\n",
      "weighted avg       0.92      0.92      0.92      2000\n",
      "\n"
     ]
    }
   ],
   "source": [
    "from sklearn import metrics\n",
    "print(metrics.classification_report(y_test, y_pred))"
   ]
  },
  {
   "cell_type": "code",
   "execution_count": 118,
   "metadata": {
    "id": "ylTug-elNv6e"
   },
   "outputs": [],
   "source": [
    "# setting a custom colormap\n",
    "from matplotlib.colors import LinearSegmentedColormap\n",
    "colors = ['#ffffff', '#fbcbff', '#707bfb']\n",
    "cmap = LinearSegmentedColormap.from_list('mycmap', colors)"
   ]
  },
  {
   "cell_type": "code",
   "execution_count": 119,
   "metadata": {
    "id": "uYHKhKd4N2OT"
   },
   "outputs": [],
   "source": [
    "def plot_confusion_matrix(matrix, fmt=''):\n",
    "  '''\n",
    "  Accepts a confusion matrix and a format param\n",
    "  Plots the matrix as a heatmap\n",
    "  Returns nothing\n",
    "\n",
    "  '''\n",
    "  plt.figure(figsize=(6, 5))\n",
    "  sns.heatmap(matrix, annot=True, \n",
    "              cmap=cmap, \n",
    "              fmt=fmt, \n",
    "              xticklabels=emotions_to_labels.keys(), \n",
    "              yticklabels=emotions_to_labels.keys())\n",
    "  plt.ylabel('True labels')\n",
    "  plt.xlabel('Predicted labels')\n",
    "  plt.show()"
   ]
  },
  {
   "cell_type": "code",
   "execution_count": 120,
   "metadata": {
    "colab": {
     "base_uri": "https://localhost:8080/",
     "height": 334
    },
    "id": "SQI30ijjN7Nl",
    "outputId": "f5296041-c84e-44c2-f18f-ca8950e3b4be"
   },
   "outputs": [
    {
     "data": {
      "image/png": "[encoded data removed]",
      "text/plain": [
       "<Figure size 432x360 with 2 Axes>"
      ]
     },
     "metadata": {
      "needs_background": "light",
      "tags": []
     },
     "output_type": "display_data"
    }
   ],
   "source": [
    "matrix = metrics.confusion_matrix(y_test, y_pred)\n",
    "plot_confusion_matrix(matrix)"
   ]
  },
  {
   "cell_type": "code",
   "execution_count": 121,
   "metadata": {
    "colab": {
     "base_uri": "https://localhost:8080/",
     "height": 334
    },
    "id": "HWcEzhULN9vS",
    "outputId": "aea2c58b-a425-432e-c518-cdfd005fb65b"
   },
   "outputs": [
    {
     "data": {
      "image/png": "[encoded data removed]",
      "text/plain": [
       "<Figure size 432x360 with 2 Axes>"
      ]
     },
     "metadata": {
      "needs_background": "light",
      "tags": []
     },
     "output_type": "display_data"
    }
   ],
   "source": [
    "# create new confusion matrix\n",
    "# where values are normed by row\n",
    "matrix_new = np.zeros(matrix.shape)\n",
    "\n",
    "for row in range(len(matrix)):\n",
    "  sum = np.sum(matrix[row])\n",
    "  for element in range(len(matrix[row])):\n",
    "    matrix_new[row][element] = matrix[row][element] / sum\n",
    "\n",
    "plot_confusion_matrix(matrix_new, fmt='.2')"
   ]
  },
  {
   "cell_type": "markdown",
   "metadata": {
    "id": "Y7ARKQeROV7w"
   },
   "source": [
    "Test model on custom data"
   ]
  },
  {
   "cell_type": "code",
   "execution_count": 122,
   "metadata": {
    "id": "b15q3tw4OLtz"
   },
   "outputs": [],
   "source": [
    "def predict(texts):\n",
    "  '''\n",
    "  Accepts array if texts (strings)\n",
    "  Prints sentence and the corresponding label (emotion)\n",
    "  Returns nothing\n",
    "  \n",
    "  '''\n",
    "  texts_prepr = [text_preprocess(t) for t in texts]\n",
    "  sequences = tokenizer.texts_to_sequences(texts_prepr)\n",
    "  pad = pad_sequences(sequences, maxlen=MAX_LEN)\n",
    "\n",
    "  predictions = model.predict(pad)\n",
    "  labels = np.argmax(predictions, axis=1)\n",
    "  \n",
    "  for i, lbl in enumerate(labels):\n",
    "    print(f'\\'{texts[i]}\\' --> {labels_to_emotions[lbl]}')"
   ]
  },
  {
   "cell_type": "code",
   "execution_count": 123,
   "metadata": {
    "colab": {
     "base_uri": "https://localhost:8080/"
    },
    "id": "JC_629XzOZ-v",
    "outputId": "772274b6-69ff-4fd0-f2dc-9d189c4e809e"
   },
   "outputs": [
    {
     "name": "stdout",
     "output_type": "stream",
     "text": [
      "'I am so happy' --> joy\n",
      "'The man felt lonely' --> fear\n",
      "'The guests felt satisfied' --> joy\n"
     ]
    }
   ],
   "source": [
    "test_texts = ['I am so happy', 'The man felt lonely', 'The guests felt satisfied']\n",
    "\n",
    "predict(test_texts)"
   ]
  },
  {
   "cell_type": "code",
   "execution_count": null,
   "metadata": {
    "id": "5nv77qoEOdIJ"
   },
   "outputs": [],
   "source": []
  }
 ],
 "metadata": {
  "colab": {
   "collapsed_sections": [],
   "name": "Emotion Recognition model.ipynb",
   "provenance": []
  },
  "kernelspec": {
   "display_name": "Python 3",
   "language": "python",
   "name": "python3"
  },
  "language_info": {
   "codemirror_mode": {
    "name": "ipython",
    "version": 3
   },
   "file_extension": ".py",
   "mimetype": "text/x-python",
   "name": "python",
   "nbconvert_exporter": "python",
   "pygments_lexer": "ipython3",
   "version": "3.11.1"
  }
 },
 "nbformat": 4,
 "nbformat_minor": 1
}
